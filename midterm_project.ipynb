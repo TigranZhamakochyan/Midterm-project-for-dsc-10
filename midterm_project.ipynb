{
 "cells": [
  {
   "cell_type": "markdown",
   "id": "e7d3ff68",
   "metadata": {},
   "source": [
    "### <img src=\"data/images/banner.jpg\" width=100%>\n",
    "\n",
    "Welcome to the Midterm Project! Projects in DSC 10 are similar in format to homeworks, but are different in a few key ways. First, a project is comprehensive, meaning that it draws upon everything we've learned this quarter so far. Second, since problems can vary quite a bit in difficulty, some problems will be worth more points than others. Finally, in a project, the problems are more open-ended; they will usually ask for some result, but won't tell you what method should be used to get it. There might be several equally-valid approaches, and several steps might be necessary. This is closer to how data science is done in \"real life.\"\n",
    "\n",
    "It is important that you **start early** on the project! It will take the place of a homework in the week that it is due, but you should also expect it to take longer than a homework, and you want to leave time to get help in [office hours](https://dsc10.com/calendar/).\n",
    "\n",
    "You are especially encouraged to **find a partner** to work through the project with. If you work in a pair, you must follow the [Project Partner Guidelines](https://dsc10.com/project-partners/) on the course website. In particular, you must work together at the same time, and you are not allowed to split up the project and each work on certain problems. If you work with a partner, only one of you needs to upload your notebook to Gradescope; after uploading, you'll see an option to add the other partner to the submission.\n",
    "\n",
    "**Important:** The `otter` tests don't usually tell you that your answer is correct. More often, they help catch basic mistakes. It's up to you to ensure that your answer is correct. If you're not sure, ask someone (not for the answer, but for some guidance about your approach). Directly sharing answers between groups is not okay, but discussing problems with the course staff or with other students is encouraged.\n",
    "\n",
    "**Avoid looping through DataFrames unless instructed to do so.** Loops in Python are slow, and looping through DataFrames should usually be avoided in favor of the DataFrame methods we've learned in class, which are much faster. **Please do not import any additional packages.** You don't need them, and our autograder may not be able to run your code if you do.\n",
    "\n",
    "As you work through this project, there are a few resources you may want to have open:\n",
    "- [DSC 10 Reference Sheet](https://dsc-courses.github.io/bpd-reference/docs/documentation/intro/)\n",
    "- [`babypandas` notes](https://notes.dsc10.com/front.html)\n",
    "- Other links in the [Resources](https://dsc10.com/resources/) and [Debugging](https://dsc10.com/debugging/) tabs of the course website\n",
    "\n",
    "Start early, good luck, and let's begin! 🏃"
   ]
  },
  {
   "cell_type": "code",
   "execution_count": 1,
   "id": "629b7620",
   "metadata": {},
   "outputs": [],
   "source": [
    "# Please don't change this cell, but make sure to run it.\n",
    "import babypandas as bpd\n",
    "import numpy as np\n",
    "from IPython.display import HTML, display, IFrame, YouTubeVideo, Markdown, clear_output\n",
    "import ipywidgets as widgets\n",
    "\n",
    "import matplotlib.pyplot as plt\n",
    "plt.style.use('ggplot')\n",
    "plt.rcParams[\"figure.figsize\"] = (10, 5)\n",
    "\n",
    "import warnings\n",
    "warnings.filterwarnings(\"ignore\", category=DeprecationWarning)\n",
    "\n",
    "import otter\n",
    "import numbers\n",
    "grader = otter.Notebook()\n",
    "\n",
    "def play_spotify(uri):\n",
    "    code = uri[uri.rfind(':')+1:]\n",
    "    src = f\"https://open.spotify.com/embed/track/{code}\"\n",
    "    width = 400\n",
    "    height = 75\n",
    "    display(IFrame(src, width, height))"
   ]
  },
  {
   "cell_type": "markdown",
   "id": "b5c97fb5",
   "metadata": {},
   "source": [
    "<a id='outline'></a>\n",
    "\n",
    "### Outline \n",
    "\n",
    "The project is divided into four main sections, each of which contains several questions. Use the outline below to help you quickly navigate to the part of the project you're working on. Questions are worth one point each, unless they contain a ⭐️⭐️ next to them, in which case they are worth two points (e.g. **Question 0.3. ⭐️⭐️**). You can expect questions worth two points to be longer and more challenging than questions worth one point.\n",
    "\n",
    "- [Welcome to `tswift`, it's been waitin' for you! 👩‍💻](#section0)\n",
    "- [Section 1: Data Visualization 👀](#section1)\n",
    "- [Section 2:  Song Recommender 🎧](#section2)\n",
    "- [Section 3: Lyric Searcher 🔍](#section3)\n",
    "- [Section 4: Keywords 🔑](#section4)\n",
    "\n",
    "\n",
    "There's also a [Taylor Swift Emoji Quiz 💯](#emojiquiz) at the end of the project, just for fun. Try to identify the Taylor Swift song based on an emoji description, and see how many you can get!"
   ]
  },
  {
   "cell_type": "markdown",
   "id": "6a0d3eef",
   "metadata": {},
   "source": [
    "<a id='section0'></a>\n",
    "## Welcome to `tswift`, it's been waitin' for you! 👩‍💻\n",
    "<small>(<a href=\"#outline\">return to the outline</a>)</small>"
   ]
  },
  {
   "cell_type": "markdown",
   "id": "2173b3f9",
   "metadata": {},
   "source": [
    "In case you've been living under a rock, allow us to introduce you to Taylor Swift, a famous singer, songwriter, and cultural icon. She has set all kinds of records in the music industry, including earning the most American Music Awards in history. She is also the number one most-streamed artist on Spotify, a digital music streaming service. \n",
    "\n",
    "With its origins in country music, Taylor Swift's style has evolved a lot since her 2006 debut album. In her most recent global concert tour, *The Eras Tour*, she guides fans through these musical \"eras\" in a three-hour performance which fans are paying thousands of dollars to attend. The film version of *The Eras Tour* became the highest-grossing concert film in history in just one weekend when it was released in October 2023.\n",
    "\n",
    "<img src=\"data/images/eras.jpg\" width=30%>\n",
    "\n",
    "Chances are, you probably have heard some of Taylor Swift's songs; you might even know the words to all of them. In this project, we'll look at Taylor Swift's songs through the lens of data science. We have data on both the lyrics and audio qualities of Taylor Swift's musical body of work. \n",
    "\n",
    "The datasets we will use contain all songs on each of Taylor Swift's [eleven studio albums](https://en.wikipedia.org/wiki/Taylor_Swift_albums_discography#Studio_albums). We've chosen to use deluxe or extended versions of these albums when available, to include more songs, but we've eliminated duplicate versions of songs, such as acoustic versions and remixes. We've also chosen to include the rerecorded \"[Taylor's Version](https://www.vox.com/culture/22278732/taylor-swift-re-recording-1989-speak-now-enchanted-mine-master-rights-scooter-braun)\" when available. Our datasets don't include Taylor Swift songs that were released as part of movie soundtracks, live recordings, holiday specials, or through any other mechanism.\n",
    "\n",
    "We'll work with two DataFrames throughout the project:\n",
    "- The `lyrics` DataFrame contains the lyrics of each Taylor Swift song.  The data in `lyrics` comes from [Genius](https://genius.com/), \"the world's biggest collection of song lyrics and crowdsourced musical knowledge.\"\n",
    "- The `tswift` DataFrame contains information about the audio features of each song. The data in `tswift` comes from [Spotify](https://open.spotify.com/). \n",
    "\n",
    "Let's start by reading in these DataFrames and taking a look around. Run the cell below to load `lyrics`."
   ]
  },
  {
   "cell_type": "code",
   "execution_count": 2,
   "id": "b9b5cb5d",
   "metadata": {
    "scrolled": true
   },
   "outputs": [
    {
     "data": {
      "text/html": [
       "<div>\n",
       "<style scoped>\n",
       "    .dataframe tbody tr th:only-of-type {\n",
       "        vertical-align: middle;\n",
       "    }\n",
       "\n",
       "    .dataframe tbody tr th {\n",
       "        vertical-align: top;\n",
       "    }\n",
       "\n",
       "    .dataframe thead th {\n",
       "        text-align: right;\n",
       "    }\n",
       "</style>\n",
       "<table border=\"1\" class=\"dataframe\">\n",
       "  <thead>\n",
       "    <tr style=\"text-align: right;\">\n",
       "      <th></th>\n",
       "      <th>Album</th>\n",
       "      <th>Song</th>\n",
       "      <th>Lyrics</th>\n",
       "    </tr>\n",
       "  </thead>\n",
       "  <tbody>\n",
       "    <tr>\n",
       "      <th>0</th>\n",
       "      <td>The Tortured Poets Department</td>\n",
       "      <td>But Daddy I Love Him</td>\n",
       "      <td>I forget how the West was won\\nI forget if thi...</td>\n",
       "    </tr>\n",
       "    <tr>\n",
       "      <th>1</th>\n",
       "      <td>The Tortured Poets Department</td>\n",
       "      <td>Cassandra</td>\n",
       "      <td>I was in my new house placing daydreams\\nPatch...</td>\n",
       "    </tr>\n",
       "    <tr>\n",
       "      <th>2</th>\n",
       "      <td>The Tortured Poets Department</td>\n",
       "      <td>Chloe or Sam or Sophia or Marcus</td>\n",
       "      <td>Your hologram stumbled into my apartment\\nHand...</td>\n",
       "    </tr>\n",
       "    <tr>\n",
       "      <th>3</th>\n",
       "      <td>The Tortured Poets Department</td>\n",
       "      <td>Clara Bow</td>\n",
       "      <td>\"You look like Clara Bow\\nIn this light, remar...</td>\n",
       "    </tr>\n",
       "    <tr>\n",
       "      <th>4</th>\n",
       "      <td>The Tortured Poets Department</td>\n",
       "      <td>Down Bad</td>\n",
       "      <td>Did you really beam me up\\nIn a cloud of spark...</td>\n",
       "    </tr>\n",
       "    <tr>\n",
       "      <th>...</th>\n",
       "      <td>...</td>\n",
       "      <td>...</td>\n",
       "      <td>...</td>\n",
       "    </tr>\n",
       "    <tr>\n",
       "      <th>224</th>\n",
       "      <td>Taylor Swift</td>\n",
       "      <td>Stay Beautiful</td>\n",
       "      <td>Cory's eyes are like a jungle\\nHe smiles, it's...</td>\n",
       "    </tr>\n",
       "    <tr>\n",
       "      <th>225</th>\n",
       "      <td>Taylor Swift</td>\n",
       "      <td>Teardrops On My Guitar</td>\n",
       "      <td>Drew looks at me\\nI fake a smile so he won't s...</td>\n",
       "    </tr>\n",
       "    <tr>\n",
       "      <th>226</th>\n",
       "      <td>Taylor Swift</td>\n",
       "      <td>The Outside</td>\n",
       "      <td>I didn't know what I would find\\nWhen I went l...</td>\n",
       "    </tr>\n",
       "    <tr>\n",
       "      <th>227</th>\n",
       "      <td>Taylor Swift</td>\n",
       "      <td>Tied Together With A Smile</td>\n",
       "      <td>Seems the only one who doesn't see your beauty...</td>\n",
       "    </tr>\n",
       "    <tr>\n",
       "      <th>228</th>\n",
       "      <td>Taylor Swift</td>\n",
       "      <td>Tim McGraw</td>\n",
       "      <td>He said the way my blue eyes shined\\nPut those...</td>\n",
       "    </tr>\n",
       "  </tbody>\n",
       "</table>\n",
       "<p>229 rows × 3 columns</p>\n",
       "</div>"
      ],
      "text/plain": [
       "                             Album                              Song  \\\n",
       "0    The Tortured Poets Department              But Daddy I Love Him   \n",
       "1    The Tortured Poets Department                         Cassandra   \n",
       "2    The Tortured Poets Department  Chloe or Sam or Sophia or Marcus   \n",
       "3    The Tortured Poets Department                         Clara Bow   \n",
       "4    The Tortured Poets Department                          Down Bad   \n",
       "..                             ...                               ...   \n",
       "224                   Taylor Swift                    Stay Beautiful   \n",
       "225                   Taylor Swift            Teardrops On My Guitar   \n",
       "226                   Taylor Swift                       The Outside   \n",
       "227                   Taylor Swift        Tied Together With A Smile   \n",
       "228                   Taylor Swift                        Tim McGraw   \n",
       "\n",
       "                                                Lyrics  \n",
       "0    I forget how the West was won\\nI forget if thi...  \n",
       "1    I was in my new house placing daydreams\\nPatch...  \n",
       "2    Your hologram stumbled into my apartment\\nHand...  \n",
       "3    \"You look like Clara Bow\\nIn this light, remar...  \n",
       "4    Did you really beam me up\\nIn a cloud of spark...  \n",
       "..                                                 ...  \n",
       "224  Cory's eyes are like a jungle\\nHe smiles, it's...  \n",
       "225  Drew looks at me\\nI fake a smile so he won't s...  \n",
       "226  I didn't know what I would find\\nWhen I went l...  \n",
       "227  Seems the only one who doesn't see your beauty...  \n",
       "228  He said the way my blue eyes shined\\nPut those...  \n",
       "\n",
       "[229 rows x 3 columns]"
      ]
     },
     "execution_count": 2,
     "metadata": {},
     "output_type": "execute_result"
    }
   ],
   "source": [
    "lyrics = bpd.read_csv('data/lyrics.csv')\n",
    "lyrics"
   ]
  },
  {
   "cell_type": "markdown",
   "id": "aa9a8026",
   "metadata": {
    "deletable": false,
    "editable": false
   },
   "source": [
    "**Question 0.1.** Choose an appropriate index for `lyrics` and set the index to that column.\n",
    "\n",
    "<!--\n",
    "BEGIN QUESTION\n",
    "name: q0_1\n",
    "points: 1\n",
    "-->"
   ]
  },
  {
   "cell_type": "code",
   "execution_count": 3,
   "id": "652f92d3",
   "metadata": {
    "scrolled": true
   },
   "outputs": [
    {
     "data": {
      "text/html": [
       "<div>\n",
       "<style scoped>\n",
       "    .dataframe tbody tr th:only-of-type {\n",
       "        vertical-align: middle;\n",
       "    }\n",
       "\n",
       "    .dataframe tbody tr th {\n",
       "        vertical-align: top;\n",
       "    }\n",
       "\n",
       "    .dataframe thead th {\n",
       "        text-align: right;\n",
       "    }\n",
       "</style>\n",
       "<table border=\"1\" class=\"dataframe\">\n",
       "  <thead>\n",
       "    <tr style=\"text-align: right;\">\n",
       "      <th></th>\n",
       "      <th>Album</th>\n",
       "      <th>Lyrics</th>\n",
       "    </tr>\n",
       "    <tr>\n",
       "      <th>Song</th>\n",
       "      <th></th>\n",
       "      <th></th>\n",
       "    </tr>\n",
       "  </thead>\n",
       "  <tbody>\n",
       "    <tr>\n",
       "      <th>But Daddy I Love Him</th>\n",
       "      <td>The Tortured Poets Department</td>\n",
       "      <td>I forget how the West was won\\nI forget if thi...</td>\n",
       "    </tr>\n",
       "    <tr>\n",
       "      <th>Cassandra</th>\n",
       "      <td>The Tortured Poets Department</td>\n",
       "      <td>I was in my new house placing daydreams\\nPatch...</td>\n",
       "    </tr>\n",
       "    <tr>\n",
       "      <th>Chloe or Sam or Sophia or Marcus</th>\n",
       "      <td>The Tortured Poets Department</td>\n",
       "      <td>Your hologram stumbled into my apartment\\nHand...</td>\n",
       "    </tr>\n",
       "    <tr>\n",
       "      <th>Clara Bow</th>\n",
       "      <td>The Tortured Poets Department</td>\n",
       "      <td>\"You look like Clara Bow\\nIn this light, remar...</td>\n",
       "    </tr>\n",
       "    <tr>\n",
       "      <th>Down Bad</th>\n",
       "      <td>The Tortured Poets Department</td>\n",
       "      <td>Did you really beam me up\\nIn a cloud of spark...</td>\n",
       "    </tr>\n",
       "    <tr>\n",
       "      <th>...</th>\n",
       "      <td>...</td>\n",
       "      <td>...</td>\n",
       "    </tr>\n",
       "    <tr>\n",
       "      <th>Stay Beautiful</th>\n",
       "      <td>Taylor Swift</td>\n",
       "      <td>Cory's eyes are like a jungle\\nHe smiles, it's...</td>\n",
       "    </tr>\n",
       "    <tr>\n",
       "      <th>Teardrops On My Guitar</th>\n",
       "      <td>Taylor Swift</td>\n",
       "      <td>Drew looks at me\\nI fake a smile so he won't s...</td>\n",
       "    </tr>\n",
       "    <tr>\n",
       "      <th>The Outside</th>\n",
       "      <td>Taylor Swift</td>\n",
       "      <td>I didn't know what I would find\\nWhen I went l...</td>\n",
       "    </tr>\n",
       "    <tr>\n",
       "      <th>Tied Together With A Smile</th>\n",
       "      <td>Taylor Swift</td>\n",
       "      <td>Seems the only one who doesn't see your beauty...</td>\n",
       "    </tr>\n",
       "    <tr>\n",
       "      <th>Tim McGraw</th>\n",
       "      <td>Taylor Swift</td>\n",
       "      <td>He said the way my blue eyes shined\\nPut those...</td>\n",
       "    </tr>\n",
       "  </tbody>\n",
       "</table>\n",
       "<p>229 rows × 2 columns</p>\n",
       "</div>"
      ],
      "text/plain": [
       "                                                          Album  \\\n",
       "Song                                                              \n",
       "But Daddy I Love Him              The Tortured Poets Department   \n",
       "Cassandra                         The Tortured Poets Department   \n",
       "Chloe or Sam or Sophia or Marcus  The Tortured Poets Department   \n",
       "Clara Bow                         The Tortured Poets Department   \n",
       "Down Bad                          The Tortured Poets Department   \n",
       "...                                                         ...   \n",
       "Stay Beautiful                                     Taylor Swift   \n",
       "Teardrops On My Guitar                             Taylor Swift   \n",
       "The Outside                                        Taylor Swift   \n",
       "Tied Together With A Smile                         Taylor Swift   \n",
       "Tim McGraw                                         Taylor Swift   \n",
       "\n",
       "                                                                             Lyrics  \n",
       "Song                                                                                 \n",
       "But Daddy I Love Him              I forget how the West was won\\nI forget if thi...  \n",
       "Cassandra                         I was in my new house placing daydreams\\nPatch...  \n",
       "Chloe or Sam or Sophia or Marcus  Your hologram stumbled into my apartment\\nHand...  \n",
       "Clara Bow                         \"You look like Clara Bow\\nIn this light, remar...  \n",
       "Down Bad                          Did you really beam me up\\nIn a cloud of spark...  \n",
       "...                                                                             ...  \n",
       "Stay Beautiful                    Cory's eyes are like a jungle\\nHe smiles, it's...  \n",
       "Teardrops On My Guitar            Drew looks at me\\nI fake a smile so he won't s...  \n",
       "The Outside                       I didn't know what I would find\\nWhen I went l...  \n",
       "Tied Together With A Smile        Seems the only one who doesn't see your beauty...  \n",
       "Tim McGraw                        He said the way my blue eyes shined\\nPut those...  \n",
       "\n",
       "[229 rows x 2 columns]"
      ]
     },
     "execution_count": 3,
     "metadata": {},
     "output_type": "execute_result"
    }
   ],
   "source": [
    "lyrics = lyrics.set_index('Song')\n",
    "lyrics"
   ]
  },
  {
   "cell_type": "code",
   "execution_count": 4,
   "id": "7ca218b3",
   "metadata": {
    "deletable": false,
    "editable": false
   },
   "outputs": [
    {
     "data": {
      "text/html": [
       "<p><strong><pre style='display: inline;'>q0_1</pre></strong> passed!</p>"
      ],
      "text/plain": [
       "q0_1 results: All test cases passed!"
      ]
     },
     "execution_count": 4,
     "metadata": {},
     "output_type": "execute_result"
    }
   ],
   "source": [
    "grader.check(\"q0_1\")"
   ]
  },
  {
   "cell_type": "markdown",
   "id": "34802a7a",
   "metadata": {
    "deletable": false,
    "editable": false
   },
   "source": [
    "**Question 0.2.** Set `mastermind` to the lyrics of the song `'Mastermind'`. Compare what happens when you display the value of `mastermind` versus print `mastermind`.\n",
    "\n",
    "<!--\n",
    "BEGIN QUESTION\n",
    "name: q0_2\n",
    "points: 1\n",
    "-->"
   ]
  },
  {
   "cell_type": "code",
   "execution_count": 5,
   "id": "8e88da97",
   "metadata": {
    "scrolled": true
   },
   "outputs": [
    {
     "data": {
      "text/plain": [
       "\"Once upon a time, the planets and the fates\\nAnd all the stars aligned\\nYou and I ended up in the same room\\nAt the same time\\n\\nAnd the touch of a hand lit the fuse\\nOf a chain reaction of countermoves\\nTo assess the equation of you\\nCheckmate, I couldn't lose\\n\\nWhat if I told you none of it was accidental?\\nAnd the first night that you saw me\\nNothing was gonna stop me\\nI laid the groundwork, and then\\nJust like clockwork\\nThe dominoes cascaded in a line\\nWhat if I told you I'm a mastermind?\\nAnd now you're mine\\nIt was all by dеsign\\n'Cause I'm a mastermind\\n\\nYou see, all the wisеst women\\nHad to do it this way\\n'Cause we were born to be the pawn\\nIn every lover's game\\n\\nIf you fail to plan, you plan to fail\\nStrategy sets the scene for the tale\\nI'm the wind in our free-flowing sails\\nAnd the liquor in our cocktails\\n\\nWhat if I told you none of it was accidental?\\nAnd the first night that you saw me\\nI knew I wanted your body\\nI laid the groundwork, and then\\nJust like clockwork\\nThe dominoes cascaded in a line\\nWhat if I told you I'm a mastermind?\\nAnd now you're mine\\nIt was all my design\\n'Cause I'm a mastermind\\n\\nNo one wanted to play with me as a little kid\\nSo I've been scheming like a criminal ever since\\nTo make them love me and make it seem effortless\\nThis is the first time I've felt the need to confess\\nAnd I swear\\nI'm only cryptic and Machiavellian\\n'Cause I care\\n\\nSo I told you none of it was accidental\\nAnd the first night that you saw me\\nNothing was gonna stop me\\nI laid the groundwork, and then\\nSaw a wide smirk on your face\\nYou knew the entire time\\nYou knew that I'm a mastermind\\nAnd now you're mine\\nYeah, all you did was smile\\n'Cause I'm a mastermind\""
      ]
     },
     "execution_count": 5,
     "metadata": {},
     "output_type": "execute_result"
    }
   ],
   "source": [
    "mastermind = lyrics.loc['Mastermind'].get('Lyrics')\n",
    "mastermind"
   ]
  },
  {
   "cell_type": "code",
   "execution_count": 6,
   "id": "99af162a",
   "metadata": {
    "deletable": false,
    "editable": false
   },
   "outputs": [
    {
     "data": {
      "text/html": [
       "<p><strong><pre style='display: inline;'>q0_2</pre></strong> passed!</p>"
      ],
      "text/plain": [
       "q0_2 results: All test cases passed!"
      ]
     },
     "execution_count": 6,
     "metadata": {},
     "output_type": "execute_result"
    }
   ],
   "source": [
    "grader.check(\"q0_2\")"
   ]
  },
  {
   "cell_type": "markdown",
   "id": "f11d88f1",
   "metadata": {},
   "source": [
    "Since the lyrics data is all text, you'll be working a lot with strings throughout this project. Make sure to review the [available string methods](https://docs.python.org/3/library/stdtypes.html#string-methods) so you know how to work with the lyrics data effectively.\n",
    "\n",
    "Next, let's look at the `tswift` DataFrame. Run the cell below to load in the DataFrame and take a look around. Songs are ordered by `'Popularity'`."
   ]
  },
  {
   "cell_type": "code",
   "execution_count": 7,
   "id": "6479ebcd",
   "metadata": {
    "scrolled": true
   },
   "outputs": [
    {
     "data": {
      "text/html": [
       "<div>\n",
       "<style scoped>\n",
       "    .dataframe tbody tr th:only-of-type {\n",
       "        vertical-align: middle;\n",
       "    }\n",
       "\n",
       "    .dataframe tbody tr th {\n",
       "        vertical-align: top;\n",
       "    }\n",
       "\n",
       "    .dataframe thead th {\n",
       "        text-align: right;\n",
       "    }\n",
       "</style>\n",
       "<table border=\"1\" class=\"dataframe\">\n",
       "  <thead>\n",
       "    <tr style=\"text-align: right;\">\n",
       "      <th></th>\n",
       "      <th>URI</th>\n",
       "      <th>Album</th>\n",
       "      <th>Song Name</th>\n",
       "      <th>Popularity</th>\n",
       "      <th>Disc Number</th>\n",
       "      <th>Track Number</th>\n",
       "      <th>Explicit</th>\n",
       "      <th>Danceability</th>\n",
       "      <th>Energy</th>\n",
       "      <th>Key</th>\n",
       "      <th>Loudness</th>\n",
       "      <th>Mode</th>\n",
       "      <th>Speechiness</th>\n",
       "      <th>Acousticness</th>\n",
       "      <th>Instrumentalness</th>\n",
       "      <th>Liveness</th>\n",
       "      <th>Valence</th>\n",
       "      <th>Tempo</th>\n",
       "      <th>Duration_ms</th>\n",
       "      <th>Time Signature</th>\n",
       "    </tr>\n",
       "  </thead>\n",
       "  <tbody>\n",
       "    <tr>\n",
       "      <th>0</th>\n",
       "      <td>1BxfuPKGuaTgP7aM0Bbdwr</td>\n",
       "      <td>Lover</td>\n",
       "      <td>Cruel Summer</td>\n",
       "      <td>90</td>\n",
       "      <td>1</td>\n",
       "      <td>2</td>\n",
       "      <td>False</td>\n",
       "      <td>0.552</td>\n",
       "      <td>0.702</td>\n",
       "      <td>9</td>\n",
       "      <td>-5.707</td>\n",
       "      <td>1</td>\n",
       "      <td>0.1570</td>\n",
       "      <td>0.11700</td>\n",
       "      <td>0.000021</td>\n",
       "      <td>0.1050</td>\n",
       "      <td>0.564</td>\n",
       "      <td>169.994</td>\n",
       "      <td>178427</td>\n",
       "      <td>4</td>\n",
       "    </tr>\n",
       "    <tr>\n",
       "      <th>1</th>\n",
       "      <td>2OzhQlSqBEmt7hmkYxfT6m</td>\n",
       "      <td>The Tortured Poets Department</td>\n",
       "      <td>Fortnight (Ft. Post Malone)</td>\n",
       "      <td>86</td>\n",
       "      <td>1</td>\n",
       "      <td>1</td>\n",
       "      <td>False</td>\n",
       "      <td>0.504</td>\n",
       "      <td>0.386</td>\n",
       "      <td>11</td>\n",
       "      <td>-10.976</td>\n",
       "      <td>1</td>\n",
       "      <td>0.0308</td>\n",
       "      <td>0.50200</td>\n",
       "      <td>0.000015</td>\n",
       "      <td>0.0961</td>\n",
       "      <td>0.281</td>\n",
       "      <td>192.004</td>\n",
       "      <td>228965</td>\n",
       "      <td>4</td>\n",
       "    </tr>\n",
       "    <tr>\n",
       "      <th>2</th>\n",
       "      <td>1dGr1c8CrMLDpV6mPbImSI</td>\n",
       "      <td>Lover</td>\n",
       "      <td>Lover</td>\n",
       "      <td>85</td>\n",
       "      <td>1</td>\n",
       "      <td>3</td>\n",
       "      <td>False</td>\n",
       "      <td>0.359</td>\n",
       "      <td>0.543</td>\n",
       "      <td>7</td>\n",
       "      <td>-7.582</td>\n",
       "      <td>1</td>\n",
       "      <td>0.0919</td>\n",
       "      <td>0.49200</td>\n",
       "      <td>0.000016</td>\n",
       "      <td>0.1180</td>\n",
       "      <td>0.453</td>\n",
       "      <td>68.534</td>\n",
       "      <td>221307</td>\n",
       "      <td>4</td>\n",
       "    </tr>\n",
       "    <tr>\n",
       "      <th>3</th>\n",
       "      <td>3hUxzQpSfdDqwM3ZTFQY0K</td>\n",
       "      <td>folklore</td>\n",
       "      <td>august</td>\n",
       "      <td>85</td>\n",
       "      <td>1</td>\n",
       "      <td>8</td>\n",
       "      <td>False</td>\n",
       "      <td>0.532</td>\n",
       "      <td>0.623</td>\n",
       "      <td>5</td>\n",
       "      <td>-9.208</td>\n",
       "      <td>1</td>\n",
       "      <td>0.0331</td>\n",
       "      <td>0.53800</td>\n",
       "      <td>0.000073</td>\n",
       "      <td>0.0925</td>\n",
       "      <td>0.403</td>\n",
       "      <td>89.937</td>\n",
       "      <td>261923</td>\n",
       "      <td>4</td>\n",
       "    </tr>\n",
       "    <tr>\n",
       "      <th>4</th>\n",
       "      <td>4R2kfaDFhslZEMJqAFNpdd</td>\n",
       "      <td>folklore</td>\n",
       "      <td>cardigan</td>\n",
       "      <td>84</td>\n",
       "      <td>1</td>\n",
       "      <td>2</td>\n",
       "      <td>False</td>\n",
       "      <td>0.613</td>\n",
       "      <td>0.581</td>\n",
       "      <td>0</td>\n",
       "      <td>-8.588</td>\n",
       "      <td>0</td>\n",
       "      <td>0.0424</td>\n",
       "      <td>0.53700</td>\n",
       "      <td>0.000345</td>\n",
       "      <td>0.2500</td>\n",
       "      <td>0.551</td>\n",
       "      <td>130.033</td>\n",
       "      <td>239560</td>\n",
       "      <td>4</td>\n",
       "    </tr>\n",
       "    <tr>\n",
       "      <th>...</th>\n",
       "      <td>...</td>\n",
       "      <td>...</td>\n",
       "      <td>...</td>\n",
       "      <td>...</td>\n",
       "      <td>...</td>\n",
       "      <td>...</td>\n",
       "      <td>...</td>\n",
       "      <td>...</td>\n",
       "      <td>...</td>\n",
       "      <td>...</td>\n",
       "      <td>...</td>\n",
       "      <td>...</td>\n",
       "      <td>...</td>\n",
       "      <td>...</td>\n",
       "      <td>...</td>\n",
       "      <td>...</td>\n",
       "      <td>...</td>\n",
       "      <td>...</td>\n",
       "      <td>...</td>\n",
       "      <td>...</td>\n",
       "    </tr>\n",
       "    <tr>\n",
       "      <th>224</th>\n",
       "      <td>2ZoOmCSgj0ypVAmGd1ve4y</td>\n",
       "      <td>Taylor Swift</td>\n",
       "      <td>Stay Beautiful</td>\n",
       "      <td>50</td>\n",
       "      <td>1</td>\n",
       "      <td>8</td>\n",
       "      <td>False</td>\n",
       "      <td>0.594</td>\n",
       "      <td>0.629</td>\n",
       "      <td>8</td>\n",
       "      <td>-4.919</td>\n",
       "      <td>1</td>\n",
       "      <td>0.0246</td>\n",
       "      <td>0.08680</td>\n",
       "      <td>0.000000</td>\n",
       "      <td>0.1370</td>\n",
       "      <td>0.504</td>\n",
       "      <td>131.597</td>\n",
       "      <td>236053</td>\n",
       "      <td>4</td>\n",
       "    </tr>\n",
       "    <tr>\n",
       "      <th>225</th>\n",
       "      <td>6K0CJLVXqbGMeJSmJ4ENKK</td>\n",
       "      <td>Taylor Swift</td>\n",
       "      <td>Tied Together With A Smile</td>\n",
       "      <td>50</td>\n",
       "      <td>1</td>\n",
       "      <td>7</td>\n",
       "      <td>False</td>\n",
       "      <td>0.479</td>\n",
       "      <td>0.578</td>\n",
       "      <td>2</td>\n",
       "      <td>-4.963</td>\n",
       "      <td>1</td>\n",
       "      <td>0.0294</td>\n",
       "      <td>0.52500</td>\n",
       "      <td>0.000000</td>\n",
       "      <td>0.0841</td>\n",
       "      <td>0.192</td>\n",
       "      <td>146.165</td>\n",
       "      <td>248107</td>\n",
       "      <td>4</td>\n",
       "    </tr>\n",
       "    <tr>\n",
       "      <th>226</th>\n",
       "      <td>2QA3IixpRcKyOdG7XDzRgv</td>\n",
       "      <td>Taylor Swift</td>\n",
       "      <td>The Outside</td>\n",
       "      <td>49</td>\n",
       "      <td>1</td>\n",
       "      <td>6</td>\n",
       "      <td>False</td>\n",
       "      <td>0.589</td>\n",
       "      <td>0.805</td>\n",
       "      <td>5</td>\n",
       "      <td>-4.055</td>\n",
       "      <td>1</td>\n",
       "      <td>0.0293</td>\n",
       "      <td>0.00491</td>\n",
       "      <td>0.000000</td>\n",
       "      <td>0.2400</td>\n",
       "      <td>0.591</td>\n",
       "      <td>112.982</td>\n",
       "      <td>207107</td>\n",
       "      <td>4</td>\n",
       "    </tr>\n",
       "    <tr>\n",
       "      <th>227</th>\n",
       "      <td>5OOd01o2YS1QFwdpVLds3r</td>\n",
       "      <td>Taylor Swift</td>\n",
       "      <td>Invisible</td>\n",
       "      <td>49</td>\n",
       "      <td>1</td>\n",
       "      <td>13</td>\n",
       "      <td>False</td>\n",
       "      <td>0.612</td>\n",
       "      <td>0.394</td>\n",
       "      <td>7</td>\n",
       "      <td>-5.723</td>\n",
       "      <td>1</td>\n",
       "      <td>0.0243</td>\n",
       "      <td>0.63700</td>\n",
       "      <td>0.000000</td>\n",
       "      <td>0.1470</td>\n",
       "      <td>0.233</td>\n",
       "      <td>96.001</td>\n",
       "      <td>203227</td>\n",
       "      <td>4</td>\n",
       "    </tr>\n",
       "    <tr>\n",
       "      <th>228</th>\n",
       "      <td>1spLfUJxtyVyiKKTegQ2r4</td>\n",
       "      <td>Taylor Swift</td>\n",
       "      <td>A Perfectly Good Heart</td>\n",
       "      <td>48</td>\n",
       "      <td>1</td>\n",
       "      <td>14</td>\n",
       "      <td>False</td>\n",
       "      <td>0.483</td>\n",
       "      <td>0.751</td>\n",
       "      <td>4</td>\n",
       "      <td>-5.726</td>\n",
       "      <td>1</td>\n",
       "      <td>0.0365</td>\n",
       "      <td>0.00349</td>\n",
       "      <td>0.000000</td>\n",
       "      <td>0.1280</td>\n",
       "      <td>0.268</td>\n",
       "      <td>156.092</td>\n",
       "      <td>220147</td>\n",
       "      <td>4</td>\n",
       "    </tr>\n",
       "  </tbody>\n",
       "</table>\n",
       "<p>229 rows × 20 columns</p>\n",
       "</div>"
      ],
      "text/plain": [
       "                        URI                          Album  \\\n",
       "0    1BxfuPKGuaTgP7aM0Bbdwr                          Lover   \n",
       "1    2OzhQlSqBEmt7hmkYxfT6m  The Tortured Poets Department   \n",
       "2    1dGr1c8CrMLDpV6mPbImSI                          Lover   \n",
       "3    3hUxzQpSfdDqwM3ZTFQY0K                       folklore   \n",
       "4    4R2kfaDFhslZEMJqAFNpdd                       folklore   \n",
       "..                      ...                            ...   \n",
       "224  2ZoOmCSgj0ypVAmGd1ve4y                   Taylor Swift   \n",
       "225  6K0CJLVXqbGMeJSmJ4ENKK                   Taylor Swift   \n",
       "226  2QA3IixpRcKyOdG7XDzRgv                   Taylor Swift   \n",
       "227  5OOd01o2YS1QFwdpVLds3r                   Taylor Swift   \n",
       "228  1spLfUJxtyVyiKKTegQ2r4                   Taylor Swift   \n",
       "\n",
       "                       Song Name  Popularity  Disc Number  Track Number  \\\n",
       "0                   Cruel Summer          90            1             2   \n",
       "1    Fortnight (Ft. Post Malone)          86            1             1   \n",
       "2                          Lover          85            1             3   \n",
       "3                         august          85            1             8   \n",
       "4                       cardigan          84            1             2   \n",
       "..                           ...         ...          ...           ...   \n",
       "224               Stay Beautiful          50            1             8   \n",
       "225   Tied Together With A Smile          50            1             7   \n",
       "226                  The Outside          49            1             6   \n",
       "227                    Invisible          49            1            13   \n",
       "228       A Perfectly Good Heart          48            1            14   \n",
       "\n",
       "     Explicit  Danceability  Energy  Key  Loudness  Mode  Speechiness  \\\n",
       "0       False         0.552   0.702    9    -5.707     1       0.1570   \n",
       "1       False         0.504   0.386   11   -10.976     1       0.0308   \n",
       "2       False         0.359   0.543    7    -7.582     1       0.0919   \n",
       "3       False         0.532   0.623    5    -9.208     1       0.0331   \n",
       "4       False         0.613   0.581    0    -8.588     0       0.0424   \n",
       "..        ...           ...     ...  ...       ...   ...          ...   \n",
       "224     False         0.594   0.629    8    -4.919     1       0.0246   \n",
       "225     False         0.479   0.578    2    -4.963     1       0.0294   \n",
       "226     False         0.589   0.805    5    -4.055     1       0.0293   \n",
       "227     False         0.612   0.394    7    -5.723     1       0.0243   \n",
       "228     False         0.483   0.751    4    -5.726     1       0.0365   \n",
       "\n",
       "     Acousticness  Instrumentalness  Liveness  Valence    Tempo  Duration_ms  \\\n",
       "0         0.11700          0.000021    0.1050    0.564  169.994       178427   \n",
       "1         0.50200          0.000015    0.0961    0.281  192.004       228965   \n",
       "2         0.49200          0.000016    0.1180    0.453   68.534       221307   \n",
       "3         0.53800          0.000073    0.0925    0.403   89.937       261923   \n",
       "4         0.53700          0.000345    0.2500    0.551  130.033       239560   \n",
       "..            ...               ...       ...      ...      ...          ...   \n",
       "224       0.08680          0.000000    0.1370    0.504  131.597       236053   \n",
       "225       0.52500          0.000000    0.0841    0.192  146.165       248107   \n",
       "226       0.00491          0.000000    0.2400    0.591  112.982       207107   \n",
       "227       0.63700          0.000000    0.1470    0.233   96.001       203227   \n",
       "228       0.00349          0.000000    0.1280    0.268  156.092       220147   \n",
       "\n",
       "     Time Signature  \n",
       "0                 4  \n",
       "1                 4  \n",
       "2                 4  \n",
       "3                 4  \n",
       "4                 4  \n",
       "..              ...  \n",
       "224               4  \n",
       "225               4  \n",
       "226               4  \n",
       "227               4  \n",
       "228               4  \n",
       "\n",
       "[229 rows x 20 columns]"
      ]
     },
     "execution_count": 7,
     "metadata": {},
     "output_type": "execute_result"
    }
   ],
   "source": [
    "tswift = bpd.read_csv('data/tswift.csv')\n",
    "tswift"
   ]
  },
  {
   "cell_type": "markdown",
   "id": "58369c95",
   "metadata": {},
   "source": [
    "`tswift` contains a lot of information! We've used the [documentation](https://developer.spotify.com/documentation/web-api/reference/#/operations/get-several-audio-features) provided by Spotify to create the table below, which describes the columns present in `tswift` and what they represent. Note that many of these features (such as `'Valence'`) are defined and determined by Spotify. We have no way of knowing exactly how they determine the values of these audio features for each song, as their algorithms are proprietary.\n",
    "\n",
    "| Variable Name | Data Type | Explanation |\n",
    "| -------- | ------- | ------- |\n",
    "| `'URI'`  | str | Unique identifier for the song in Spotify. |\n",
    "| `'Album'`  | str | Album name. |\n",
    "| `'Song Name'`  | str | Song name. |\n",
    "| `'Disc Number'`  | int | Disc number, usually 1 unless the album contains more than 1 disc. |\n",
    "| `'Track Number'`  | int | The number of the track on the specified disc. |\n",
    "| `'Popularity'`  | int | 0 to 100 scale of the current popularity of the song. |\n",
    "| `'Explicit'`  | bool | True if the song contains explicit words, False otherwise. |\n",
    "| `'Danceability'`  | float | 0 to 1 scale of how suitable a track is for dancing. |\n",
    "| `'Energy'`  | float | 0 to 1 scale of a track's activity and intensity. |\n",
    "| `'Key'`  | int | The average key/pitch of a track, where 0 = C, 1 = C#/Db, 2 = D, and so on. |\n",
    "| `'Loudness'`  | float | The average loudness of a track, measured on a relative scale in decibels. Values typically range between -60 (softer) and 0 (louder). |\n",
    "| `'Mode'`  | int | Either 0 for a minor key, or 1 for a major key.|\n",
    "| `'Speechiness'`  | float | 0 to 1 scale measuring the prevalence of spoken words. |\n",
    "| `'Acousticness'`  | float | 0 to 1 scale measuring how likely a track is to be acoustic. |\n",
    "| `'Instrumentalness'`  | float | 0 to 1 scale measuring how likely a track is to be instrumental (without vocals). |\n",
    "| `'Liveness'`  | float | 0 to 1 scale measuring how likely a track is to have been recorded with a live audience.|\n",
    "| `'Valence'`  | float | 0 to 1 scale of how positive or happy a track is. |\n",
    "| `'Tempo'`  | float | The estimated number of beats per minute. |\n",
    "| `'Duration_ms'`  | int | Length of song in milliseconds. |\n",
    "| `'Time Signature'`  | int | The number of beats in each bar (or measure). |"
   ]
  },
  {
   "cell_type": "markdown",
   "id": "fecec6f9",
   "metadata": {},
   "source": [
    "One piece of information we'd like to have in `tswift`, which is currently missing, is the year in which each album was released. This variable would allow us to explore trends over time. The `albums` DataFrame contains the information we need. Run the next cell to load it in."
   ]
  },
  {
   "cell_type": "code",
   "execution_count": 8,
   "id": "b08e3945",
   "metadata": {
    "scrolled": true
   },
   "outputs": [
    {
     "data": {
      "text/html": [
       "<div>\n",
       "<style scoped>\n",
       "    .dataframe tbody tr th:only-of-type {\n",
       "        vertical-align: middle;\n",
       "    }\n",
       "\n",
       "    .dataframe tbody tr th {\n",
       "        vertical-align: top;\n",
       "    }\n",
       "\n",
       "    .dataframe thead th {\n",
       "        text-align: right;\n",
       "    }\n",
       "</style>\n",
       "<table border=\"1\" class=\"dataframe\">\n",
       "  <thead>\n",
       "    <tr style=\"text-align: right;\">\n",
       "      <th></th>\n",
       "      <th>Album</th>\n",
       "      <th>Release Date</th>\n",
       "    </tr>\n",
       "  </thead>\n",
       "  <tbody>\n",
       "    <tr>\n",
       "      <th>0</th>\n",
       "      <td>Taylor Swift</td>\n",
       "      <td>October 24, 2006</td>\n",
       "    </tr>\n",
       "    <tr>\n",
       "      <th>1</th>\n",
       "      <td>Fearless</td>\n",
       "      <td>November 11, 2008</td>\n",
       "    </tr>\n",
       "    <tr>\n",
       "      <th>2</th>\n",
       "      <td>Speak Now</td>\n",
       "      <td>October 25, 2010</td>\n",
       "    </tr>\n",
       "    <tr>\n",
       "      <th>3</th>\n",
       "      <td>Red</td>\n",
       "      <td>October 22, 2012</td>\n",
       "    </tr>\n",
       "    <tr>\n",
       "      <th>4</th>\n",
       "      <td>1989</td>\n",
       "      <td>October 27, 2014</td>\n",
       "    </tr>\n",
       "    <tr>\n",
       "      <th>...</th>\n",
       "      <td>...</td>\n",
       "      <td>...</td>\n",
       "    </tr>\n",
       "    <tr>\n",
       "      <th>6</th>\n",
       "      <td>Lover</td>\n",
       "      <td>August 23, 2019</td>\n",
       "    </tr>\n",
       "    <tr>\n",
       "      <th>7</th>\n",
       "      <td>folklore</td>\n",
       "      <td>July 24, 2020</td>\n",
       "    </tr>\n",
       "    <tr>\n",
       "      <th>8</th>\n",
       "      <td>evermore</td>\n",
       "      <td>December 11, 2020</td>\n",
       "    </tr>\n",
       "    <tr>\n",
       "      <th>9</th>\n",
       "      <td>Midnights</td>\n",
       "      <td>October 21, 2022</td>\n",
       "    </tr>\n",
       "    <tr>\n",
       "      <th>10</th>\n",
       "      <td>The Tortured Poets Department</td>\n",
       "      <td>April 19, 2024</td>\n",
       "    </tr>\n",
       "  </tbody>\n",
       "</table>\n",
       "<p>11 rows × 2 columns</p>\n",
       "</div>"
      ],
      "text/plain": [
       "                            Album       Release Date\n",
       "0                    Taylor Swift   October 24, 2006\n",
       "1                        Fearless  November 11, 2008\n",
       "2                       Speak Now   October 25, 2010\n",
       "3                             Red   October 22, 2012\n",
       "4                            1989   October 27, 2014\n",
       "..                            ...                ...\n",
       "6                           Lover    August 23, 2019\n",
       "7                        folklore      July 24, 2020\n",
       "8                        evermore  December 11, 2020\n",
       "9                       Midnights   October 21, 2022\n",
       "10  The Tortured Poets Department     April 19, 2024\n",
       "\n",
       "[11 rows x 2 columns]"
      ]
     },
     "execution_count": 8,
     "metadata": {},
     "output_type": "execute_result"
    }
   ],
   "source": [
    "albums = bpd.read_csv('data/albums.csv')\n",
    "albums"
   ]
  },
  {
   "cell_type": "markdown",
   "id": "3e6d62de",
   "metadata": {},
   "source": [
    "**Question 0.3.** ⭐⭐ Add a column to `tswift` called `'Year'` that contains the year of each song's release, as an int, based on the data in `albums`. \n",
    "\n",
    "***Note:*** This problem has two stars because it's a multi-step, more challenging problem. Take it one step at a time. Feel free to create additional cells."
   ]
  },
  {
   "cell_type": "code",
   "execution_count": 9,
   "id": "74214d54",
   "metadata": {
    "scrolled": true
   },
   "outputs": [
    {
     "data": {
      "text/html": [
       "<div>\n",
       "<style scoped>\n",
       "    .dataframe tbody tr th:only-of-type {\n",
       "        vertical-align: middle;\n",
       "    }\n",
       "\n",
       "    .dataframe tbody tr th {\n",
       "        vertical-align: top;\n",
       "    }\n",
       "\n",
       "    .dataframe thead th {\n",
       "        text-align: right;\n",
       "    }\n",
       "</style>\n",
       "<table border=\"1\" class=\"dataframe\">\n",
       "  <thead>\n",
       "    <tr style=\"text-align: right;\">\n",
       "      <th></th>\n",
       "      <th>URI</th>\n",
       "      <th>Album</th>\n",
       "      <th>Song Name</th>\n",
       "      <th>Popularity</th>\n",
       "      <th>Disc Number</th>\n",
       "      <th>Track Number</th>\n",
       "      <th>Explicit</th>\n",
       "      <th>Danceability</th>\n",
       "      <th>Energy</th>\n",
       "      <th>Key</th>\n",
       "      <th>...</th>\n",
       "      <th>Mode</th>\n",
       "      <th>Speechiness</th>\n",
       "      <th>Acousticness</th>\n",
       "      <th>Instrumentalness</th>\n",
       "      <th>Liveness</th>\n",
       "      <th>Valence</th>\n",
       "      <th>Tempo</th>\n",
       "      <th>Duration_ms</th>\n",
       "      <th>Time Signature</th>\n",
       "      <th>Year</th>\n",
       "    </tr>\n",
       "  </thead>\n",
       "  <tbody>\n",
       "    <tr>\n",
       "      <th>0</th>\n",
       "      <td>1BxfuPKGuaTgP7aM0Bbdwr</td>\n",
       "      <td>Lover</td>\n",
       "      <td>Cruel Summer</td>\n",
       "      <td>90</td>\n",
       "      <td>1</td>\n",
       "      <td>2</td>\n",
       "      <td>False</td>\n",
       "      <td>0.552</td>\n",
       "      <td>0.702</td>\n",
       "      <td>9</td>\n",
       "      <td>...</td>\n",
       "      <td>1</td>\n",
       "      <td>0.1570</td>\n",
       "      <td>0.11700</td>\n",
       "      <td>0.000021</td>\n",
       "      <td>0.1050</td>\n",
       "      <td>0.564</td>\n",
       "      <td>169.994</td>\n",
       "      <td>178427</td>\n",
       "      <td>4</td>\n",
       "      <td>2019</td>\n",
       "    </tr>\n",
       "    <tr>\n",
       "      <th>1</th>\n",
       "      <td>2OzhQlSqBEmt7hmkYxfT6m</td>\n",
       "      <td>The Tortured Poets Department</td>\n",
       "      <td>Fortnight (Ft. Post Malone)</td>\n",
       "      <td>86</td>\n",
       "      <td>1</td>\n",
       "      <td>1</td>\n",
       "      <td>False</td>\n",
       "      <td>0.504</td>\n",
       "      <td>0.386</td>\n",
       "      <td>11</td>\n",
       "      <td>...</td>\n",
       "      <td>1</td>\n",
       "      <td>0.0308</td>\n",
       "      <td>0.50200</td>\n",
       "      <td>0.000015</td>\n",
       "      <td>0.0961</td>\n",
       "      <td>0.281</td>\n",
       "      <td>192.004</td>\n",
       "      <td>228965</td>\n",
       "      <td>4</td>\n",
       "      <td>2019</td>\n",
       "    </tr>\n",
       "    <tr>\n",
       "      <th>2</th>\n",
       "      <td>1dGr1c8CrMLDpV6mPbImSI</td>\n",
       "      <td>Lover</td>\n",
       "      <td>Lover</td>\n",
       "      <td>85</td>\n",
       "      <td>1</td>\n",
       "      <td>3</td>\n",
       "      <td>False</td>\n",
       "      <td>0.359</td>\n",
       "      <td>0.543</td>\n",
       "      <td>7</td>\n",
       "      <td>...</td>\n",
       "      <td>1</td>\n",
       "      <td>0.0919</td>\n",
       "      <td>0.49200</td>\n",
       "      <td>0.000016</td>\n",
       "      <td>0.1180</td>\n",
       "      <td>0.453</td>\n",
       "      <td>68.534</td>\n",
       "      <td>221307</td>\n",
       "      <td>4</td>\n",
       "      <td>2019</td>\n",
       "    </tr>\n",
       "    <tr>\n",
       "      <th>3</th>\n",
       "      <td>3hUxzQpSfdDqwM3ZTFQY0K</td>\n",
       "      <td>folklore</td>\n",
       "      <td>august</td>\n",
       "      <td>85</td>\n",
       "      <td>1</td>\n",
       "      <td>8</td>\n",
       "      <td>False</td>\n",
       "      <td>0.532</td>\n",
       "      <td>0.623</td>\n",
       "      <td>5</td>\n",
       "      <td>...</td>\n",
       "      <td>1</td>\n",
       "      <td>0.0331</td>\n",
       "      <td>0.53800</td>\n",
       "      <td>0.000073</td>\n",
       "      <td>0.0925</td>\n",
       "      <td>0.403</td>\n",
       "      <td>89.937</td>\n",
       "      <td>261923</td>\n",
       "      <td>4</td>\n",
       "      <td>2019</td>\n",
       "    </tr>\n",
       "    <tr>\n",
       "      <th>4</th>\n",
       "      <td>4R2kfaDFhslZEMJqAFNpdd</td>\n",
       "      <td>folklore</td>\n",
       "      <td>cardigan</td>\n",
       "      <td>84</td>\n",
       "      <td>1</td>\n",
       "      <td>2</td>\n",
       "      <td>False</td>\n",
       "      <td>0.613</td>\n",
       "      <td>0.581</td>\n",
       "      <td>0</td>\n",
       "      <td>...</td>\n",
       "      <td>0</td>\n",
       "      <td>0.0424</td>\n",
       "      <td>0.53700</td>\n",
       "      <td>0.000345</td>\n",
       "      <td>0.2500</td>\n",
       "      <td>0.551</td>\n",
       "      <td>130.033</td>\n",
       "      <td>239560</td>\n",
       "      <td>4</td>\n",
       "      <td>2019</td>\n",
       "    </tr>\n",
       "    <tr>\n",
       "      <th>...</th>\n",
       "      <td>...</td>\n",
       "      <td>...</td>\n",
       "      <td>...</td>\n",
       "      <td>...</td>\n",
       "      <td>...</td>\n",
       "      <td>...</td>\n",
       "      <td>...</td>\n",
       "      <td>...</td>\n",
       "      <td>...</td>\n",
       "      <td>...</td>\n",
       "      <td>...</td>\n",
       "      <td>...</td>\n",
       "      <td>...</td>\n",
       "      <td>...</td>\n",
       "      <td>...</td>\n",
       "      <td>...</td>\n",
       "      <td>...</td>\n",
       "      <td>...</td>\n",
       "      <td>...</td>\n",
       "      <td>...</td>\n",
       "      <td>...</td>\n",
       "    </tr>\n",
       "    <tr>\n",
       "      <th>224</th>\n",
       "      <td>2ZoOmCSgj0ypVAmGd1ve4y</td>\n",
       "      <td>Taylor Swift</td>\n",
       "      <td>Stay Beautiful</td>\n",
       "      <td>50</td>\n",
       "      <td>1</td>\n",
       "      <td>8</td>\n",
       "      <td>False</td>\n",
       "      <td>0.594</td>\n",
       "      <td>0.629</td>\n",
       "      <td>8</td>\n",
       "      <td>...</td>\n",
       "      <td>1</td>\n",
       "      <td>0.0246</td>\n",
       "      <td>0.08680</td>\n",
       "      <td>0.000000</td>\n",
       "      <td>0.1370</td>\n",
       "      <td>0.504</td>\n",
       "      <td>131.597</td>\n",
       "      <td>236053</td>\n",
       "      <td>4</td>\n",
       "      <td>2006</td>\n",
       "    </tr>\n",
       "    <tr>\n",
       "      <th>225</th>\n",
       "      <td>6K0CJLVXqbGMeJSmJ4ENKK</td>\n",
       "      <td>Taylor Swift</td>\n",
       "      <td>Tied Together With A Smile</td>\n",
       "      <td>50</td>\n",
       "      <td>1</td>\n",
       "      <td>7</td>\n",
       "      <td>False</td>\n",
       "      <td>0.479</td>\n",
       "      <td>0.578</td>\n",
       "      <td>2</td>\n",
       "      <td>...</td>\n",
       "      <td>1</td>\n",
       "      <td>0.0294</td>\n",
       "      <td>0.52500</td>\n",
       "      <td>0.000000</td>\n",
       "      <td>0.0841</td>\n",
       "      <td>0.192</td>\n",
       "      <td>146.165</td>\n",
       "      <td>248107</td>\n",
       "      <td>4</td>\n",
       "      <td>2006</td>\n",
       "    </tr>\n",
       "    <tr>\n",
       "      <th>226</th>\n",
       "      <td>2QA3IixpRcKyOdG7XDzRgv</td>\n",
       "      <td>Taylor Swift</td>\n",
       "      <td>The Outside</td>\n",
       "      <td>49</td>\n",
       "      <td>1</td>\n",
       "      <td>6</td>\n",
       "      <td>False</td>\n",
       "      <td>0.589</td>\n",
       "      <td>0.805</td>\n",
       "      <td>5</td>\n",
       "      <td>...</td>\n",
       "      <td>1</td>\n",
       "      <td>0.0293</td>\n",
       "      <td>0.00491</td>\n",
       "      <td>0.000000</td>\n",
       "      <td>0.2400</td>\n",
       "      <td>0.591</td>\n",
       "      <td>112.982</td>\n",
       "      <td>207107</td>\n",
       "      <td>4</td>\n",
       "      <td>2006</td>\n",
       "    </tr>\n",
       "    <tr>\n",
       "      <th>227</th>\n",
       "      <td>5OOd01o2YS1QFwdpVLds3r</td>\n",
       "      <td>Taylor Swift</td>\n",
       "      <td>Invisible</td>\n",
       "      <td>49</td>\n",
       "      <td>1</td>\n",
       "      <td>13</td>\n",
       "      <td>False</td>\n",
       "      <td>0.612</td>\n",
       "      <td>0.394</td>\n",
       "      <td>7</td>\n",
       "      <td>...</td>\n",
       "      <td>1</td>\n",
       "      <td>0.0243</td>\n",
       "      <td>0.63700</td>\n",
       "      <td>0.000000</td>\n",
       "      <td>0.1470</td>\n",
       "      <td>0.233</td>\n",
       "      <td>96.001</td>\n",
       "      <td>203227</td>\n",
       "      <td>4</td>\n",
       "      <td>2006</td>\n",
       "    </tr>\n",
       "    <tr>\n",
       "      <th>228</th>\n",
       "      <td>1spLfUJxtyVyiKKTegQ2r4</td>\n",
       "      <td>Taylor Swift</td>\n",
       "      <td>A Perfectly Good Heart</td>\n",
       "      <td>48</td>\n",
       "      <td>1</td>\n",
       "      <td>14</td>\n",
       "      <td>False</td>\n",
       "      <td>0.483</td>\n",
       "      <td>0.751</td>\n",
       "      <td>4</td>\n",
       "      <td>...</td>\n",
       "      <td>1</td>\n",
       "      <td>0.0365</td>\n",
       "      <td>0.00349</td>\n",
       "      <td>0.000000</td>\n",
       "      <td>0.1280</td>\n",
       "      <td>0.268</td>\n",
       "      <td>156.092</td>\n",
       "      <td>220147</td>\n",
       "      <td>4</td>\n",
       "      <td>2006</td>\n",
       "    </tr>\n",
       "  </tbody>\n",
       "</table>\n",
       "<p>229 rows × 21 columns</p>\n",
       "</div>"
      ],
      "text/plain": [
       "                        URI                          Album  \\\n",
       "0    1BxfuPKGuaTgP7aM0Bbdwr                          Lover   \n",
       "1    2OzhQlSqBEmt7hmkYxfT6m  The Tortured Poets Department   \n",
       "2    1dGr1c8CrMLDpV6mPbImSI                          Lover   \n",
       "3    3hUxzQpSfdDqwM3ZTFQY0K                       folklore   \n",
       "4    4R2kfaDFhslZEMJqAFNpdd                       folklore   \n",
       "..                      ...                            ...   \n",
       "224  2ZoOmCSgj0ypVAmGd1ve4y                   Taylor Swift   \n",
       "225  6K0CJLVXqbGMeJSmJ4ENKK                   Taylor Swift   \n",
       "226  2QA3IixpRcKyOdG7XDzRgv                   Taylor Swift   \n",
       "227  5OOd01o2YS1QFwdpVLds3r                   Taylor Swift   \n",
       "228  1spLfUJxtyVyiKKTegQ2r4                   Taylor Swift   \n",
       "\n",
       "                       Song Name  Popularity  Disc Number  Track Number  \\\n",
       "0                   Cruel Summer          90            1             2   \n",
       "1    Fortnight (Ft. Post Malone)          86            1             1   \n",
       "2                          Lover          85            1             3   \n",
       "3                         august          85            1             8   \n",
       "4                       cardigan          84            1             2   \n",
       "..                           ...         ...          ...           ...   \n",
       "224               Stay Beautiful          50            1             8   \n",
       "225   Tied Together With A Smile          50            1             7   \n",
       "226                  The Outside          49            1             6   \n",
       "227                    Invisible          49            1            13   \n",
       "228       A Perfectly Good Heart          48            1            14   \n",
       "\n",
       "     Explicit  Danceability  Energy  Key  ...  Mode  Speechiness  \\\n",
       "0       False         0.552   0.702    9  ...     1       0.1570   \n",
       "1       False         0.504   0.386   11  ...     1       0.0308   \n",
       "2       False         0.359   0.543    7  ...     1       0.0919   \n",
       "3       False         0.532   0.623    5  ...     1       0.0331   \n",
       "4       False         0.613   0.581    0  ...     0       0.0424   \n",
       "..        ...           ...     ...  ...  ...   ...          ...   \n",
       "224     False         0.594   0.629    8  ...     1       0.0246   \n",
       "225     False         0.479   0.578    2  ...     1       0.0294   \n",
       "226     False         0.589   0.805    5  ...     1       0.0293   \n",
       "227     False         0.612   0.394    7  ...     1       0.0243   \n",
       "228     False         0.483   0.751    4  ...     1       0.0365   \n",
       "\n",
       "     Acousticness  Instrumentalness  Liveness  Valence    Tempo  Duration_ms  \\\n",
       "0         0.11700          0.000021    0.1050    0.564  169.994       178427   \n",
       "1         0.50200          0.000015    0.0961    0.281  192.004       228965   \n",
       "2         0.49200          0.000016    0.1180    0.453   68.534       221307   \n",
       "3         0.53800          0.000073    0.0925    0.403   89.937       261923   \n",
       "4         0.53700          0.000345    0.2500    0.551  130.033       239560   \n",
       "..            ...               ...       ...      ...      ...          ...   \n",
       "224       0.08680          0.000000    0.1370    0.504  131.597       236053   \n",
       "225       0.52500          0.000000    0.0841    0.192  146.165       248107   \n",
       "226       0.00491          0.000000    0.2400    0.591  112.982       207107   \n",
       "227       0.63700          0.000000    0.1470    0.233   96.001       203227   \n",
       "228       0.00349          0.000000    0.1280    0.268  156.092       220147   \n",
       "\n",
       "     Time Signature  Year  \n",
       "0                 4  2019  \n",
       "1                 4  2019  \n",
       "2                 4  2019  \n",
       "3                 4  2019  \n",
       "4                 4  2019  \n",
       "..              ...   ...  \n",
       "224               4  2006  \n",
       "225               4  2006  \n",
       "226               4  2006  \n",
       "227               4  2006  \n",
       "228               4  2006  \n",
       "\n",
       "[229 rows x 21 columns]"
      ]
     },
     "execution_count": 9,
     "metadata": {},
     "output_type": "execute_result"
    }
   ],
   "source": [
    "def to_int(date):\n",
    "    return int(date.split(', ')[1])\n",
    "tswift = tswift.assign(Year = tswift.merge(albums).get('Release Date').apply(to_int))\n",
    "tswift"
   ]
  },
  {
   "cell_type": "code",
   "execution_count": 10,
   "id": "e3626b87",
   "metadata": {
    "deletable": false,
    "editable": false,
    "scrolled": false
   },
   "outputs": [
    {
     "data": {
      "text/html": [
       "<p><strong><pre style='display: inline;'>q0_3</pre></strong> passed!</p>"
      ],
      "text/plain": [
       "q0_3 results: All test cases passed!"
      ]
     },
     "execution_count": 10,
     "metadata": {},
     "output_type": "execute_result"
    }
   ],
   "source": [
    "grader.check(\"q0_3\")"
   ]
  },
  {
   "cell_type": "markdown",
   "id": "e2b25bfb",
   "metadata": {},
   "source": [
    "Now that `tswift` has all of the information we need, we'll set its index to `'URI'`, since we were told in the data description table that `'URI'`s are unique."
   ]
  },
  {
   "cell_type": "code",
   "execution_count": 11,
   "id": "b10bdf72",
   "metadata": {
    "scrolled": true
   },
   "outputs": [
    {
     "data": {
      "text/html": [
       "<div>\n",
       "<style scoped>\n",
       "    .dataframe tbody tr th:only-of-type {\n",
       "        vertical-align: middle;\n",
       "    }\n",
       "\n",
       "    .dataframe tbody tr th {\n",
       "        vertical-align: top;\n",
       "    }\n",
       "\n",
       "    .dataframe thead th {\n",
       "        text-align: right;\n",
       "    }\n",
       "</style>\n",
       "<table border=\"1\" class=\"dataframe\">\n",
       "  <thead>\n",
       "    <tr style=\"text-align: right;\">\n",
       "      <th></th>\n",
       "      <th>Album</th>\n",
       "      <th>Song Name</th>\n",
       "      <th>Popularity</th>\n",
       "      <th>Disc Number</th>\n",
       "      <th>Track Number</th>\n",
       "      <th>Explicit</th>\n",
       "      <th>Danceability</th>\n",
       "      <th>Energy</th>\n",
       "      <th>Key</th>\n",
       "      <th>Loudness</th>\n",
       "      <th>Mode</th>\n",
       "      <th>Speechiness</th>\n",
       "      <th>Acousticness</th>\n",
       "      <th>Instrumentalness</th>\n",
       "      <th>Liveness</th>\n",
       "      <th>Valence</th>\n",
       "      <th>Tempo</th>\n",
       "      <th>Duration_ms</th>\n",
       "      <th>Time Signature</th>\n",
       "      <th>Year</th>\n",
       "    </tr>\n",
       "    <tr>\n",
       "      <th>URI</th>\n",
       "      <th></th>\n",
       "      <th></th>\n",
       "      <th></th>\n",
       "      <th></th>\n",
       "      <th></th>\n",
       "      <th></th>\n",
       "      <th></th>\n",
       "      <th></th>\n",
       "      <th></th>\n",
       "      <th></th>\n",
       "      <th></th>\n",
       "      <th></th>\n",
       "      <th></th>\n",
       "      <th></th>\n",
       "      <th></th>\n",
       "      <th></th>\n",
       "      <th></th>\n",
       "      <th></th>\n",
       "      <th></th>\n",
       "      <th></th>\n",
       "    </tr>\n",
       "  </thead>\n",
       "  <tbody>\n",
       "    <tr>\n",
       "      <th>1BxfuPKGuaTgP7aM0Bbdwr</th>\n",
       "      <td>Lover</td>\n",
       "      <td>Cruel Summer</td>\n",
       "      <td>90</td>\n",
       "      <td>1</td>\n",
       "      <td>2</td>\n",
       "      <td>False</td>\n",
       "      <td>0.552</td>\n",
       "      <td>0.702</td>\n",
       "      <td>9</td>\n",
       "      <td>-5.707</td>\n",
       "      <td>1</td>\n",
       "      <td>0.1570</td>\n",
       "      <td>0.11700</td>\n",
       "      <td>0.000021</td>\n",
       "      <td>0.1050</td>\n",
       "      <td>0.564</td>\n",
       "      <td>169.994</td>\n",
       "      <td>178427</td>\n",
       "      <td>4</td>\n",
       "      <td>2019</td>\n",
       "    </tr>\n",
       "    <tr>\n",
       "      <th>2OzhQlSqBEmt7hmkYxfT6m</th>\n",
       "      <td>The Tortured Poets Department</td>\n",
       "      <td>Fortnight (Ft. Post Malone)</td>\n",
       "      <td>86</td>\n",
       "      <td>1</td>\n",
       "      <td>1</td>\n",
       "      <td>False</td>\n",
       "      <td>0.504</td>\n",
       "      <td>0.386</td>\n",
       "      <td>11</td>\n",
       "      <td>-10.976</td>\n",
       "      <td>1</td>\n",
       "      <td>0.0308</td>\n",
       "      <td>0.50200</td>\n",
       "      <td>0.000015</td>\n",
       "      <td>0.0961</td>\n",
       "      <td>0.281</td>\n",
       "      <td>192.004</td>\n",
       "      <td>228965</td>\n",
       "      <td>4</td>\n",
       "      <td>2019</td>\n",
       "    </tr>\n",
       "    <tr>\n",
       "      <th>1dGr1c8CrMLDpV6mPbImSI</th>\n",
       "      <td>Lover</td>\n",
       "      <td>Lover</td>\n",
       "      <td>85</td>\n",
       "      <td>1</td>\n",
       "      <td>3</td>\n",
       "      <td>False</td>\n",
       "      <td>0.359</td>\n",
       "      <td>0.543</td>\n",
       "      <td>7</td>\n",
       "      <td>-7.582</td>\n",
       "      <td>1</td>\n",
       "      <td>0.0919</td>\n",
       "      <td>0.49200</td>\n",
       "      <td>0.000016</td>\n",
       "      <td>0.1180</td>\n",
       "      <td>0.453</td>\n",
       "      <td>68.534</td>\n",
       "      <td>221307</td>\n",
       "      <td>4</td>\n",
       "      <td>2019</td>\n",
       "    </tr>\n",
       "    <tr>\n",
       "      <th>3hUxzQpSfdDqwM3ZTFQY0K</th>\n",
       "      <td>folklore</td>\n",
       "      <td>august</td>\n",
       "      <td>85</td>\n",
       "      <td>1</td>\n",
       "      <td>8</td>\n",
       "      <td>False</td>\n",
       "      <td>0.532</td>\n",
       "      <td>0.623</td>\n",
       "      <td>5</td>\n",
       "      <td>-9.208</td>\n",
       "      <td>1</td>\n",
       "      <td>0.0331</td>\n",
       "      <td>0.53800</td>\n",
       "      <td>0.000073</td>\n",
       "      <td>0.0925</td>\n",
       "      <td>0.403</td>\n",
       "      <td>89.937</td>\n",
       "      <td>261923</td>\n",
       "      <td>4</td>\n",
       "      <td>2019</td>\n",
       "    </tr>\n",
       "    <tr>\n",
       "      <th>4R2kfaDFhslZEMJqAFNpdd</th>\n",
       "      <td>folklore</td>\n",
       "      <td>cardigan</td>\n",
       "      <td>84</td>\n",
       "      <td>1</td>\n",
       "      <td>2</td>\n",
       "      <td>False</td>\n",
       "      <td>0.613</td>\n",
       "      <td>0.581</td>\n",
       "      <td>0</td>\n",
       "      <td>-8.588</td>\n",
       "      <td>0</td>\n",
       "      <td>0.0424</td>\n",
       "      <td>0.53700</td>\n",
       "      <td>0.000345</td>\n",
       "      <td>0.2500</td>\n",
       "      <td>0.551</td>\n",
       "      <td>130.033</td>\n",
       "      <td>239560</td>\n",
       "      <td>4</td>\n",
       "      <td>2019</td>\n",
       "    </tr>\n",
       "    <tr>\n",
       "      <th>...</th>\n",
       "      <td>...</td>\n",
       "      <td>...</td>\n",
       "      <td>...</td>\n",
       "      <td>...</td>\n",
       "      <td>...</td>\n",
       "      <td>...</td>\n",
       "      <td>...</td>\n",
       "      <td>...</td>\n",
       "      <td>...</td>\n",
       "      <td>...</td>\n",
       "      <td>...</td>\n",
       "      <td>...</td>\n",
       "      <td>...</td>\n",
       "      <td>...</td>\n",
       "      <td>...</td>\n",
       "      <td>...</td>\n",
       "      <td>...</td>\n",
       "      <td>...</td>\n",
       "      <td>...</td>\n",
       "      <td>...</td>\n",
       "    </tr>\n",
       "    <tr>\n",
       "      <th>2ZoOmCSgj0ypVAmGd1ve4y</th>\n",
       "      <td>Taylor Swift</td>\n",
       "      <td>Stay Beautiful</td>\n",
       "      <td>50</td>\n",
       "      <td>1</td>\n",
       "      <td>8</td>\n",
       "      <td>False</td>\n",
       "      <td>0.594</td>\n",
       "      <td>0.629</td>\n",
       "      <td>8</td>\n",
       "      <td>-4.919</td>\n",
       "      <td>1</td>\n",
       "      <td>0.0246</td>\n",
       "      <td>0.08680</td>\n",
       "      <td>0.000000</td>\n",
       "      <td>0.1370</td>\n",
       "      <td>0.504</td>\n",
       "      <td>131.597</td>\n",
       "      <td>236053</td>\n",
       "      <td>4</td>\n",
       "      <td>2006</td>\n",
       "    </tr>\n",
       "    <tr>\n",
       "      <th>6K0CJLVXqbGMeJSmJ4ENKK</th>\n",
       "      <td>Taylor Swift</td>\n",
       "      <td>Tied Together With A Smile</td>\n",
       "      <td>50</td>\n",
       "      <td>1</td>\n",
       "      <td>7</td>\n",
       "      <td>False</td>\n",
       "      <td>0.479</td>\n",
       "      <td>0.578</td>\n",
       "      <td>2</td>\n",
       "      <td>-4.963</td>\n",
       "      <td>1</td>\n",
       "      <td>0.0294</td>\n",
       "      <td>0.52500</td>\n",
       "      <td>0.000000</td>\n",
       "      <td>0.0841</td>\n",
       "      <td>0.192</td>\n",
       "      <td>146.165</td>\n",
       "      <td>248107</td>\n",
       "      <td>4</td>\n",
       "      <td>2006</td>\n",
       "    </tr>\n",
       "    <tr>\n",
       "      <th>2QA3IixpRcKyOdG7XDzRgv</th>\n",
       "      <td>Taylor Swift</td>\n",
       "      <td>The Outside</td>\n",
       "      <td>49</td>\n",
       "      <td>1</td>\n",
       "      <td>6</td>\n",
       "      <td>False</td>\n",
       "      <td>0.589</td>\n",
       "      <td>0.805</td>\n",
       "      <td>5</td>\n",
       "      <td>-4.055</td>\n",
       "      <td>1</td>\n",
       "      <td>0.0293</td>\n",
       "      <td>0.00491</td>\n",
       "      <td>0.000000</td>\n",
       "      <td>0.2400</td>\n",
       "      <td>0.591</td>\n",
       "      <td>112.982</td>\n",
       "      <td>207107</td>\n",
       "      <td>4</td>\n",
       "      <td>2006</td>\n",
       "    </tr>\n",
       "    <tr>\n",
       "      <th>5OOd01o2YS1QFwdpVLds3r</th>\n",
       "      <td>Taylor Swift</td>\n",
       "      <td>Invisible</td>\n",
       "      <td>49</td>\n",
       "      <td>1</td>\n",
       "      <td>13</td>\n",
       "      <td>False</td>\n",
       "      <td>0.612</td>\n",
       "      <td>0.394</td>\n",
       "      <td>7</td>\n",
       "      <td>-5.723</td>\n",
       "      <td>1</td>\n",
       "      <td>0.0243</td>\n",
       "      <td>0.63700</td>\n",
       "      <td>0.000000</td>\n",
       "      <td>0.1470</td>\n",
       "      <td>0.233</td>\n",
       "      <td>96.001</td>\n",
       "      <td>203227</td>\n",
       "      <td>4</td>\n",
       "      <td>2006</td>\n",
       "    </tr>\n",
       "    <tr>\n",
       "      <th>1spLfUJxtyVyiKKTegQ2r4</th>\n",
       "      <td>Taylor Swift</td>\n",
       "      <td>A Perfectly Good Heart</td>\n",
       "      <td>48</td>\n",
       "      <td>1</td>\n",
       "      <td>14</td>\n",
       "      <td>False</td>\n",
       "      <td>0.483</td>\n",
       "      <td>0.751</td>\n",
       "      <td>4</td>\n",
       "      <td>-5.726</td>\n",
       "      <td>1</td>\n",
       "      <td>0.0365</td>\n",
       "      <td>0.00349</td>\n",
       "      <td>0.000000</td>\n",
       "      <td>0.1280</td>\n",
       "      <td>0.268</td>\n",
       "      <td>156.092</td>\n",
       "      <td>220147</td>\n",
       "      <td>4</td>\n",
       "      <td>2006</td>\n",
       "    </tr>\n",
       "  </tbody>\n",
       "</table>\n",
       "<p>229 rows × 20 columns</p>\n",
       "</div>"
      ],
      "text/plain": [
       "                                                Album  \\\n",
       "URI                                                     \n",
       "1BxfuPKGuaTgP7aM0Bbdwr                          Lover   \n",
       "2OzhQlSqBEmt7hmkYxfT6m  The Tortured Poets Department   \n",
       "1dGr1c8CrMLDpV6mPbImSI                          Lover   \n",
       "3hUxzQpSfdDqwM3ZTFQY0K                       folklore   \n",
       "4R2kfaDFhslZEMJqAFNpdd                       folklore   \n",
       "...                                               ...   \n",
       "2ZoOmCSgj0ypVAmGd1ve4y                   Taylor Swift   \n",
       "6K0CJLVXqbGMeJSmJ4ENKK                   Taylor Swift   \n",
       "2QA3IixpRcKyOdG7XDzRgv                   Taylor Swift   \n",
       "5OOd01o2YS1QFwdpVLds3r                   Taylor Swift   \n",
       "1spLfUJxtyVyiKKTegQ2r4                   Taylor Swift   \n",
       "\n",
       "                                          Song Name  Popularity  Disc Number  \\\n",
       "URI                                                                            \n",
       "1BxfuPKGuaTgP7aM0Bbdwr                 Cruel Summer          90            1   \n",
       "2OzhQlSqBEmt7hmkYxfT6m  Fortnight (Ft. Post Malone)          86            1   \n",
       "1dGr1c8CrMLDpV6mPbImSI                        Lover          85            1   \n",
       "3hUxzQpSfdDqwM3ZTFQY0K                       august          85            1   \n",
       "4R2kfaDFhslZEMJqAFNpdd                     cardigan          84            1   \n",
       "...                                             ...         ...          ...   \n",
       "2ZoOmCSgj0ypVAmGd1ve4y               Stay Beautiful          50            1   \n",
       "6K0CJLVXqbGMeJSmJ4ENKK   Tied Together With A Smile          50            1   \n",
       "2QA3IixpRcKyOdG7XDzRgv                  The Outside          49            1   \n",
       "5OOd01o2YS1QFwdpVLds3r                    Invisible          49            1   \n",
       "1spLfUJxtyVyiKKTegQ2r4       A Perfectly Good Heart          48            1   \n",
       "\n",
       "                        Track Number  Explicit  Danceability  Energy  Key  \\\n",
       "URI                                                                         \n",
       "1BxfuPKGuaTgP7aM0Bbdwr             2     False         0.552   0.702    9   \n",
       "2OzhQlSqBEmt7hmkYxfT6m             1     False         0.504   0.386   11   \n",
       "1dGr1c8CrMLDpV6mPbImSI             3     False         0.359   0.543    7   \n",
       "3hUxzQpSfdDqwM3ZTFQY0K             8     False         0.532   0.623    5   \n",
       "4R2kfaDFhslZEMJqAFNpdd             2     False         0.613   0.581    0   \n",
       "...                              ...       ...           ...     ...  ...   \n",
       "2ZoOmCSgj0ypVAmGd1ve4y             8     False         0.594   0.629    8   \n",
       "6K0CJLVXqbGMeJSmJ4ENKK             7     False         0.479   0.578    2   \n",
       "2QA3IixpRcKyOdG7XDzRgv             6     False         0.589   0.805    5   \n",
       "5OOd01o2YS1QFwdpVLds3r            13     False         0.612   0.394    7   \n",
       "1spLfUJxtyVyiKKTegQ2r4            14     False         0.483   0.751    4   \n",
       "\n",
       "                        Loudness  Mode  Speechiness  Acousticness  \\\n",
       "URI                                                                 \n",
       "1BxfuPKGuaTgP7aM0Bbdwr    -5.707     1       0.1570       0.11700   \n",
       "2OzhQlSqBEmt7hmkYxfT6m   -10.976     1       0.0308       0.50200   \n",
       "1dGr1c8CrMLDpV6mPbImSI    -7.582     1       0.0919       0.49200   \n",
       "3hUxzQpSfdDqwM3ZTFQY0K    -9.208     1       0.0331       0.53800   \n",
       "4R2kfaDFhslZEMJqAFNpdd    -8.588     0       0.0424       0.53700   \n",
       "...                          ...   ...          ...           ...   \n",
       "2ZoOmCSgj0ypVAmGd1ve4y    -4.919     1       0.0246       0.08680   \n",
       "6K0CJLVXqbGMeJSmJ4ENKK    -4.963     1       0.0294       0.52500   \n",
       "2QA3IixpRcKyOdG7XDzRgv    -4.055     1       0.0293       0.00491   \n",
       "5OOd01o2YS1QFwdpVLds3r    -5.723     1       0.0243       0.63700   \n",
       "1spLfUJxtyVyiKKTegQ2r4    -5.726     1       0.0365       0.00349   \n",
       "\n",
       "                        Instrumentalness  Liveness  Valence    Tempo  \\\n",
       "URI                                                                    \n",
       "1BxfuPKGuaTgP7aM0Bbdwr          0.000021    0.1050    0.564  169.994   \n",
       "2OzhQlSqBEmt7hmkYxfT6m          0.000015    0.0961    0.281  192.004   \n",
       "1dGr1c8CrMLDpV6mPbImSI          0.000016    0.1180    0.453   68.534   \n",
       "3hUxzQpSfdDqwM3ZTFQY0K          0.000073    0.0925    0.403   89.937   \n",
       "4R2kfaDFhslZEMJqAFNpdd          0.000345    0.2500    0.551  130.033   \n",
       "...                                  ...       ...      ...      ...   \n",
       "2ZoOmCSgj0ypVAmGd1ve4y          0.000000    0.1370    0.504  131.597   \n",
       "6K0CJLVXqbGMeJSmJ4ENKK          0.000000    0.0841    0.192  146.165   \n",
       "2QA3IixpRcKyOdG7XDzRgv          0.000000    0.2400    0.591  112.982   \n",
       "5OOd01o2YS1QFwdpVLds3r          0.000000    0.1470    0.233   96.001   \n",
       "1spLfUJxtyVyiKKTegQ2r4          0.000000    0.1280    0.268  156.092   \n",
       "\n",
       "                        Duration_ms  Time Signature  Year  \n",
       "URI                                                        \n",
       "1BxfuPKGuaTgP7aM0Bbdwr       178427               4  2019  \n",
       "2OzhQlSqBEmt7hmkYxfT6m       228965               4  2019  \n",
       "1dGr1c8CrMLDpV6mPbImSI       221307               4  2019  \n",
       "3hUxzQpSfdDqwM3ZTFQY0K       261923               4  2019  \n",
       "4R2kfaDFhslZEMJqAFNpdd       239560               4  2019  \n",
       "...                             ...             ...   ...  \n",
       "2ZoOmCSgj0ypVAmGd1ve4y       236053               4  2006  \n",
       "6K0CJLVXqbGMeJSmJ4ENKK       248107               4  2006  \n",
       "2QA3IixpRcKyOdG7XDzRgv       207107               4  2006  \n",
       "5OOd01o2YS1QFwdpVLds3r       203227               4  2006  \n",
       "1spLfUJxtyVyiKKTegQ2r4       220147               4  2006  \n",
       "\n",
       "[229 rows x 20 columns]"
      ]
     },
     "execution_count": 11,
     "metadata": {},
     "output_type": "execute_result"
    }
   ],
   "source": [
    "tswift = tswift.set_index('URI')\n",
    "tswift"
   ]
  },
  {
   "cell_type": "markdown",
   "id": "a4b238c4",
   "metadata": {},
   "source": [
    "Now we have our data in the format we need for the rest of the project. In the next two sections of the project, we'll work with the `tswift` DataFrame. Then we'll pivot to work with the `lyrics` DataFrame in the last two sections. Let's begin!"
   ]
  },
  {
   "cell_type": "markdown",
   "id": "8121f83c",
   "metadata": {},
   "source": [
    "<a id='section1'></a>\n",
    "## Section 1: Data Visualization 👀\n",
    "\n",
    "> And you just watched it happen.   \n",
    "\n",
    "<small>(<a href=\"#outline\">return to the outline</a>)</small>"
   ]
  },
  {
   "cell_type": "markdown",
   "id": "d73c9895",
   "metadata": {},
   "source": [
    "In this section, we'll use the `tswift` DataFrame to create visualizations that will help us answer questions about Taylor Swift's music, including:\n",
    "- How many songs did Taylor Swift release each year?\n",
    "- How do different audio features such as `'Loudness'` and `'Energy'` relate to one another?\n",
    "- Are Taylor Swift's songs generally more positive or more negative?\n",
    "- Which Taylor Swift album has the most songs in a minor key?"
   ]
  },
  {
   "cell_type": "markdown",
   "id": "45141d38",
   "metadata": {},
   "source": [
    "**Question 1.1.** ⭐⭐ Let's start by determining how many songs Taylor Swift released each year. If we think of `'Year'` as a numerical variable, it makes sense to visualize its distribution with a histogram. Create a density histogram showing the distribution of `'Year'` in the `tswift` DataFrame.\n",
    "\n",
    "To get the x-axis labels to display nicely, include the optional `xticks` argument in your call to `.plot`. This optional argument specifies where the x-axis labels should be placed. For this plot, set `xticks = np.arange(2006, 2027, 2)` to get tick marks at even-numbered years. Also use the optional argument `title` to give your histogram a meaningful title.\n",
    "\n",
    "Set the bins such that each bin represents one year, from 2006 to 2024, inclusive. Be careful with the endpoints; in particular, **make sure 2023 and 2024 are not binned together**. "
   ]
  },
  {
   "cell_type": "markdown",
   "id": "226e2505",
   "metadata": {
    "deletable": false,
    "editable": false
   },
   "source": [
    "<!-- BEGIN QUESTION -->\n",
    "\n",
    "<!--\n",
    "BEGIN QUESTION\n",
    "name: q1_1_plot\n",
    "points: 1\n",
    "manual: True\n",
    "-->"
   ]
  },
  {
   "cell_type": "code",
   "execution_count": 12,
   "id": "7b1dc6e3",
   "metadata": {
    "scrolled": true
   },
   "outputs": [
    {
     "data": {
      "text/plain": [
       "<AxesSubplot:title={'center':\"Distribution of Taylor Swift's songs by Each Year\"}, ylabel='Frequency'>"
      ]
     },
     "execution_count": 12,
     "metadata": {},
     "output_type": "execute_result"
    },
    {
     "data": {
      "image/png": "[encoded data removed]",
      "text/plain": [
       "<Figure size 720x360 with 1 Axes>"
      ]
     },
     "metadata": {},
     "output_type": "display_data"
    }
   ],
   "source": [
    "tswift.plot(kind = 'hist',\n",
    "            y = 'Year',\n",
    "            xticks = np.arange(2006,2027,2),\n",
    "            bins = np.arange(2006,2026),\n",
    "            density = True,\n",
    "            title = \"Distribution of Taylor Swift's songs by Each Year\",\n",
    "            ec = 'w')"
   ]
  },
  {
   "cell_type": "markdown",
   "id": "5da1f770",
   "metadata": {
    "deletable": false,
    "editable": false
   },
   "source": [
    "<!-- END QUESTION -->\n",
    "\n",
    "Use the plot to determine the proportion of songs released _before_ 2010. After looking at the plot, store the proportion in the variable `before_2010` by manually typing it in, as a float, to the nearest two decimal places. \n",
    "\n",
    "<!--\n",
    "BEGIN QUESTION\n",
    "name: q1_1\n",
    "points: 1\n",
    "-->"
   ]
  },
  {
   "cell_type": "code",
   "execution_count": 13,
   "id": "95fc7c84",
   "metadata": {},
   "outputs": [
    {
     "data": {
      "text/plain": [
       "0.17"
      ]
     },
     "execution_count": 13,
     "metadata": {},
     "output_type": "execute_result"
    }
   ],
   "source": [
    "before_2010 = 0.17\n",
    "before_2010"
   ]
  },
  {
   "cell_type": "code",
   "execution_count": 14,
   "id": "4800b718",
   "metadata": {
    "deletable": false,
    "editable": false
   },
   "outputs": [
    {
     "data": {
      "text/html": [
       "<p><strong><pre style='display: inline;'>q1_1</pre></strong> passed!</p>"
      ],
      "text/plain": [
       "q1_1 results: All test cases passed!"
      ]
     },
     "execution_count": 14,
     "metadata": {},
     "output_type": "execute_result"
    }
   ],
   "source": [
    "grader.check(\"q1_1\")"
   ]
  },
  {
   "cell_type": "markdown",
   "id": "ee9c0c9f",
   "metadata": {},
   "source": [
    "**Question 1.2.**  While `'Year'` can be a numerical variable, it can also be treated as a categorical variable, in which case it would be appropriate to visualize its distribution with a bar chart. Create a vertical bar chart showing the distribution of `'Year'`. Make sure to give your plot a meaningful title, and make sure the bars appear chronologically from left to right."
   ]
  },
  {
   "cell_type": "code",
   "execution_count": 15,
   "id": "5d36795d",
   "metadata": {},
   "outputs": [
    {
     "data": {
      "text/plain": [
       "<AxesSubplot:title={'center':\"Number of Taylor Swift's songs per year\"}, xlabel='Year'>"
      ]
     },
     "execution_count": 15,
     "metadata": {},
     "output_type": "execute_result"
    },
    {
     "data": {
      "image/png": "[encoded data removed]",
      "text/plain": [
       "<Figure size 720x360 with 1 Axes>"
      ]
     },
     "metadata": {},
     "output_type": "display_data"
    }
   ],
   "source": [
    "(tswift.groupby(['Year'])\n",
    " .count()\n",
    " .reset_index()\n",
    " .plot(kind = 'bar',\n",
    "       x = 'Year',\n",
    "       y ='Song Name',\n",
    "       title = \"Number of Taylor Swift's songs per year\")\n",
    ")"
   ]
  },
  {
   "cell_type": "markdown",
   "id": "4b349c03",
   "metadata": {
    "deletable": false,
    "editable": false
   },
   "source": [
    "Use the plot to determine the year with the most songs. After looking at the plot, store the year in the variable `year_with_most_songs` by manually typing it in, as an int.\n",
    "\n",
    "<!--\n",
    "BEGIN QUESTION\n",
    "name: q1_2\n",
    "points: 1\n",
    "-->"
   ]
  },
  {
   "cell_type": "code",
   "execution_count": 16,
   "id": "113e802c",
   "metadata": {},
   "outputs": [
    {
     "data": {
      "text/plain": [
       "2020"
      ]
     },
     "execution_count": 16,
     "metadata": {},
     "output_type": "execute_result"
    }
   ],
   "source": [
    "year_with_most_songs = 2020\n",
    "year_with_most_songs"
   ]
  },
  {
   "cell_type": "code",
   "execution_count": 17,
   "id": "b8ea99bd",
   "metadata": {
    "deletable": false,
    "editable": false
   },
   "outputs": [
    {
     "data": {
      "text/html": [
       "<p><strong><pre style='display: inline;'>q1_2</pre></strong> passed!</p>"
      ],
      "text/plain": [
       "q1_2 results: All test cases passed!"
      ]
     },
     "execution_count": 17,
     "metadata": {},
     "output_type": "execute_result"
    }
   ],
   "source": [
    "grader.check(\"q1_2\")"
   ]
  },
  {
   "cell_type": "markdown",
   "id": "1566793c",
   "metadata": {
    "deletable": false,
    "editable": false
   },
   "source": [
    "**Question 1.3.** Taylor Swift actually released two albums, sometimes called sister albums 👯, in the `year_with_most_songs`. Use code to find out which two albums were released that year. Specifically, set `sister_albums` to an array containing the names of these albums as strings, in any order. Do not type in the album names manually; write code to get them for you.\n",
    "\n",
    "***Hint:*** The Series method `.unique()` might be helpful.\n",
    "\n",
    "<!--\n",
    "BEGIN QUESTION\n",
    "name: q1_3\n",
    "points: 1\n",
    "-->"
   ]
  },
  {
   "cell_type": "code",
   "execution_count": 18,
   "id": "62535d8d",
   "metadata": {},
   "outputs": [
    {
     "data": {
      "text/plain": [
       "array(['folklore', 'evermore'], dtype=object)"
      ]
     },
     "execution_count": 18,
     "metadata": {},
     "output_type": "execute_result"
    }
   ],
   "source": [
    "sister_albums = np.array(albums[albums\n",
    "                                .assign(Year = albums.get('Release Date')\n",
    "                                        .apply(to_int))\n",
    "                                .get('Year') == 2020]\n",
    "                         .get('Album'))\n",
    "sister_albums"
   ]
  },
  {
   "cell_type": "code",
   "execution_count": 19,
   "id": "934070d8",
   "metadata": {
    "deletable": false,
    "editable": false
   },
   "outputs": [
    {
     "data": {
      "text/html": [
       "<p><strong><pre style='display: inline;'>q1_3</pre></strong> passed!</p>"
      ],
      "text/plain": [
       "q1_3 results: All test cases passed!"
      ]
     },
     "execution_count": 19,
     "metadata": {},
     "output_type": "execute_result"
    }
   ],
   "source": [
    "grader.check(\"q1_3\")"
   ]
  },
  {
   "cell_type": "markdown",
   "id": "a2839c15",
   "metadata": {
    "deletable": false,
    "editable": false
   },
   "source": [
    "**Question 1.4.** Create a visualization *or* write code to answer the following question:\n",
    "\n",
    "> Which album has the most songs?\n",
    "\n",
    "Save the name of the album as `most_songs_album`. If you create a visualization to answer the question, it's fine to hardcode the answer as a string; if you write code to answer the question, it's fine to assign `most_songs_album` to an expression that evaluates to a string.\n",
    "\n",
    "<!--\n",
    "BEGIN QUESTION\n",
    "name: q1_4\n",
    "points: 1\n",
    "-->"
   ]
  },
  {
   "cell_type": "code",
   "execution_count": 20,
   "id": "5f82293a",
   "metadata": {},
   "outputs": [
    {
     "data": {
      "text/plain": [
       "<AxesSubplot:xlabel='Album'>"
      ]
     },
     "execution_count": 20,
     "metadata": {},
     "output_type": "execute_result"
    },
    {
     "data": {
      "image/png": "[encoded data removed]",
      "text/plain": [
       "<Figure size 720x360 with 1 Axes>"
      ]
     },
     "metadata": {},
     "output_type": "display_data"
    }
   ],
   "source": [
    "tswift.groupby('Album').count().reset_index().plot(kind = 'bar', x = 'Album', y = 'Song Name')"
   ]
  },
  {
   "cell_type": "code",
   "execution_count": 21,
   "id": "3749c36c",
   "metadata": {},
   "outputs": [
    {
     "data": {
      "text/plain": [
       "'The Tortured Poets Department'"
      ]
     },
     "execution_count": 21,
     "metadata": {},
     "output_type": "execute_result"
    }
   ],
   "source": [
    "most_songs_album = 'The Tortured Poets Department'\n",
    "most_songs_album"
   ]
  },
  {
   "cell_type": "code",
   "execution_count": 22,
   "id": "87508af7",
   "metadata": {
    "deletable": false,
    "editable": false
   },
   "outputs": [
    {
     "data": {
      "text/html": [
       "<p><strong><pre style='display: inline;'>q1_4</pre></strong> passed!</p>"
      ],
      "text/plain": [
       "q1_4 results: All test cases passed!"
      ]
     },
     "execution_count": 22,
     "metadata": {},
     "output_type": "execute_result"
    }
   ],
   "source": [
    "grader.check(\"q1_4\")"
   ]
  },
  {
   "cell_type": "markdown",
   "id": "b11e1bce",
   "metadata": {},
   "source": [
    "The `'Popularity'` column in `tswift` contains a number, on a scale of 0 to 100, that ranks how popular a track currently is, relative to other tracks on Spotify. Every stream, save, share, like, and playlist recommendation contributes to a song's `'Popularity'`. Songs with a higher `'Popularity'` are more likely to be recommended to new listeners and added to algorithmically-generated playlists."
   ]
  },
  {
   "cell_type": "markdown",
   "id": "c6592565",
   "metadata": {
    "deletable": false,
    "editable": false
   },
   "source": [
    "**Question 1.5.** What are the most and least popular Taylor Swift songs right now? Save your answers as `most_pop` and `least_pop`, respectively.\n",
    "\n",
    "<!--\n",
    "BEGIN QUESTION\n",
    "name: q1_5\n",
    "points: 1\n",
    "-->"
   ]
  },
  {
   "cell_type": "code",
   "execution_count": 23,
   "id": "4db4912d",
   "metadata": {},
   "outputs": [
    {
     "name": "stdout",
     "output_type": "stream",
     "text": [
      "The most popular Taylor Swift song right now is Cruel Summer.\n",
      "The least popular Taylor Swift song right now is A Perfectly Good Heart.\n"
     ]
    }
   ],
   "source": [
    "most_pop = tswift.sort_values(by = 'Popularity', ascending = False).get('Song Name').iloc[0]\n",
    "least_pop = tswift.sort_values(by = 'Popularity', ascending = False).get('Song Name').iloc[-1]\n",
    "print(f'The most popular Taylor Swift song right now is {most_pop}.')\n",
    "print(f'The least popular Taylor Swift song right now is {least_pop}.')"
   ]
  },
  {
   "cell_type": "code",
   "execution_count": 24,
   "id": "b07f891f",
   "metadata": {
    "deletable": false,
    "editable": false
   },
   "outputs": [
    {
     "data": {
      "text/html": [
       "<p><strong><pre style='display: inline;'>q1_5</pre></strong> passed!</p>"
      ],
      "text/plain": [
       "q1_5 results: All test cases passed!"
      ]
     },
     "execution_count": 24,
     "metadata": {},
     "output_type": "execute_result"
    }
   ],
   "source": [
    "grader.check(\"q1_5\")"
   ]
  },
  {
   "cell_type": "markdown",
   "id": "92185fe8",
   "metadata": {
    "deletable": false,
    "editable": false
   },
   "source": [
    "**Question 1.6.** ⭐⭐ Create a DataFrame named `popularity_by_year` that is indexed by `'Year'` and has two columns:\n",
    "- `'Max_Popularity'` should contain the highest popularity among all songs released that year.\n",
    "- `'Median_Popularity'` should contain the median popularity of all songs released that year. \n",
    "\n",
    "<!--\n",
    "BEGIN QUESTION\n",
    "name: q1_6\n",
    "points: 2\n",
    "-->"
   ]
  },
  {
   "cell_type": "code",
   "execution_count": 25,
   "id": "af0a56d1",
   "metadata": {
    "scrolled": true
   },
   "outputs": [
    {
     "data": {
      "text/html": [
       "<div>\n",
       "<style scoped>\n",
       "    .dataframe tbody tr th:only-of-type {\n",
       "        vertical-align: middle;\n",
       "    }\n",
       "\n",
       "    .dataframe tbody tr th {\n",
       "        vertical-align: top;\n",
       "    }\n",
       "\n",
       "    .dataframe thead th {\n",
       "        text-align: right;\n",
       "    }\n",
       "</style>\n",
       "<table border=\"1\" class=\"dataframe\">\n",
       "  <thead>\n",
       "    <tr style=\"text-align: right;\">\n",
       "      <th></th>\n",
       "      <th>Max_Popularity</th>\n",
       "      <th>Median_Popularity</th>\n",
       "    </tr>\n",
       "    <tr>\n",
       "      <th>Year</th>\n",
       "      <th></th>\n",
       "      <th></th>\n",
       "    </tr>\n",
       "  </thead>\n",
       "  <tbody>\n",
       "    <tr>\n",
       "      <th>2006</th>\n",
       "      <td>58</td>\n",
       "      <td>52.0</td>\n",
       "    </tr>\n",
       "    <tr>\n",
       "      <th>2008</th>\n",
       "      <td>66</td>\n",
       "      <td>65.0</td>\n",
       "    </tr>\n",
       "    <tr>\n",
       "      <th>2010</th>\n",
       "      <td>64</td>\n",
       "      <td>64.0</td>\n",
       "    </tr>\n",
       "    <tr>\n",
       "      <th>2012</th>\n",
       "      <td>69</td>\n",
       "      <td>68.0</td>\n",
       "    </tr>\n",
       "    <tr>\n",
       "      <th>2014</th>\n",
       "      <td>63</td>\n",
       "      <td>62.0</td>\n",
       "    </tr>\n",
       "    <tr>\n",
       "      <th>2017</th>\n",
       "      <td>72</td>\n",
       "      <td>72.0</td>\n",
       "    </tr>\n",
       "    <tr>\n",
       "      <th>2019</th>\n",
       "      <td>90</td>\n",
       "      <td>79.5</td>\n",
       "    </tr>\n",
       "    <tr>\n",
       "      <th>2020</th>\n",
       "      <td>74</td>\n",
       "      <td>66.5</td>\n",
       "    </tr>\n",
       "    <tr>\n",
       "      <th>2022</th>\n",
       "      <td>71</td>\n",
       "      <td>70.0</td>\n",
       "    </tr>\n",
       "    <tr>\n",
       "      <th>2024</th>\n",
       "      <td>77</td>\n",
       "      <td>75.0</td>\n",
       "    </tr>\n",
       "  </tbody>\n",
       "</table>\n",
       "</div>"
      ],
      "text/plain": [
       "      Max_Popularity  Median_Popularity\n",
       "Year                                   \n",
       "2006              58               52.0\n",
       "2008              66               65.0\n",
       "2010              64               64.0\n",
       "2012              69               68.0\n",
       "2014              63               62.0\n",
       "2017              72               72.0\n",
       "2019              90               79.5\n",
       "2020              74               66.5\n",
       "2022              71               70.0\n",
       "2024              77               75.0"
      ]
     },
     "execution_count": 25,
     "metadata": {},
     "output_type": "execute_result"
    }
   ],
   "source": [
    "popularity_by_year = (tswift.groupby('Year')\n",
    "                      .count()\n",
    "                      .assign(Max_Popularity = tswift.groupby('Year').max().get('Popularity'),\n",
    "                                   Median_Popularity = tswift.groupby('Year').median().get('Popularity'))\n",
    "                      .get(['Max_Popularity', 'Median_Popularity'])\n",
    "                     )\n",
    "popularity_by_year"
   ]
  },
  {
   "cell_type": "code",
   "execution_count": 26,
   "id": "af570ab6",
   "metadata": {
    "deletable": false,
    "editable": false
   },
   "outputs": [
    {
     "data": {
      "text/html": [
       "<p><strong><pre style='display: inline;'>q1_6</pre></strong> passed!</p>"
      ],
      "text/plain": [
       "q1_6 results: All test cases passed!"
      ]
     },
     "execution_count": 26,
     "metadata": {},
     "output_type": "execute_result"
    }
   ],
   "source": [
    "grader.check(\"q1_6\")"
   ]
  },
  {
   "cell_type": "markdown",
   "id": "e66e6a4d",
   "metadata": {
    "deletable": false,
    "editable": false
   },
   "source": [
    "<!-- BEGIN QUESTION -->\n",
    "\n",
    "**Question 1.7.** Create an overlaid line plot showing how the `'Max_Popularity'` and `'Median_Popularity'` are related to `'Year'`. Give your plot an appropriate title and set `xticks` as you did in Question 1.1.\n",
    "\n",
    "<!--\n",
    "BEGIN QUESTION\n",
    "name: q1_7\n",
    "manual: true\n",
    "points: 1\n",
    "-->"
   ]
  },
  {
   "cell_type": "code",
   "execution_count": 27,
   "id": "644eca6c",
   "metadata": {},
   "outputs": [
    {
     "data": {
      "text/plain": [
       "<AxesSubplot:title={'center':'Max and Median Popularity by Year'}, xlabel='Year'>"
      ]
     },
     "execution_count": 27,
     "metadata": {},
     "output_type": "execute_result"
    },
    {
     "data": {
      "image/png": "[encoded data removed]",
      "text/plain": [
       "<Figure size 720x360 with 1 Axes>"
      ]
     },
     "metadata": {},
     "output_type": "display_data"
    }
   ],
   "source": [
    "popularity_by_year.reset_index().plot(kind = 'line',\n",
    "                                      xticks = np.arange(2006,2027,2),\n",
    "                                      x = 'Year', y =['Max_Popularity', 'Median_Popularity'],\n",
    "                                      title = 'Max and Median Popularity by Year')"
   ]
  },
  {
   "cell_type": "markdown",
   "id": "4466114f",
   "metadata": {},
   "source": [
    "<!-- END QUESTION -->\n",
    "\n",
    "\n",
    "\n",
    "**Question 1.8.** Let's explore the relationship between different variables in the `tswift` dataset. Specifically:\n",
    "- `'Loudness'` is the average loudness of a track measured on a relative scale in decibels. Values typically range between -60 (softer) and 0 (louder).\n",
    "- `'Energy'` is a 0 to 1 scale of a track's activity and intensity, where higher values are more energetic.\n",
    "\n",
    "In the cell below, create a plot that shows the relationship between `'Loudness'` (on the horizontal axis) and `'Energy'` (on the vertical axis) in Taylor Swift's songs. Include an appropriate title. We've included some additional code to draw the best-fitting line to describe the relationship between these variables. We'll learn more about best-fitting lines when we study regression later in the course!"
   ]
  },
  {
   "cell_type": "code",
   "execution_count": 28,
   "id": "d16fa3e8",
   "metadata": {},
   "outputs": [
    {
     "data": {
      "image/png": "[encoded data removed]",
      "text/plain": [
       "<Figure size 720x360 with 1 Axes>"
      ]
     },
     "metadata": {},
     "output_type": "display_data"
    }
   ],
   "source": [
    "# Create your plot here.\n",
    "tswift.plot(kind = 'scatter', x = 'Loudness', y = 'Energy', title = \"Relationship between Loudness and Energy in Taylor Swift's Songs\")\n",
    "# The code below plots the line of best fit; do not alter it!\n",
    "x = tswift.get('Loudness')\n",
    "y = tswift.get('Energy')\n",
    "a, b = np.polyfit(x, y, 1)\n",
    "plt.plot(x, a * x + b, label='Line of Best Fit')        \n",
    "plt.legend()\n",
    "plt.show()"
   ]
  },
  {
   "cell_type": "markdown",
   "id": "547ee241",
   "metadata": {
    "deletable": false,
    "editable": false
   },
   "source": [
    "What is the relationship between `'Loudness'` and `'Energy'` for Taylor Swift's songs? Set `q1_8` to either 1, 2, or 3, corresponding to your choice from the options below. \n",
    "\n",
    "1. Louder songs tend to be lower in energy.\n",
    "1. Louder songs tend to be higher in energy.\n",
    "1. There is no clear relationship between `'Loudness'` and `'Energy'`.\n",
    "\n",
    "<!--\n",
    "BEGIN QUESTION\n",
    "name: q1_8\n",
    "points: 1\n",
    "-->"
   ]
  },
  {
   "cell_type": "code",
   "execution_count": 29,
   "id": "12b6a244",
   "metadata": {},
   "outputs": [],
   "source": [
    "q1_8 = 2"
   ]
  },
  {
   "cell_type": "code",
   "execution_count": 30,
   "id": "b875d801",
   "metadata": {
    "deletable": false,
    "editable": false
   },
   "outputs": [
    {
     "data": {
      "text/html": [
       "<p><strong><pre style='display: inline;'>q1_8</pre></strong> passed!</p>"
      ],
      "text/plain": [
       "q1_8 results: All test cases passed!"
      ]
     },
     "execution_count": 30,
     "metadata": {},
     "output_type": "execute_result"
    }
   ],
   "source": [
    "grader.check(\"q1_8\")"
   ]
  },
  {
   "cell_type": "markdown",
   "id": "45d36c13",
   "metadata": {},
   "source": [
    "**Question 1.9.** Another one of Spotify's audio features is `'Valence'`, which measures the positivity, or \"happiness\", of a track on a 0 to 1 scale. Larger values correspond to more positive songs.\n",
    "\n",
    "In the cell below, create a plot that shows the relationship between `'Valence'` (on the horizontal axis) and `'Popularity'` (on the vertical axis) in Taylor Swift's songs. Include an appropriate title. As in the previous question, we've included code to plot the best-fitting line."
   ]
  },
  {
   "cell_type": "code",
   "execution_count": 31,
   "id": "ba83a86a",
   "metadata": {},
   "outputs": [
    {
     "data": {
      "image/png": "[encoded data removed]",
      "text/plain": [
       "<Figure size 720x360 with 1 Axes>"
      ]
     },
     "metadata": {},
     "output_type": "display_data"
    }
   ],
   "source": [
    "# Create your plot here.\n",
    "tswift.plot(kind = 'scatter', x = 'Valence', y = 'Popularity', title = \"Relationship between Valence and Popularity in Taylor Swift's songs\")\n",
    "# The code below plots the line of best fit; do not alter it!\n",
    "x = tswift.get('Valence')\n",
    "y = tswift.get('Popularity')\n",
    "a, b = np.polyfit(x, y, 1)\n",
    "plt.plot(x, a * x + b, label='Line of Best Fit')        \n",
    "plt.legend()\n",
    "plt.show()"
   ]
  },
  {
   "cell_type": "markdown",
   "id": "030e6cf8",
   "metadata": {
    "deletable": false,
    "editable": false
   },
   "source": [
    "What is the relationship between `'Valence'` and `'Popularity'` for Taylor Swift's songs? Set `q1_9` to either 1, 2, or 3, corresponding to your choice from the options below.\n",
    "\n",
    "1. Positive songs tend to be less popular.\n",
    "1. Positive songs tend to be more popular.\n",
    "1. There is no clear relationship between `'Valence'` and `'Popularity'`.\n",
    "\n",
    "<!--\n",
    "BEGIN QUESTION\n",
    "name: q1_9\n",
    "points: 1\n",
    "-->"
   ]
  },
  {
   "cell_type": "code",
   "execution_count": 32,
   "id": "5af38a56",
   "metadata": {},
   "outputs": [],
   "source": [
    "q1_9 = 3"
   ]
  },
  {
   "cell_type": "code",
   "execution_count": 33,
   "id": "87a402fa",
   "metadata": {
    "deletable": false,
    "editable": false
   },
   "outputs": [
    {
     "data": {
      "text/html": [
       "<p><strong><pre style='display: inline;'>q1_9</pre></strong> passed!</p>"
      ],
      "text/plain": [
       "q1_9 results: All test cases passed!"
      ]
     },
     "execution_count": 33,
     "metadata": {},
     "output_type": "execute_result"
    }
   ],
   "source": [
    "grader.check(\"q1_9\")"
   ]
  },
  {
   "cell_type": "markdown",
   "id": "898e9157",
   "metadata": {},
   "source": [
    "**Question 1.10.** Create a plot that visualizes the distribution of `'Valence'` for all of Taylor Swift's songs. Include an appropriate title."
   ]
  },
  {
   "cell_type": "code",
   "execution_count": 34,
   "id": "535c1e0b",
   "metadata": {},
   "outputs": [
    {
     "data": {
      "text/plain": [
       "<AxesSubplot:title={'center':\"The distribution of Valence across Taylor Swift's songs\"}, ylabel='Frequency'>"
      ]
     },
     "execution_count": 34,
     "metadata": {},
     "output_type": "execute_result"
    },
    {
     "data": {
      "image/png": "[encoded data removed]",
      "text/plain": [
       "<Figure size 720x360 with 1 Axes>"
      ]
     },
     "metadata": {},
     "output_type": "display_data"
    }
   ],
   "source": [
    "tswift.groupby('Valence').count().reset_index().plot(kind = 'hist',y = 'Valence', density = True, ec = 'w', title = \"The distribution of Valence across Taylor Swift's songs\")"
   ]
  },
  {
   "cell_type": "markdown",
   "id": "2b8d15fb",
   "metadata": {
    "deletable": false,
    "editable": false
   },
   "source": [
    "Are Taylor Swift's songs more negative or positive on average?  Set `q1_10` to either 1 or 2, corresponding to your choice from the options below.\n",
    "\n",
    "1. Taylor Swift's songs are more negative on average.\n",
    "2. Taylor Swift's songs are more positive on average.\n",
    "\n",
    "<!--\n",
    "BEGIN QUESTION\n",
    "name: q1_10\n",
    "points: 1\n",
    "-->"
   ]
  },
  {
   "cell_type": "code",
   "execution_count": 35,
   "id": "b66206ff",
   "metadata": {},
   "outputs": [],
   "source": [
    "q1_10 = 1"
   ]
  },
  {
   "cell_type": "code",
   "execution_count": 36,
   "id": "ccc5cb88",
   "metadata": {
    "deletable": false,
    "editable": false
   },
   "outputs": [
    {
     "data": {
      "text/html": [
       "<p><strong><pre style='display: inline;'>q1_10</pre></strong> passed!</p>"
      ],
      "text/plain": [
       "q1_10 results: All test cases passed!"
      ]
     },
     "execution_count": 36,
     "metadata": {},
     "output_type": "execute_result"
    }
   ],
   "source": [
    "grader.check(\"q1_10\")"
   ]
  },
  {
   "cell_type": "markdown",
   "id": "ce306977",
   "metadata": {},
   "source": [
    "In the `tswift` DataFrame, the `'Mode'` of a song is 1 if the song is written in a major key or 0 if it's written in a minor key. Generally, songs in a major key (e.g. G major) sound more upbeat, bright, and fun, while songs in a minor key (e.g. D minor) sound more dark, sad, or serious.\n",
    "\n",
    "For example, the song `'Shake It Off'`, from the album `'1989'`, has a `'Mode'` of 1 because it was written in G major. Run the cell below and press play to hear a snippet of it right here in your notebook."
   ]
  },
  {
   "cell_type": "code",
   "execution_count": 37,
   "id": "6b21e5ca",
   "metadata": {},
   "outputs": [
    {
     "data": {
      "text/html": [
       "\n",
       "        <iframe\n",
       "            width=\"400\"\n",
       "            height=\"75\"\n",
       "            src=\"https://open.spotify.com/embed/track/3fthfkkvy9av3q3uAGVf7U\"\n",
       "            frameborder=\"0\"\n",
       "            allowfullscreen\n",
       "        ></iframe>\n",
       "        "
      ],
      "text/plain": [
       "<IPython.lib.display.IFrame at 0x7fe5b5495d00>"
      ]
     },
     "metadata": {},
     "output_type": "display_data"
    }
   ],
   "source": [
    "play_spotify('3fthfkkvy9av3q3uAGVf7U')"
   ]
  },
  {
   "cell_type": "markdown",
   "id": "27405f85",
   "metadata": {},
   "source": [
    "On the other hand, the song `'Look What You Made Me Do'`, from the album `'Reputation'`, has a `'Mode'` of 0 because it was written in A minor. Again, run the cell below and press play to hear a snippet of it."
   ]
  },
  {
   "cell_type": "code",
   "execution_count": 38,
   "id": "6f6a7a0b",
   "metadata": {
    "scrolled": true
   },
   "outputs": [
    {
     "data": {
      "text/html": [
       "\n",
       "        <iframe\n",
       "            width=\"400\"\n",
       "            height=\"75\"\n",
       "            src=\"https://open.spotify.com/embed/track/1P17dC1amhFzptugyAO7Il\"\n",
       "            frameborder=\"0\"\n",
       "            allowfullscreen\n",
       "        ></iframe>\n",
       "        "
      ],
      "text/plain": [
       "<IPython.lib.display.IFrame at 0x7fe5b5384c10>"
      ]
     },
     "metadata": {},
     "output_type": "display_data"
    }
   ],
   "source": [
    "play_spotify('1P17dC1amhFzptugyAO7Il')"
   ]
  },
  {
   "cell_type": "markdown",
   "id": "59d2700d",
   "metadata": {},
   "source": [
    "**Question 1.11.** ⭐⭐ Create a plot that shows the number of songs in a minor key on each album, but **only among albums with at least two songs in a minor key**. Make sure your plot has a title and a legend that accurately describe what is being shown."
   ]
  },
  {
   "cell_type": "markdown",
   "id": "5802bbb4",
   "metadata": {
    "deletable": false,
    "editable": false
   },
   "source": [
    "<!-- BEGIN QUESTION -->\n",
    "\n",
    "<!--\n",
    "BEGIN QUESTION\n",
    "name: q1_11\n",
    "points: 2\n",
    "manual: true\n",
    "-->"
   ]
  },
  {
   "cell_type": "code",
   "execution_count": 39,
   "id": "40351ff2",
   "metadata": {},
   "outputs": [
    {
     "data": {
      "text/plain": [
       "<AxesSubplot:title={'center':'Number of Minor Key Songs per Album'}, xlabel='Album'>"
      ]
     },
     "execution_count": 39,
     "metadata": {},
     "output_type": "execute_result"
    },
    {
     "data": {
      "image/png": "[encoded data removed]",
      "text/plain": [
       "<Figure size 720x360 with 1 Axes>"
      ]
     },
     "metadata": {},
     "output_type": "display_data"
    }
   ],
   "source": [
    "minor_key = tswift[tswift.get('Mode') == 0].groupby('Album').count()\n",
    "minor_key[minor_key.get('Mode') >= 2].reset_index().plot(kind = 'bar',\n",
    "                                                         x = 'Album',\n",
    "                                                         y = 'Mode',\n",
    "                                                         title = 'Number of Minor Key Songs per Album',\n",
    "                                                         legend = False)"
   ]
  },
  {
   "cell_type": "markdown",
   "id": "4f6de260",
   "metadata": {
    "deletable": false,
    "editable": false
   },
   "source": [
    "<!-- END QUESTION -->\n",
    "\n",
    "**Question 1.12.** Next, let's explore how certain audio features differ from one album to another. Since we only have audio features for songs, not albums, we'll calculate the values of an audio feature for an album by averaging the values of that audio feature across all songs on the album. For example, to compute the `'Energy'` of the `'Midnights'` album, we would compute the mean `'Energy'` of all songs on the `'Midnights'` album.\n",
    "\n",
    "Below, complete the implementation of the function `sort_albums_by`, which takes in the column name of an audio feature (e.g. `'Energy'`) and returns an array of the names of all eleven Taylor Swift albums, with the albums sorted in descending order of the given feature. For example, `sort_albums_by('Energy')` would return an array whose first element is the name of the album with the highest mean `'Energy'` across all its songs.\n",
    "\n",
    "<!--\n",
    "BEGIN QUESTION\n",
    "name: q1_12\n",
    "points: 1\n",
    "-->"
   ]
  },
  {
   "cell_type": "code",
   "execution_count": 40,
   "id": "2f1b0e6e",
   "metadata": {
    "scrolled": true
   },
   "outputs": [
    {
     "data": {
      "text/plain": [
       "array(['1989', 'Taylor Swift', 'Speak Now', 'Fearless', 'Red',\n",
       "       'Reputation', 'Lover', 'evermore', 'Midnights',\n",
       "       'The Tortured Poets Department', 'folklore'], dtype=object)"
      ]
     },
     "execution_count": 40,
     "metadata": {},
     "output_type": "execute_result"
    }
   ],
   "source": [
    "def sort_albums_by(feature):\n",
    "    return np.array(tswift.groupby('Album')\n",
    "                    .mean()\n",
    "                    .sort_values(by = feature, ascending = False)\n",
    "                    .reset_index()\n",
    "                    .get('Album')\n",
    "                   )\n",
    "sort_albums_by('Energy')"
   ]
  },
  {
   "cell_type": "code",
   "execution_count": 41,
   "id": "3201d514",
   "metadata": {
    "deletable": false,
    "editable": false
   },
   "outputs": [
    {
     "data": {
      "text/html": [
       "<p><strong><pre style='display: inline;'>q1_12</pre></strong> passed!</p>"
      ],
      "text/plain": [
       "q1_12 results: All test cases passed!"
      ]
     },
     "execution_count": 41,
     "metadata": {},
     "output_type": "execute_result"
    }
   ],
   "source": [
    "grader.check(\"q1_12\")"
   ]
  },
  {
   "cell_type": "markdown",
   "id": "cbabad5d",
   "metadata": {},
   "source": [
    "Now, run the cell below to see how the albums rank for each audio feature."
   ]
  },
  {
   "cell_type": "code",
   "execution_count": 42,
   "id": "ec696e70",
   "metadata": {
    "scrolled": false
   },
   "outputs": [
    {
     "data": {
      "text/markdown": [
       "Taylor Swift albums, in descending order of `'Popularity'`:"
      ],
      "text/plain": [
       "<IPython.core.display.Markdown object>"
      ]
     },
     "metadata": {},
     "output_type": "display_data"
    },
    {
     "data": {
      "text/markdown": [
       "- Lover, Reputation, The Tortured Poets Department, folklore, 1989, Midnights, Speak Now, Red, evermore, Fearless, Taylor Swift"
      ],
      "text/plain": [
       "<IPython.core.display.Markdown object>"
      ]
     },
     "metadata": {},
     "output_type": "display_data"
    },
    {
     "data": {
      "text/markdown": [
       "Taylor Swift albums, in descending order of `'Explicit'`:"
      ],
      "text/plain": [
       "<IPython.core.display.Markdown object>"
      ]
     },
     "metadata": {},
     "output_type": "display_data"
    },
    {
     "data": {
      "text/markdown": [
       "- The Tortured Poets Department, evermore, Midnights, folklore, Red, 1989, Fearless, Lover, Reputation, Speak Now, Taylor Swift"
      ],
      "text/plain": [
       "<IPython.core.display.Markdown object>"
      ]
     },
     "metadata": {},
     "output_type": "display_data"
    },
    {
     "data": {
      "text/markdown": [
       "Taylor Swift albums, in descending order of `'Danceability'`:"
      ],
      "text/plain": [
       "<IPython.core.display.Markdown object>"
      ]
     },
     "metadata": {},
     "output_type": "display_data"
    },
    {
     "data": {
      "text/markdown": [
       "- Lover, Reputation, 1989, Midnights, Red, folklore, Taylor Swift, Speak Now, Fearless, The Tortured Poets Department, evermore"
      ],
      "text/plain": [
       "<IPython.core.display.Markdown object>"
      ]
     },
     "metadata": {},
     "output_type": "display_data"
    },
    {
     "data": {
      "text/markdown": [
       "Taylor Swift albums, in descending order of `'Energy'`:"
      ],
      "text/plain": [
       "<IPython.core.display.Markdown object>"
      ]
     },
     "metadata": {},
     "output_type": "display_data"
    },
    {
     "data": {
      "text/markdown": [
       "- 1989, Taylor Swift, Speak Now, Fearless, Red, Reputation, Lover, evermore, Midnights, The Tortured Poets Department, folklore"
      ],
      "text/plain": [
       "<IPython.core.display.Markdown object>"
      ]
     },
     "metadata": {},
     "output_type": "display_data"
    },
    {
     "data": {
      "text/markdown": [
       "Taylor Swift albums, in descending order of `'Loudness'`:"
      ],
      "text/plain": [
       "<IPython.core.display.Markdown object>"
      ]
     },
     "metadata": {},
     "output_type": "display_data"
    },
    {
     "data": {
      "text/markdown": [
       "- Speak Now, Taylor Swift, Fearless, Red, 1989, Reputation, Lover, The Tortured Poets Department, evermore, folklore, Midnights"
      ],
      "text/plain": [
       "<IPython.core.display.Markdown object>"
      ]
     },
     "metadata": {},
     "output_type": "display_data"
    },
    {
     "data": {
      "text/markdown": [
       "Taylor Swift albums, in descending order of `'Speechiness'`:"
      ],
      "text/plain": [
       "<IPython.core.display.Markdown object>"
      ]
     },
     "metadata": {},
     "output_type": "display_data"
    },
    {
     "data": {
      "text/markdown": [
       "- Lover, Midnights, Reputation, evermore, The Tortured Poets Department, 1989, Red, folklore, Speak Now, Fearless, Taylor Swift"
      ],
      "text/plain": [
       "<IPython.core.display.Markdown object>"
      ]
     },
     "metadata": {},
     "output_type": "display_data"
    },
    {
     "data": {
      "text/markdown": [
       "Taylor Swift albums, in descending order of `'Acousticness'`:"
      ],
      "text/plain": [
       "<IPython.core.display.Markdown object>"
      ]
     },
     "metadata": {},
     "output_type": "display_data"
    },
    {
     "data": {
      "text/markdown": [
       "- evermore, folklore, The Tortured Poets Department, Midnights, Lover, Taylor Swift, Fearless, Speak Now, Red, Reputation, 1989"
      ],
      "text/plain": [
       "<IPython.core.display.Markdown object>"
      ]
     },
     "metadata": {},
     "output_type": "display_data"
    },
    {
     "data": {
      "text/markdown": [
       "Taylor Swift albums, in descending order of `'Instrumentalness'`:"
      ],
      "text/plain": [
       "<IPython.core.display.Markdown object>"
      ]
     },
     "metadata": {},
     "output_type": "display_data"
    },
    {
     "data": {
      "text/markdown": [
       "- Midnights, evermore, 1989, Lover, folklore, The Tortured Poets Department, Red, Taylor Swift, Reputation, Fearless, Speak Now"
      ],
      "text/plain": [
       "<IPython.core.display.Markdown object>"
      ]
     },
     "metadata": {},
     "output_type": "display_data"
    },
    {
     "data": {
      "text/markdown": [
       "Taylor Swift albums, in descending order of `'Liveness'`:"
      ],
      "text/plain": [
       "<IPython.core.display.Markdown object>"
      ]
     },
     "metadata": {},
     "output_type": "display_data"
    },
    {
     "data": {
      "text/markdown": [
       "- Taylor Swift, Fearless, Reputation, 1989, The Tortured Poets Department, Midnights, Speak Now, Red, Lover, evermore, folklore"
      ],
      "text/plain": [
       "<IPython.core.display.Markdown object>"
      ]
     },
     "metadata": {},
     "output_type": "display_data"
    },
    {
     "data": {
      "text/markdown": [
       "Taylor Swift albums, in descending order of `'Valence'`:"
      ],
      "text/plain": [
       "<IPython.core.display.Markdown object>"
      ]
     },
     "metadata": {},
     "output_type": "display_data"
    },
    {
     "data": {
      "text/markdown": [
       "- Lover, Red, evermore, Fearless, Taylor Swift, 1989, Speak Now, folklore, The Tortured Poets Department, Reputation, Midnights"
      ],
      "text/plain": [
       "<IPython.core.display.Markdown object>"
      ]
     },
     "metadata": {},
     "output_type": "display_data"
    },
    {
     "data": {
      "text/markdown": [
       "Taylor Swift albums, in descending order of `'Duration_ms'`:"
      ],
      "text/plain": [
       "<IPython.core.display.Markdown object>"
      ]
     },
     "metadata": {},
     "output_type": "display_data"
    },
    {
     "data": {
      "text/markdown": [
       "- Speak Now, Red, Fearless, evermore, The Tortured Poets Department, folklore, Reputation, 1989, Taylor Swift, Midnights, Lover"
      ],
      "text/plain": [
       "<IPython.core.display.Markdown object>"
      ]
     },
     "metadata": {},
     "output_type": "display_data"
    },
    {
     "data": {
      "text/markdown": [
       "Taylor Swift albums, in descending order of `'Tempo'`:"
      ],
      "text/plain": [
       "<IPython.core.display.Markdown object>"
      ]
     },
     "metadata": {},
     "output_type": "display_data"
    },
    {
     "data": {
      "text/markdown": [
       "- Fearless, Speak Now, Reputation, The Tortured Poets Department, Taylor Swift, evermore, 1989, Lover, folklore, Red, Midnights"
      ],
      "text/plain": [
       "<IPython.core.display.Markdown object>"
      ]
     },
     "metadata": {},
     "output_type": "display_data"
    }
   ],
   "source": [
    "features = ['Popularity', 'Explicit', 'Danceability', 'Energy', 'Loudness',\n",
    "            'Speechiness', 'Acousticness', 'Instrumentalness', 'Liveness',\n",
    "            'Valence', 'Duration_ms', 'Tempo']\n",
    "\n",
    "for feature in features:\n",
    "    # These lines display the output nicely. You don't need to understand how they work.\n",
    "    display(Markdown(f\"Taylor Swift albums, in descending order of `'{feature}'`:\"))\n",
    "    display(Markdown(\"- \" + \", \".join(sort_albums_by(feature))))"
   ]
  },
  {
   "cell_type": "markdown",
   "id": "89dd2b12",
   "metadata": {},
   "source": [
    "**Question 1.13.** Let's look closely at one result from above, duplicated below. Recall that `'Explicit'` is a Boolean variable that determines whether the song includes explicit words. 🤬"
   ]
  },
  {
   "cell_type": "code",
   "execution_count": 43,
   "id": "eea0af11",
   "metadata": {},
   "outputs": [
    {
     "data": {
      "text/markdown": [
       "Taylor Swift albums, in descending order of `'Explicit'`:"
      ],
      "text/plain": [
       "<IPython.core.display.Markdown object>"
      ]
     },
     "metadata": {},
     "output_type": "display_data"
    },
    {
     "data": {
      "text/markdown": [
       "- The Tortured Poets Department, evermore, Midnights, folklore, Red, 1989, Fearless, Lover, Reputation, Speak Now, Taylor Swift"
      ],
      "text/plain": [
       "<IPython.core.display.Markdown object>"
      ]
     },
     "metadata": {},
     "output_type": "display_data"
    }
   ],
   "source": [
    "display(Markdown(f\"Taylor Swift albums, in descending order of `'Explicit'`:\"))\n",
    "display(Markdown(\"- \" + \", \".join(sort_albums_by('Explicit'))))"
   ]
  },
  {
   "cell_type": "markdown",
   "id": "bfbe6cd0",
   "metadata": {
    "deletable": false,
    "editable": false
   },
   "source": [
    "What can you conclude based only on the information displayed by the cell above? Assign a list with the numbers of all the true statements to the variable `q1_13`.\n",
    "\n",
    "1. There are more explicit words in `'The Tortured Poets Department'` than in `'evermore'`. \n",
    "2. A higher fraction of songs on `'The Tortured Poets Department'` use explicit words than on `'evermore'`.\n",
    "3. There are more songs that use explicit words in `'The Tortured Poets Department'` than on `'evermore'`.\n",
    "4. If you randomly select a song from `'The Tortured Poets Department'`, the probability it contains explicit words exceeds the probability that a randomly selected song from `'evermore'` contains explicit words. \n",
    "\n",
    "***Note:*** You can assume that `'The Tortured Poets Department'` and `'evermore'` are not tied for most explicit album.\n",
    "\n",
    "<!--\n",
    "BEGIN QUESTION\n",
    "name: q1_13\n",
    "points: 1\n",
    "-->"
   ]
  },
  {
   "cell_type": "code",
   "execution_count": 44,
   "id": "06f3c77b",
   "metadata": {},
   "outputs": [],
   "source": [
    "q1_13 = [3]"
   ]
  },
  {
   "cell_type": "code",
   "execution_count": 45,
   "id": "c44b16ff",
   "metadata": {
    "deletable": false,
    "editable": false
   },
   "outputs": [
    {
     "data": {
      "text/html": [
       "<p><strong><pre style='display: inline;'>q1_13</pre></strong> passed!</p>"
      ],
      "text/plain": [
       "q1_13 results: All test cases passed!"
      ]
     },
     "execution_count": 45,
     "metadata": {},
     "output_type": "execute_result"
    }
   ],
   "source": [
    "grader.check(\"q1_13\")"
   ]
  },
  {
   "cell_type": "markdown",
   "id": "12e51512",
   "metadata": {},
   "source": [
    "**Question 1.14.** ⭐⭐ While Taylor Swift is primarily a solo artist, she has collaborated with other artists on a number of songs. For example, she featured Lana Del Rey in the song `'Snow On The Beach (Ft. Lana Del Rey)'` and Post Malone in `'Fortnight (Ft. Post Malone)'`. All the collaborative songs in `tswift` are indicated by `'Ft.'` in the name of the song, just like in these examples.\n",
    "\n",
    "Create an overlaid vertical bar chart that allows you to compare the average values of `'Explicit'`, `'Danceability'` and `'Acousticness'` for collaborative songs versus solo songs. Make sure your plot has a title and a legend that accurately describes what is being shown.\n",
    "\n",
    "***Note:*** There is more than one way you can approach this question. Any bar chart that allows you to compare the desired quantities will work!"
   ]
  },
  {
   "cell_type": "code",
   "execution_count": 46,
   "id": "b19fcfa5",
   "metadata": {},
   "outputs": [
    {
     "data": {
      "text/plain": [
       "<AxesSubplot:title={'center':'Average values of Explicit, Danceability and Acousticness for Solo and Collaborative Songs'}, xlabel='Song_Type'>"
      ]
     },
     "execution_count": 46,
     "metadata": {},
     "output_type": "execute_result"
    },
    {
     "data": {
      "image/png": "[encoded data removed]",
      "text/plain": [
       "<Figure size 720x360 with 1 Axes>"
      ]
     },
     "metadata": {},
     "output_type": "display_data"
    }
   ],
   "source": [
    "def feat(song):\n",
    "    if 'Ft.' in song:\n",
    "        return 'Collaborative Songs'\n",
    "    else:\n",
    "        return 'Solo Songs'\n",
    "feat_df = tswift.assign(Song_Type = tswift.get('Song Name').apply(feat))\n",
    "(feat_df\n",
    " .groupby('Song_Type')\n",
    " .mean()\n",
    " .get(['Danceability', 'Acousticness', 'Explicit'])\n",
    " .reset_index()\n",
    " .plot(kind = 'bar',\n",
    "       x = 'Song_Type',\n",
    "       legend = True,\n",
    "       title = 'Average values of Explicit, Danceability and Acousticness for Solo and Collaborative Songs',\n",
    "       ec = 'w'\n",
    "      )\n",
    ")\n"
   ]
  },
  {
   "cell_type": "markdown",
   "id": "b8913e00",
   "metadata": {
    "deletable": false,
    "editable": false
   },
   "source": [
    "Do collaborative songs have higher values of `'Explicit'`, `'Danceability'`, and `'Acousticness'` than solo songs, on average? Assign a list with the numbers of all the true statements to the variable `q1_14`.\n",
    "\n",
    "1. Collaborative songs have a higher value of `'Explicit'` than solo songs, on average.\n",
    "1. Collaborative songs have a higher value of `'Danceability'` than solo songs, on average.\n",
    "1. Collaborative songs have a higher value of `'Acousticness'` than solo songs, on average.\n",
    "\n",
    "<!--\n",
    "BEGIN QUESTION\n",
    "name: q1_14\n",
    "points: 2\n",
    "-->"
   ]
  },
  {
   "cell_type": "code",
   "execution_count": 47,
   "id": "71d6273c",
   "metadata": {},
   "outputs": [],
   "source": [
    "q1_14 = [1,3]"
   ]
  },
  {
   "cell_type": "code",
   "execution_count": 48,
   "id": "5f245835",
   "metadata": {
    "deletable": false,
    "editable": false
   },
   "outputs": [
    {
     "data": {
      "text/html": [
       "<p><strong><pre style='display: inline;'>q1_14</pre></strong> passed!</p>"
      ],
      "text/plain": [
       "q1_14 results: All test cases passed!"
      ]
     },
     "execution_count": 48,
     "metadata": {},
     "output_type": "execute_result"
    }
   ],
   "source": [
    "grader.check(\"q1_14\")"
   ]
  },
  {
   "cell_type": "markdown",
   "id": "8c7857a4",
   "metadata": {},
   "source": [
    "<a id='section2'></a>\n",
    "## Section 2: Song Recommender 🎧\n",
    "\n",
    "> Your favorite song was playing from the far side of the gym.\n",
    "\n",
    "<small>(<a href=\"#outline\">return to the outline</a>)</small>"
   ]
  },
  {
   "cell_type": "markdown",
   "id": "5ff3716f",
   "metadata": {},
   "source": [
    "In this section, we'll create a Taylor Swift song recommender tool. The tool will allow you to input a song you like, selected from a collection of popular songs  on Spotify, and it will recommend to you the songs in Taylor Swift's body of work that are most similar to your input song.\n",
    "\n",
    "We are already familiar with the `tswift` DataFrame; this contains the Taylor Swift songs from which we will make our recommendations.  \n",
    "\n",
    "We will also use a separate dataset of allowed input songs. For this, we have a [collection of popular songs with more than one billion streams](https://open.spotify.com/playlist/37i9dQZF1DX7iB3RCnBnN4) on Spotify. Let's load in this data and store it in the DataFrame `billions_club`. `billions_club` contains all the same columns as `tswift`, except that it doesn't have a `'Year'` column, and it has an additional column named `'Artist'`, because it includes songs by a variety of artists."
   ]
  },
  {
   "cell_type": "code",
   "execution_count": 49,
   "id": "178c9d59",
   "metadata": {
    "scrolled": false
   },
   "outputs": [
    {
     "data": {
      "text/html": [
       "<div>\n",
       "<style scoped>\n",
       "    .dataframe tbody tr th:only-of-type {\n",
       "        vertical-align: middle;\n",
       "    }\n",
       "\n",
       "    .dataframe tbody tr th {\n",
       "        vertical-align: top;\n",
       "    }\n",
       "\n",
       "    .dataframe thead th {\n",
       "        text-align: right;\n",
       "    }\n",
       "</style>\n",
       "<table border=\"1\" class=\"dataframe\">\n",
       "  <thead>\n",
       "    <tr style=\"text-align: right;\">\n",
       "      <th></th>\n",
       "      <th>Album</th>\n",
       "      <th>Song Name</th>\n",
       "      <th>Artist</th>\n",
       "      <th>Disc Number</th>\n",
       "      <th>Track Number</th>\n",
       "      <th>Popularity</th>\n",
       "      <th>Explicit</th>\n",
       "      <th>Danceability</th>\n",
       "      <th>Energy</th>\n",
       "      <th>Key</th>\n",
       "      <th>Loudness</th>\n",
       "      <th>Mode</th>\n",
       "      <th>Speechiness</th>\n",
       "      <th>Acousticness</th>\n",
       "      <th>Instrumentalness</th>\n",
       "      <th>Liveness</th>\n",
       "      <th>Valence</th>\n",
       "      <th>Tempo</th>\n",
       "      <th>Duration_ms</th>\n",
       "      <th>Time Signature</th>\n",
       "    </tr>\n",
       "    <tr>\n",
       "      <th>URI</th>\n",
       "      <th></th>\n",
       "      <th></th>\n",
       "      <th></th>\n",
       "      <th></th>\n",
       "      <th></th>\n",
       "      <th></th>\n",
       "      <th></th>\n",
       "      <th></th>\n",
       "      <th></th>\n",
       "      <th></th>\n",
       "      <th></th>\n",
       "      <th></th>\n",
       "      <th></th>\n",
       "      <th></th>\n",
       "      <th></th>\n",
       "      <th></th>\n",
       "      <th></th>\n",
       "      <th></th>\n",
       "      <th></th>\n",
       "      <th></th>\n",
       "    </tr>\n",
       "  </thead>\n",
       "  <tbody>\n",
       "    <tr>\n",
       "      <th>02dRkCEc8Q5ch4TTcnLxOn</th>\n",
       "      <td>Late Night Feelings</td>\n",
       "      <td>Nothing Breaks Like a Heart (feat. Miley Cyrus)</td>\n",
       "      <td>Mark Ronson; Miley Cyrus</td>\n",
       "      <td>1</td>\n",
       "      <td>9</td>\n",
       "      <td>76</td>\n",
       "      <td>False</td>\n",
       "      <td>0.601</td>\n",
       "      <td>0.794</td>\n",
       "      <td>7</td>\n",
       "      <td>-5.844</td>\n",
       "      <td>0</td>\n",
       "      <td>0.0671</td>\n",
       "      <td>0.00987</td>\n",
       "      <td>0.000001</td>\n",
       "      <td>0.4180</td>\n",
       "      <td>0.244</td>\n",
       "      <td>114.066</td>\n",
       "      <td>217099</td>\n",
       "      <td>4</td>\n",
       "    </tr>\n",
       "    <tr>\n",
       "      <th>4kV4N9D1iKVxx1KLvtTpjS</th>\n",
       "      <td>thank u, next</td>\n",
       "      <td>break up with your girlfriend, i'm bored</td>\n",
       "      <td>Ariana Grande</td>\n",
       "      <td>1</td>\n",
       "      <td>12</td>\n",
       "      <td>73</td>\n",
       "      <td>True</td>\n",
       "      <td>0.727</td>\n",
       "      <td>0.554</td>\n",
       "      <td>5</td>\n",
       "      <td>-5.290</td>\n",
       "      <td>0</td>\n",
       "      <td>0.0915</td>\n",
       "      <td>0.04210</td>\n",
       "      <td>0.000000</td>\n",
       "      <td>0.1060</td>\n",
       "      <td>0.335</td>\n",
       "      <td>170.000</td>\n",
       "      <td>190440</td>\n",
       "      <td>4</td>\n",
       "    </tr>\n",
       "    <tr>\n",
       "      <th>07nH4ifBxUB4lZcsf44Brn</th>\n",
       "      <td>Motion</td>\n",
       "      <td>Blame (feat. John Newman)</td>\n",
       "      <td>Calvin Harris; John Newman</td>\n",
       "      <td>1</td>\n",
       "      <td>3</td>\n",
       "      <td>80</td>\n",
       "      <td>False</td>\n",
       "      <td>0.414</td>\n",
       "      <td>0.857</td>\n",
       "      <td>0</td>\n",
       "      <td>-4.078</td>\n",
       "      <td>0</td>\n",
       "      <td>0.0808</td>\n",
       "      <td>0.02870</td>\n",
       "      <td>0.005740</td>\n",
       "      <td>0.3430</td>\n",
       "      <td>0.348</td>\n",
       "      <td>128.024</td>\n",
       "      <td>212960</td>\n",
       "      <td>4</td>\n",
       "    </tr>\n",
       "    <tr>\n",
       "      <th>6dOtVTDdiauQNBQEDOtlAB</th>\n",
       "      <td>HIT ME HARD AND SOFT</td>\n",
       "      <td>BIRDS OF A FEATHER</td>\n",
       "      <td>Billie Eilish</td>\n",
       "      <td>1</td>\n",
       "      <td>4</td>\n",
       "      <td>98</td>\n",
       "      <td>False</td>\n",
       "      <td>0.747</td>\n",
       "      <td>0.507</td>\n",
       "      <td>2</td>\n",
       "      <td>-10.171</td>\n",
       "      <td>1</td>\n",
       "      <td>0.0358</td>\n",
       "      <td>0.20000</td>\n",
       "      <td>0.060800</td>\n",
       "      <td>0.1170</td>\n",
       "      <td>0.438</td>\n",
       "      <td>104.978</td>\n",
       "      <td>210373</td>\n",
       "      <td>4</td>\n",
       "    </tr>\n",
       "    <tr>\n",
       "      <th>76JKIsdKrAfWUMjaA0u7v5</th>\n",
       "      <td>Unreal Unearth: Unaired</td>\n",
       "      <td>Too Sweet</td>\n",
       "      <td>Hozier</td>\n",
       "      <td>2</td>\n",
       "      <td>1</td>\n",
       "      <td>78</td>\n",
       "      <td>False</td>\n",
       "      <td>0.741</td>\n",
       "      <td>0.620</td>\n",
       "      <td>10</td>\n",
       "      <td>-5.505</td>\n",
       "      <td>1</td>\n",
       "      <td>0.0412</td>\n",
       "      <td>0.02950</td>\n",
       "      <td>0.000809</td>\n",
       "      <td>0.0398</td>\n",
       "      <td>0.934</td>\n",
       "      <td>117.038</td>\n",
       "      <td>251424</td>\n",
       "      <td>4</td>\n",
       "    </tr>\n",
       "    <tr>\n",
       "      <th>...</th>\n",
       "      <td>...</td>\n",
       "      <td>...</td>\n",
       "      <td>...</td>\n",
       "      <td>...</td>\n",
       "      <td>...</td>\n",
       "      <td>...</td>\n",
       "      <td>...</td>\n",
       "      <td>...</td>\n",
       "      <td>...</td>\n",
       "      <td>...</td>\n",
       "      <td>...</td>\n",
       "      <td>...</td>\n",
       "      <td>...</td>\n",
       "      <td>...</td>\n",
       "      <td>...</td>\n",
       "      <td>...</td>\n",
       "      <td>...</td>\n",
       "      <td>...</td>\n",
       "      <td>...</td>\n",
       "      <td>...</td>\n",
       "    </tr>\n",
       "    <tr>\n",
       "      <th>0h1W19pS59KtEd7aDzF58i</th>\n",
       "      <td>Scorpion</td>\n",
       "      <td>In My Feelings</td>\n",
       "      <td>Drake</td>\n",
       "      <td>2</td>\n",
       "      <td>9</td>\n",
       "      <td>47</td>\n",
       "      <td>False</td>\n",
       "      <td>0.833</td>\n",
       "      <td>0.619</td>\n",
       "      <td>8</td>\n",
       "      <td>-5.822</td>\n",
       "      <td>1</td>\n",
       "      <td>0.0971</td>\n",
       "      <td>0.04960</td>\n",
       "      <td>0.000087</td>\n",
       "      <td>0.3000</td>\n",
       "      <td>0.366</td>\n",
       "      <td>91.022</td>\n",
       "      <td>217925</td>\n",
       "      <td>4</td>\n",
       "    </tr>\n",
       "    <tr>\n",
       "      <th>2b8fOow8UzyDFAE27YhOZM</th>\n",
       "      <td>Memories</td>\n",
       "      <td>Memories</td>\n",
       "      <td>Maroon 5</td>\n",
       "      <td>1</td>\n",
       "      <td>1</td>\n",
       "      <td>25</td>\n",
       "      <td>False</td>\n",
       "      <td>0.764</td>\n",
       "      <td>0.320</td>\n",
       "      <td>11</td>\n",
       "      <td>-7.209</td>\n",
       "      <td>1</td>\n",
       "      <td>0.0546</td>\n",
       "      <td>0.83700</td>\n",
       "      <td>0.000000</td>\n",
       "      <td>0.0822</td>\n",
       "      <td>0.575</td>\n",
       "      <td>91.019</td>\n",
       "      <td>189486</td>\n",
       "      <td>4</td>\n",
       "    </tr>\n",
       "    <tr>\n",
       "      <th>116H0KvKr2Zl4RPuVBruDO</th>\n",
       "      <td>MIA (feat. Drake)</td>\n",
       "      <td>MIA (feat. Drake)</td>\n",
       "      <td>Bad Bunny; Drake</td>\n",
       "      <td>1</td>\n",
       "      <td>1</td>\n",
       "      <td>12</td>\n",
       "      <td>False</td>\n",
       "      <td>0.817</td>\n",
       "      <td>0.539</td>\n",
       "      <td>6</td>\n",
       "      <td>-6.349</td>\n",
       "      <td>0</td>\n",
       "      <td>0.0621</td>\n",
       "      <td>0.01410</td>\n",
       "      <td>0.000496</td>\n",
       "      <td>0.0990</td>\n",
       "      <td>0.158</td>\n",
       "      <td>97.062</td>\n",
       "      <td>210368</td>\n",
       "      <td>4</td>\n",
       "    </tr>\n",
       "    <tr>\n",
       "      <th>1pKeFVVUOPjFsOABub0OaV</th>\n",
       "      <td>Dangerous Woman</td>\n",
       "      <td>Side To Side</td>\n",
       "      <td>Ariana Grande; Nicki Minaj</td>\n",
       "      <td>1</td>\n",
       "      <td>5</td>\n",
       "      <td>2</td>\n",
       "      <td>True</td>\n",
       "      <td>0.650</td>\n",
       "      <td>0.736</td>\n",
       "      <td>6</td>\n",
       "      <td>-5.840</td>\n",
       "      <td>0</td>\n",
       "      <td>0.2290</td>\n",
       "      <td>0.05280</td>\n",
       "      <td>0.000000</td>\n",
       "      <td>0.2350</td>\n",
       "      <td>0.613</td>\n",
       "      <td>159.173</td>\n",
       "      <td>226160</td>\n",
       "      <td>4</td>\n",
       "    </tr>\n",
       "    <tr>\n",
       "      <th>4sPmO7WMQUAf45kwMOtONw</th>\n",
       "      <td>25</td>\n",
       "      <td>Hello</td>\n",
       "      <td>Adele</td>\n",
       "      <td>1</td>\n",
       "      <td>1</td>\n",
       "      <td>0</td>\n",
       "      <td>False</td>\n",
       "      <td>0.481</td>\n",
       "      <td>0.451</td>\n",
       "      <td>5</td>\n",
       "      <td>-6.095</td>\n",
       "      <td>0</td>\n",
       "      <td>0.0347</td>\n",
       "      <td>0.33600</td>\n",
       "      <td>0.000000</td>\n",
       "      <td>0.0872</td>\n",
       "      <td>0.289</td>\n",
       "      <td>157.966</td>\n",
       "      <td>295493</td>\n",
       "      <td>4</td>\n",
       "    </tr>\n",
       "  </tbody>\n",
       "</table>\n",
       "<p>763 rows × 20 columns</p>\n",
       "</div>"
      ],
      "text/plain": [
       "                                          Album  \\\n",
       "URI                                               \n",
       "02dRkCEc8Q5ch4TTcnLxOn      Late Night Feelings   \n",
       "4kV4N9D1iKVxx1KLvtTpjS            thank u, next   \n",
       "07nH4ifBxUB4lZcsf44Brn                   Motion   \n",
       "6dOtVTDdiauQNBQEDOtlAB     HIT ME HARD AND SOFT   \n",
       "76JKIsdKrAfWUMjaA0u7v5  Unreal Unearth: Unaired   \n",
       "...                                         ...   \n",
       "0h1W19pS59KtEd7aDzF58i                 Scorpion   \n",
       "2b8fOow8UzyDFAE27YhOZM                 Memories   \n",
       "116H0KvKr2Zl4RPuVBruDO        MIA (feat. Drake)   \n",
       "1pKeFVVUOPjFsOABub0OaV          Dangerous Woman   \n",
       "4sPmO7WMQUAf45kwMOtONw                       25   \n",
       "\n",
       "                                                              Song Name  \\\n",
       "URI                                                                       \n",
       "02dRkCEc8Q5ch4TTcnLxOn  Nothing Breaks Like a Heart (feat. Miley Cyrus)   \n",
       "4kV4N9D1iKVxx1KLvtTpjS         break up with your girlfriend, i'm bored   \n",
       "07nH4ifBxUB4lZcsf44Brn                        Blame (feat. John Newman)   \n",
       "6dOtVTDdiauQNBQEDOtlAB                               BIRDS OF A FEATHER   \n",
       "76JKIsdKrAfWUMjaA0u7v5                                        Too Sweet   \n",
       "...                                                                 ...   \n",
       "0h1W19pS59KtEd7aDzF58i                                   In My Feelings   \n",
       "2b8fOow8UzyDFAE27YhOZM                                         Memories   \n",
       "116H0KvKr2Zl4RPuVBruDO                                MIA (feat. Drake)   \n",
       "1pKeFVVUOPjFsOABub0OaV                                     Side To Side   \n",
       "4sPmO7WMQUAf45kwMOtONw                                            Hello   \n",
       "\n",
       "                                            Artist  Disc Number  Track Number  \\\n",
       "URI                                                                             \n",
       "02dRkCEc8Q5ch4TTcnLxOn    Mark Ronson; Miley Cyrus            1             9   \n",
       "4kV4N9D1iKVxx1KLvtTpjS               Ariana Grande            1            12   \n",
       "07nH4ifBxUB4lZcsf44Brn  Calvin Harris; John Newman            1             3   \n",
       "6dOtVTDdiauQNBQEDOtlAB               Billie Eilish            1             4   \n",
       "76JKIsdKrAfWUMjaA0u7v5                      Hozier            2             1   \n",
       "...                                            ...          ...           ...   \n",
       "0h1W19pS59KtEd7aDzF58i                       Drake            2             9   \n",
       "2b8fOow8UzyDFAE27YhOZM                    Maroon 5            1             1   \n",
       "116H0KvKr2Zl4RPuVBruDO            Bad Bunny; Drake            1             1   \n",
       "1pKeFVVUOPjFsOABub0OaV  Ariana Grande; Nicki Minaj            1             5   \n",
       "4sPmO7WMQUAf45kwMOtONw                       Adele            1             1   \n",
       "\n",
       "                        Popularity  Explicit  Danceability  Energy  Key  \\\n",
       "URI                                                                       \n",
       "02dRkCEc8Q5ch4TTcnLxOn          76     False         0.601   0.794    7   \n",
       "4kV4N9D1iKVxx1KLvtTpjS          73      True         0.727   0.554    5   \n",
       "07nH4ifBxUB4lZcsf44Brn          80     False         0.414   0.857    0   \n",
       "6dOtVTDdiauQNBQEDOtlAB          98     False         0.747   0.507    2   \n",
       "76JKIsdKrAfWUMjaA0u7v5          78     False         0.741   0.620   10   \n",
       "...                            ...       ...           ...     ...  ...   \n",
       "0h1W19pS59KtEd7aDzF58i          47     False         0.833   0.619    8   \n",
       "2b8fOow8UzyDFAE27YhOZM          25     False         0.764   0.320   11   \n",
       "116H0KvKr2Zl4RPuVBruDO          12     False         0.817   0.539    6   \n",
       "1pKeFVVUOPjFsOABub0OaV           2      True         0.650   0.736    6   \n",
       "4sPmO7WMQUAf45kwMOtONw           0     False         0.481   0.451    5   \n",
       "\n",
       "                        Loudness  Mode  Speechiness  Acousticness  \\\n",
       "URI                                                                 \n",
       "02dRkCEc8Q5ch4TTcnLxOn    -5.844     0       0.0671       0.00987   \n",
       "4kV4N9D1iKVxx1KLvtTpjS    -5.290     0       0.0915       0.04210   \n",
       "07nH4ifBxUB4lZcsf44Brn    -4.078     0       0.0808       0.02870   \n",
       "6dOtVTDdiauQNBQEDOtlAB   -10.171     1       0.0358       0.20000   \n",
       "76JKIsdKrAfWUMjaA0u7v5    -5.505     1       0.0412       0.02950   \n",
       "...                          ...   ...          ...           ...   \n",
       "0h1W19pS59KtEd7aDzF58i    -5.822     1       0.0971       0.04960   \n",
       "2b8fOow8UzyDFAE27YhOZM    -7.209     1       0.0546       0.83700   \n",
       "116H0KvKr2Zl4RPuVBruDO    -6.349     0       0.0621       0.01410   \n",
       "1pKeFVVUOPjFsOABub0OaV    -5.840     0       0.2290       0.05280   \n",
       "4sPmO7WMQUAf45kwMOtONw    -6.095     0       0.0347       0.33600   \n",
       "\n",
       "                        Instrumentalness  Liveness  Valence    Tempo  \\\n",
       "URI                                                                    \n",
       "02dRkCEc8Q5ch4TTcnLxOn          0.000001    0.4180    0.244  114.066   \n",
       "4kV4N9D1iKVxx1KLvtTpjS          0.000000    0.1060    0.335  170.000   \n",
       "07nH4ifBxUB4lZcsf44Brn          0.005740    0.3430    0.348  128.024   \n",
       "6dOtVTDdiauQNBQEDOtlAB          0.060800    0.1170    0.438  104.978   \n",
       "76JKIsdKrAfWUMjaA0u7v5          0.000809    0.0398    0.934  117.038   \n",
       "...                                  ...       ...      ...      ...   \n",
       "0h1W19pS59KtEd7aDzF58i          0.000087    0.3000    0.366   91.022   \n",
       "2b8fOow8UzyDFAE27YhOZM          0.000000    0.0822    0.575   91.019   \n",
       "116H0KvKr2Zl4RPuVBruDO          0.000496    0.0990    0.158   97.062   \n",
       "1pKeFVVUOPjFsOABub0OaV          0.000000    0.2350    0.613  159.173   \n",
       "4sPmO7WMQUAf45kwMOtONw          0.000000    0.0872    0.289  157.966   \n",
       "\n",
       "                        Duration_ms  Time Signature  \n",
       "URI                                                  \n",
       "02dRkCEc8Q5ch4TTcnLxOn       217099               4  \n",
       "4kV4N9D1iKVxx1KLvtTpjS       190440               4  \n",
       "07nH4ifBxUB4lZcsf44Brn       212960               4  \n",
       "6dOtVTDdiauQNBQEDOtlAB       210373               4  \n",
       "76JKIsdKrAfWUMjaA0u7v5       251424               4  \n",
       "...                             ...             ...  \n",
       "0h1W19pS59KtEd7aDzF58i       217925               4  \n",
       "2b8fOow8UzyDFAE27YhOZM       189486               4  \n",
       "116H0KvKr2Zl4RPuVBruDO       210368               4  \n",
       "1pKeFVVUOPjFsOABub0OaV       226160               4  \n",
       "4sPmO7WMQUAf45kwMOtONw       295493               4  \n",
       "\n",
       "[763 rows x 20 columns]"
      ]
     },
     "execution_count": 49,
     "metadata": {},
     "output_type": "execute_result"
    }
   ],
   "source": [
    "billions_club = bpd.read_csv('data/billions_club.csv').set_index('URI')\n",
    "billions_club"
   ]
  },
  {
   "cell_type": "markdown",
   "id": "c57b42fe",
   "metadata": {},
   "source": [
    "The goal in this section is to find a song in the `billions_club` DataFrame that we like and use it as an input to our recommender tool to find Taylor Swift songs with a similar sound. The problem is, in the preview of the DataFrame above, we can only see the first few rows and the last few rows of `billions_club`, so it's hard to see all of the possible songs we can choose from. Let's browse the DataFrame by randomly selecting ten rows to display. "
   ]
  },
  {
   "cell_type": "code",
   "execution_count": 50,
   "id": "cebc11ca",
   "metadata": {
    "scrolled": true
   },
   "outputs": [
    {
     "data": {
      "text/html": [
       "<div>\n",
       "<style scoped>\n",
       "    .dataframe tbody tr th:only-of-type {\n",
       "        vertical-align: middle;\n",
       "    }\n",
       "\n",
       "    .dataframe tbody tr th {\n",
       "        vertical-align: top;\n",
       "    }\n",
       "\n",
       "    .dataframe thead th {\n",
       "        text-align: right;\n",
       "    }\n",
       "</style>\n",
       "<table border=\"1\" class=\"dataframe\">\n",
       "  <thead>\n",
       "    <tr style=\"text-align: right;\">\n",
       "      <th></th>\n",
       "      <th>Song Name</th>\n",
       "      <th>Artist</th>\n",
       "    </tr>\n",
       "    <tr>\n",
       "      <th>URI</th>\n",
       "      <th></th>\n",
       "      <th></th>\n",
       "    </tr>\n",
       "  </thead>\n",
       "  <tbody>\n",
       "    <tr>\n",
       "      <th>4DHcnVTT87F0zZhRPYmZ3B</th>\n",
       "      <td>Flowers</td>\n",
       "      <td>Miley Cyrus</td>\n",
       "    </tr>\n",
       "    <tr>\n",
       "      <th>5tf1VVWniHgryyumXyJM7w</th>\n",
       "      <td>Sugar (feat. Francesco Yates)</td>\n",
       "      <td>Robin Schulz; Francesco Yates</td>\n",
       "    </tr>\n",
       "    <tr>\n",
       "      <th>3GZD6HmiNUhxXYf8Gch723</th>\n",
       "      <td>Lost</td>\n",
       "      <td>Frank Ocean</td>\n",
       "    </tr>\n",
       "    <tr>\n",
       "      <th>3e9HZxeyfWwjeyPAMmWSSQ</th>\n",
       "      <td>thank u, next</td>\n",
       "      <td>Ariana Grande</td>\n",
       "    </tr>\n",
       "    <tr>\n",
       "      <th>5wANPM4fQCJwkGd4rN57mH</th>\n",
       "      <td>drivers license</td>\n",
       "      <td>Olivia Rodrigo</td>\n",
       "    </tr>\n",
       "    <tr>\n",
       "      <th>0wXuerDYiBnERgIpbb3JBR</th>\n",
       "      <td>Redbone</td>\n",
       "      <td>Childish Gambino</td>\n",
       "    </tr>\n",
       "    <tr>\n",
       "      <th>3CA9pLiwRIGtUBiMjbZmRw</th>\n",
       "      <td>Nice For What</td>\n",
       "      <td>Drake</td>\n",
       "    </tr>\n",
       "    <tr>\n",
       "      <th>3KkXRkHbMCARz0aVfEt68P</th>\n",
       "      <td>Sunflower - Spider-Man: Into the Spider-Verse</td>\n",
       "      <td>Post Malone; Swae Lee</td>\n",
       "    </tr>\n",
       "    <tr>\n",
       "      <th>3d9DChrdc6BOeFsbrZ3Is0</th>\n",
       "      <td>Under the Bridge</td>\n",
       "      <td>Red Hot Chili Peppers</td>\n",
       "    </tr>\n",
       "    <tr>\n",
       "      <th>5w9c2J52mkdntKOmRLeM2m</th>\n",
       "      <td>Con Calma</td>\n",
       "      <td>Daddy Yankee; Snow</td>\n",
       "    </tr>\n",
       "  </tbody>\n",
       "</table>\n",
       "</div>"
      ],
      "text/plain": [
       "                                                            Song Name  \\\n",
       "URI                                                                     \n",
       "4DHcnVTT87F0zZhRPYmZ3B                                        Flowers   \n",
       "5tf1VVWniHgryyumXyJM7w                  Sugar (feat. Francesco Yates)   \n",
       "3GZD6HmiNUhxXYf8Gch723                                           Lost   \n",
       "3e9HZxeyfWwjeyPAMmWSSQ                                  thank u, next   \n",
       "5wANPM4fQCJwkGd4rN57mH                                drivers license   \n",
       "0wXuerDYiBnERgIpbb3JBR                                        Redbone   \n",
       "3CA9pLiwRIGtUBiMjbZmRw                                  Nice For What   \n",
       "3KkXRkHbMCARz0aVfEt68P  Sunflower - Spider-Man: Into the Spider-Verse   \n",
       "3d9DChrdc6BOeFsbrZ3Is0                               Under the Bridge   \n",
       "5w9c2J52mkdntKOmRLeM2m                                      Con Calma   \n",
       "\n",
       "                                               Artist  \n",
       "URI                                                    \n",
       "4DHcnVTT87F0zZhRPYmZ3B                    Miley Cyrus  \n",
       "5tf1VVWniHgryyumXyJM7w  Robin Schulz; Francesco Yates  \n",
       "3GZD6HmiNUhxXYf8Gch723                    Frank Ocean  \n",
       "3e9HZxeyfWwjeyPAMmWSSQ                  Ariana Grande  \n",
       "5wANPM4fQCJwkGd4rN57mH                 Olivia Rodrigo  \n",
       "0wXuerDYiBnERgIpbb3JBR               Childish Gambino  \n",
       "3CA9pLiwRIGtUBiMjbZmRw                          Drake  \n",
       "3KkXRkHbMCARz0aVfEt68P          Post Malone; Swae Lee  \n",
       "3d9DChrdc6BOeFsbrZ3Is0          Red Hot Chili Peppers  \n",
       "5w9c2J52mkdntKOmRLeM2m             Daddy Yankee; Snow  "
      ]
     },
     "execution_count": 50,
     "metadata": {},
     "output_type": "execute_result"
    }
   ],
   "source": [
    "# Run this cell a few times!\n",
    "billions_club.sample(10).get(['Song Name', 'Artist'])"
   ]
  },
  {
   "cell_type": "code",
   "execution_count": 51,
   "id": "36151ea1",
   "metadata": {},
   "outputs": [
    {
     "data": {
      "text/html": [
       "<div>\n",
       "<style scoped>\n",
       "    .dataframe tbody tr th:only-of-type {\n",
       "        vertical-align: middle;\n",
       "    }\n",
       "\n",
       "    .dataframe tbody tr th {\n",
       "        vertical-align: top;\n",
       "    }\n",
       "\n",
       "    .dataframe thead th {\n",
       "        text-align: right;\n",
       "    }\n",
       "</style>\n",
       "<table border=\"1\" class=\"dataframe\">\n",
       "  <thead>\n",
       "    <tr style=\"text-align: right;\">\n",
       "      <th></th>\n",
       "      <th>Album</th>\n",
       "      <th>Song Name</th>\n",
       "      <th>Artist</th>\n",
       "      <th>Disc Number</th>\n",
       "      <th>Track Number</th>\n",
       "      <th>Popularity</th>\n",
       "      <th>Explicit</th>\n",
       "      <th>Danceability</th>\n",
       "      <th>Energy</th>\n",
       "      <th>Key</th>\n",
       "      <th>Loudness</th>\n",
       "      <th>Mode</th>\n",
       "      <th>Speechiness</th>\n",
       "      <th>Acousticness</th>\n",
       "      <th>Instrumentalness</th>\n",
       "      <th>Liveness</th>\n",
       "      <th>Valence</th>\n",
       "      <th>Tempo</th>\n",
       "      <th>Duration_ms</th>\n",
       "      <th>Time Signature</th>\n",
       "    </tr>\n",
       "    <tr>\n",
       "      <th>URI</th>\n",
       "      <th></th>\n",
       "      <th></th>\n",
       "      <th></th>\n",
       "      <th></th>\n",
       "      <th></th>\n",
       "      <th></th>\n",
       "      <th></th>\n",
       "      <th></th>\n",
       "      <th></th>\n",
       "      <th></th>\n",
       "      <th></th>\n",
       "      <th></th>\n",
       "      <th></th>\n",
       "      <th></th>\n",
       "      <th></th>\n",
       "      <th></th>\n",
       "      <th></th>\n",
       "      <th></th>\n",
       "      <th></th>\n",
       "      <th></th>\n",
       "    </tr>\n",
       "  </thead>\n",
       "  <tbody>\n",
       "    <tr>\n",
       "      <th>02dRkCEc8Q5ch4TTcnLxOn</th>\n",
       "      <td>Late Night Feelings</td>\n",
       "      <td>Nothing Breaks Like a Heart (feat. Miley Cyrus)</td>\n",
       "      <td>Mark Ronson; Miley Cyrus</td>\n",
       "      <td>1</td>\n",
       "      <td>9</td>\n",
       "      <td>76</td>\n",
       "      <td>False</td>\n",
       "      <td>0.601</td>\n",
       "      <td>0.794</td>\n",
       "      <td>7</td>\n",
       "      <td>-5.844</td>\n",
       "      <td>0</td>\n",
       "      <td>0.0671</td>\n",
       "      <td>0.00987</td>\n",
       "      <td>0.000001</td>\n",
       "      <td>0.4180</td>\n",
       "      <td>0.244</td>\n",
       "      <td>114.066</td>\n",
       "      <td>217099</td>\n",
       "      <td>4</td>\n",
       "    </tr>\n",
       "    <tr>\n",
       "      <th>4kV4N9D1iKVxx1KLvtTpjS</th>\n",
       "      <td>thank u, next</td>\n",
       "      <td>break up with your girlfriend, i'm bored</td>\n",
       "      <td>Ariana Grande</td>\n",
       "      <td>1</td>\n",
       "      <td>12</td>\n",
       "      <td>73</td>\n",
       "      <td>True</td>\n",
       "      <td>0.727</td>\n",
       "      <td>0.554</td>\n",
       "      <td>5</td>\n",
       "      <td>-5.290</td>\n",
       "      <td>0</td>\n",
       "      <td>0.0915</td>\n",
       "      <td>0.04210</td>\n",
       "      <td>0.000000</td>\n",
       "      <td>0.1060</td>\n",
       "      <td>0.335</td>\n",
       "      <td>170.000</td>\n",
       "      <td>190440</td>\n",
       "      <td>4</td>\n",
       "    </tr>\n",
       "    <tr>\n",
       "      <th>07nH4ifBxUB4lZcsf44Brn</th>\n",
       "      <td>Motion</td>\n",
       "      <td>Blame (feat. John Newman)</td>\n",
       "      <td>Calvin Harris; John Newman</td>\n",
       "      <td>1</td>\n",
       "      <td>3</td>\n",
       "      <td>80</td>\n",
       "      <td>False</td>\n",
       "      <td>0.414</td>\n",
       "      <td>0.857</td>\n",
       "      <td>0</td>\n",
       "      <td>-4.078</td>\n",
       "      <td>0</td>\n",
       "      <td>0.0808</td>\n",
       "      <td>0.02870</td>\n",
       "      <td>0.005740</td>\n",
       "      <td>0.3430</td>\n",
       "      <td>0.348</td>\n",
       "      <td>128.024</td>\n",
       "      <td>212960</td>\n",
       "      <td>4</td>\n",
       "    </tr>\n",
       "    <tr>\n",
       "      <th>6dOtVTDdiauQNBQEDOtlAB</th>\n",
       "      <td>HIT ME HARD AND SOFT</td>\n",
       "      <td>BIRDS OF A FEATHER</td>\n",
       "      <td>Billie Eilish</td>\n",
       "      <td>1</td>\n",
       "      <td>4</td>\n",
       "      <td>98</td>\n",
       "      <td>False</td>\n",
       "      <td>0.747</td>\n",
       "      <td>0.507</td>\n",
       "      <td>2</td>\n",
       "      <td>-10.171</td>\n",
       "      <td>1</td>\n",
       "      <td>0.0358</td>\n",
       "      <td>0.20000</td>\n",
       "      <td>0.060800</td>\n",
       "      <td>0.1170</td>\n",
       "      <td>0.438</td>\n",
       "      <td>104.978</td>\n",
       "      <td>210373</td>\n",
       "      <td>4</td>\n",
       "    </tr>\n",
       "    <tr>\n",
       "      <th>76JKIsdKrAfWUMjaA0u7v5</th>\n",
       "      <td>Unreal Unearth: Unaired</td>\n",
       "      <td>Too Sweet</td>\n",
       "      <td>Hozier</td>\n",
       "      <td>2</td>\n",
       "      <td>1</td>\n",
       "      <td>78</td>\n",
       "      <td>False</td>\n",
       "      <td>0.741</td>\n",
       "      <td>0.620</td>\n",
       "      <td>10</td>\n",
       "      <td>-5.505</td>\n",
       "      <td>1</td>\n",
       "      <td>0.0412</td>\n",
       "      <td>0.02950</td>\n",
       "      <td>0.000809</td>\n",
       "      <td>0.0398</td>\n",
       "      <td>0.934</td>\n",
       "      <td>117.038</td>\n",
       "      <td>251424</td>\n",
       "      <td>4</td>\n",
       "    </tr>\n",
       "    <tr>\n",
       "      <th>...</th>\n",
       "      <td>...</td>\n",
       "      <td>...</td>\n",
       "      <td>...</td>\n",
       "      <td>...</td>\n",
       "      <td>...</td>\n",
       "      <td>...</td>\n",
       "      <td>...</td>\n",
       "      <td>...</td>\n",
       "      <td>...</td>\n",
       "      <td>...</td>\n",
       "      <td>...</td>\n",
       "      <td>...</td>\n",
       "      <td>...</td>\n",
       "      <td>...</td>\n",
       "      <td>...</td>\n",
       "      <td>...</td>\n",
       "      <td>...</td>\n",
       "      <td>...</td>\n",
       "      <td>...</td>\n",
       "      <td>...</td>\n",
       "    </tr>\n",
       "    <tr>\n",
       "      <th>0h1W19pS59KtEd7aDzF58i</th>\n",
       "      <td>Scorpion</td>\n",
       "      <td>In My Feelings</td>\n",
       "      <td>Drake</td>\n",
       "      <td>2</td>\n",
       "      <td>9</td>\n",
       "      <td>47</td>\n",
       "      <td>False</td>\n",
       "      <td>0.833</td>\n",
       "      <td>0.619</td>\n",
       "      <td>8</td>\n",
       "      <td>-5.822</td>\n",
       "      <td>1</td>\n",
       "      <td>0.0971</td>\n",
       "      <td>0.04960</td>\n",
       "      <td>0.000087</td>\n",
       "      <td>0.3000</td>\n",
       "      <td>0.366</td>\n",
       "      <td>91.022</td>\n",
       "      <td>217925</td>\n",
       "      <td>4</td>\n",
       "    </tr>\n",
       "    <tr>\n",
       "      <th>2b8fOow8UzyDFAE27YhOZM</th>\n",
       "      <td>Memories</td>\n",
       "      <td>Memories</td>\n",
       "      <td>Maroon 5</td>\n",
       "      <td>1</td>\n",
       "      <td>1</td>\n",
       "      <td>25</td>\n",
       "      <td>False</td>\n",
       "      <td>0.764</td>\n",
       "      <td>0.320</td>\n",
       "      <td>11</td>\n",
       "      <td>-7.209</td>\n",
       "      <td>1</td>\n",
       "      <td>0.0546</td>\n",
       "      <td>0.83700</td>\n",
       "      <td>0.000000</td>\n",
       "      <td>0.0822</td>\n",
       "      <td>0.575</td>\n",
       "      <td>91.019</td>\n",
       "      <td>189486</td>\n",
       "      <td>4</td>\n",
       "    </tr>\n",
       "    <tr>\n",
       "      <th>116H0KvKr2Zl4RPuVBruDO</th>\n",
       "      <td>MIA (feat. Drake)</td>\n",
       "      <td>MIA (feat. Drake)</td>\n",
       "      <td>Bad Bunny; Drake</td>\n",
       "      <td>1</td>\n",
       "      <td>1</td>\n",
       "      <td>12</td>\n",
       "      <td>False</td>\n",
       "      <td>0.817</td>\n",
       "      <td>0.539</td>\n",
       "      <td>6</td>\n",
       "      <td>-6.349</td>\n",
       "      <td>0</td>\n",
       "      <td>0.0621</td>\n",
       "      <td>0.01410</td>\n",
       "      <td>0.000496</td>\n",
       "      <td>0.0990</td>\n",
       "      <td>0.158</td>\n",
       "      <td>97.062</td>\n",
       "      <td>210368</td>\n",
       "      <td>4</td>\n",
       "    </tr>\n",
       "    <tr>\n",
       "      <th>1pKeFVVUOPjFsOABub0OaV</th>\n",
       "      <td>Dangerous Woman</td>\n",
       "      <td>Side To Side</td>\n",
       "      <td>Ariana Grande; Nicki Minaj</td>\n",
       "      <td>1</td>\n",
       "      <td>5</td>\n",
       "      <td>2</td>\n",
       "      <td>True</td>\n",
       "      <td>0.650</td>\n",
       "      <td>0.736</td>\n",
       "      <td>6</td>\n",
       "      <td>-5.840</td>\n",
       "      <td>0</td>\n",
       "      <td>0.2290</td>\n",
       "      <td>0.05280</td>\n",
       "      <td>0.000000</td>\n",
       "      <td>0.2350</td>\n",
       "      <td>0.613</td>\n",
       "      <td>159.173</td>\n",
       "      <td>226160</td>\n",
       "      <td>4</td>\n",
       "    </tr>\n",
       "    <tr>\n",
       "      <th>4sPmO7WMQUAf45kwMOtONw</th>\n",
       "      <td>25</td>\n",
       "      <td>Hello</td>\n",
       "      <td>Adele</td>\n",
       "      <td>1</td>\n",
       "      <td>1</td>\n",
       "      <td>0</td>\n",
       "      <td>False</td>\n",
       "      <td>0.481</td>\n",
       "      <td>0.451</td>\n",
       "      <td>5</td>\n",
       "      <td>-6.095</td>\n",
       "      <td>0</td>\n",
       "      <td>0.0347</td>\n",
       "      <td>0.33600</td>\n",
       "      <td>0.000000</td>\n",
       "      <td>0.0872</td>\n",
       "      <td>0.289</td>\n",
       "      <td>157.966</td>\n",
       "      <td>295493</td>\n",
       "      <td>4</td>\n",
       "    </tr>\n",
       "  </tbody>\n",
       "</table>\n",
       "<p>763 rows × 20 columns</p>\n",
       "</div>"
      ],
      "text/plain": [
       "                                          Album  \\\n",
       "URI                                               \n",
       "02dRkCEc8Q5ch4TTcnLxOn      Late Night Feelings   \n",
       "4kV4N9D1iKVxx1KLvtTpjS            thank u, next   \n",
       "07nH4ifBxUB4lZcsf44Brn                   Motion   \n",
       "6dOtVTDdiauQNBQEDOtlAB     HIT ME HARD AND SOFT   \n",
       "76JKIsdKrAfWUMjaA0u7v5  Unreal Unearth: Unaired   \n",
       "...                                         ...   \n",
       "0h1W19pS59KtEd7aDzF58i                 Scorpion   \n",
       "2b8fOow8UzyDFAE27YhOZM                 Memories   \n",
       "116H0KvKr2Zl4RPuVBruDO        MIA (feat. Drake)   \n",
       "1pKeFVVUOPjFsOABub0OaV          Dangerous Woman   \n",
       "4sPmO7WMQUAf45kwMOtONw                       25   \n",
       "\n",
       "                                                              Song Name  \\\n",
       "URI                                                                       \n",
       "02dRkCEc8Q5ch4TTcnLxOn  Nothing Breaks Like a Heart (feat. Miley Cyrus)   \n",
       "4kV4N9D1iKVxx1KLvtTpjS         break up with your girlfriend, i'm bored   \n",
       "07nH4ifBxUB4lZcsf44Brn                        Blame (feat. John Newman)   \n",
       "6dOtVTDdiauQNBQEDOtlAB                               BIRDS OF A FEATHER   \n",
       "76JKIsdKrAfWUMjaA0u7v5                                        Too Sweet   \n",
       "...                                                                 ...   \n",
       "0h1W19pS59KtEd7aDzF58i                                   In My Feelings   \n",
       "2b8fOow8UzyDFAE27YhOZM                                         Memories   \n",
       "116H0KvKr2Zl4RPuVBruDO                                MIA (feat. Drake)   \n",
       "1pKeFVVUOPjFsOABub0OaV                                     Side To Side   \n",
       "4sPmO7WMQUAf45kwMOtONw                                            Hello   \n",
       "\n",
       "                                            Artist  Disc Number  Track Number  \\\n",
       "URI                                                                             \n",
       "02dRkCEc8Q5ch4TTcnLxOn    Mark Ronson; Miley Cyrus            1             9   \n",
       "4kV4N9D1iKVxx1KLvtTpjS               Ariana Grande            1            12   \n",
       "07nH4ifBxUB4lZcsf44Brn  Calvin Harris; John Newman            1             3   \n",
       "6dOtVTDdiauQNBQEDOtlAB               Billie Eilish            1             4   \n",
       "76JKIsdKrAfWUMjaA0u7v5                      Hozier            2             1   \n",
       "...                                            ...          ...           ...   \n",
       "0h1W19pS59KtEd7aDzF58i                       Drake            2             9   \n",
       "2b8fOow8UzyDFAE27YhOZM                    Maroon 5            1             1   \n",
       "116H0KvKr2Zl4RPuVBruDO            Bad Bunny; Drake            1             1   \n",
       "1pKeFVVUOPjFsOABub0OaV  Ariana Grande; Nicki Minaj            1             5   \n",
       "4sPmO7WMQUAf45kwMOtONw                       Adele            1             1   \n",
       "\n",
       "                        Popularity  Explicit  Danceability  Energy  Key  \\\n",
       "URI                                                                       \n",
       "02dRkCEc8Q5ch4TTcnLxOn          76     False         0.601   0.794    7   \n",
       "4kV4N9D1iKVxx1KLvtTpjS          73      True         0.727   0.554    5   \n",
       "07nH4ifBxUB4lZcsf44Brn          80     False         0.414   0.857    0   \n",
       "6dOtVTDdiauQNBQEDOtlAB          98     False         0.747   0.507    2   \n",
       "76JKIsdKrAfWUMjaA0u7v5          78     False         0.741   0.620   10   \n",
       "...                            ...       ...           ...     ...  ...   \n",
       "0h1W19pS59KtEd7aDzF58i          47     False         0.833   0.619    8   \n",
       "2b8fOow8UzyDFAE27YhOZM          25     False         0.764   0.320   11   \n",
       "116H0KvKr2Zl4RPuVBruDO          12     False         0.817   0.539    6   \n",
       "1pKeFVVUOPjFsOABub0OaV           2      True         0.650   0.736    6   \n",
       "4sPmO7WMQUAf45kwMOtONw           0     False         0.481   0.451    5   \n",
       "\n",
       "                        Loudness  Mode  Speechiness  Acousticness  \\\n",
       "URI                                                                 \n",
       "02dRkCEc8Q5ch4TTcnLxOn    -5.844     0       0.0671       0.00987   \n",
       "4kV4N9D1iKVxx1KLvtTpjS    -5.290     0       0.0915       0.04210   \n",
       "07nH4ifBxUB4lZcsf44Brn    -4.078     0       0.0808       0.02870   \n",
       "6dOtVTDdiauQNBQEDOtlAB   -10.171     1       0.0358       0.20000   \n",
       "76JKIsdKrAfWUMjaA0u7v5    -5.505     1       0.0412       0.02950   \n",
       "...                          ...   ...          ...           ...   \n",
       "0h1W19pS59KtEd7aDzF58i    -5.822     1       0.0971       0.04960   \n",
       "2b8fOow8UzyDFAE27YhOZM    -7.209     1       0.0546       0.83700   \n",
       "116H0KvKr2Zl4RPuVBruDO    -6.349     0       0.0621       0.01410   \n",
       "1pKeFVVUOPjFsOABub0OaV    -5.840     0       0.2290       0.05280   \n",
       "4sPmO7WMQUAf45kwMOtONw    -6.095     0       0.0347       0.33600   \n",
       "\n",
       "                        Instrumentalness  Liveness  Valence    Tempo  \\\n",
       "URI                                                                    \n",
       "02dRkCEc8Q5ch4TTcnLxOn          0.000001    0.4180    0.244  114.066   \n",
       "4kV4N9D1iKVxx1KLvtTpjS          0.000000    0.1060    0.335  170.000   \n",
       "07nH4ifBxUB4lZcsf44Brn          0.005740    0.3430    0.348  128.024   \n",
       "6dOtVTDdiauQNBQEDOtlAB          0.060800    0.1170    0.438  104.978   \n",
       "76JKIsdKrAfWUMjaA0u7v5          0.000809    0.0398    0.934  117.038   \n",
       "...                                  ...       ...      ...      ...   \n",
       "0h1W19pS59KtEd7aDzF58i          0.000087    0.3000    0.366   91.022   \n",
       "2b8fOow8UzyDFAE27YhOZM          0.000000    0.0822    0.575   91.019   \n",
       "116H0KvKr2Zl4RPuVBruDO          0.000496    0.0990    0.158   97.062   \n",
       "1pKeFVVUOPjFsOABub0OaV          0.000000    0.2350    0.613  159.173   \n",
       "4sPmO7WMQUAf45kwMOtONw          0.000000    0.0872    0.289  157.966   \n",
       "\n",
       "                        Duration_ms  Time Signature  \n",
       "URI                                                  \n",
       "02dRkCEc8Q5ch4TTcnLxOn       217099               4  \n",
       "4kV4N9D1iKVxx1KLvtTpjS       190440               4  \n",
       "07nH4ifBxUB4lZcsf44Brn       212960               4  \n",
       "6dOtVTDdiauQNBQEDOtlAB       210373               4  \n",
       "76JKIsdKrAfWUMjaA0u7v5       251424               4  \n",
       "...                             ...             ...  \n",
       "0h1W19pS59KtEd7aDzF58i       217925               4  \n",
       "2b8fOow8UzyDFAE27YhOZM       189486               4  \n",
       "116H0KvKr2Zl4RPuVBruDO       210368               4  \n",
       "1pKeFVVUOPjFsOABub0OaV       226160               4  \n",
       "4sPmO7WMQUAf45kwMOtONw       295493               4  \n",
       "\n",
       "[763 rows x 20 columns]"
      ]
     },
     "execution_count": 51,
     "metadata": {},
     "output_type": "execute_result"
    }
   ],
   "source": [
    "billions_club"
   ]
  },
  {
   "cell_type": "markdown",
   "id": "1d05cda6",
   "metadata": {
    "deletable": false,
    "editable": false
   },
   "source": [
    "**Question 2.1.** Run the previous cell a few times until you find a song you like; you'll use this song as the input to the recommender tool. Record the `'URI'` of your favorite song in the variable `favorite_uri`. You should just input this value manually based on what you find from browsing the DataFrame. (You can double-click a value in the index to highlight it, and then copy and paste it below.)\n",
    "\n",
    "Then, using code, find the `'Song Name'` of this song and save it in the variable `favorite_song_name`.\n",
    "\n",
    "<!--\n",
    "BEGIN QUESTION\n",
    "name: q2_1\n",
    "points: 1\n",
    "-->"
   ]
  },
  {
   "cell_type": "code",
   "execution_count": 52,
   "id": "35813d07",
   "metadata": {},
   "outputs": [
    {
     "name": "stdout",
     "output_type": "stream",
     "text": [
      "My favorite song is How Deep Is Your Love. It has a URI of 22mek4IiqubGD9ctzxc69s.\n"
     ]
    }
   ],
   "source": [
    "favorite_uri = '22mek4IiqubGD9ctzxc69s'\n",
    "favorite_song_name = billions_club.loc[favorite_uri].iloc[1]\n",
    "print(f'My favorite song is {favorite_song_name}. It has a URI of {favorite_uri}.')"
   ]
  },
  {
   "cell_type": "code",
   "execution_count": 53,
   "id": "c4f37cb0",
   "metadata": {
    "deletable": false,
    "editable": false
   },
   "outputs": [
    {
     "data": {
      "text/html": [
       "<p><strong><pre style='display: inline;'>q2_1</pre></strong> passed!</p>"
      ],
      "text/plain": [
       "q2_1 results: All test cases passed!"
      ]
     },
     "execution_count": 53,
     "metadata": {},
     "output_type": "execute_result"
    }
   ],
   "source": [
    "grader.check(\"q2_1\")"
   ]
  },
  {
   "cell_type": "markdown",
   "id": "9a100b00",
   "metadata": {},
   "source": [
    "You can also listen to a preview of your favorite song in the notebook by running the cell below and pressing play."
   ]
  },
  {
   "cell_type": "code",
   "execution_count": 54,
   "id": "6d8f4c9b",
   "metadata": {},
   "outputs": [
    {
     "data": {
      "text/html": [
       "\n",
       "        <iframe\n",
       "            width=\"400\"\n",
       "            height=\"75\"\n",
       "            src=\"https://open.spotify.com/embed/track/22mek4IiqubGD9ctzxc69s\"\n",
       "            frameborder=\"0\"\n",
       "            allowfullscreen\n",
       "        ></iframe>\n",
       "        "
      ],
      "text/plain": [
       "<IPython.lib.display.IFrame at 0x7fe5b4c5a130>"
      ]
     },
     "metadata": {},
     "output_type": "display_data"
    }
   ],
   "source": [
    "play_spotify(favorite_uri) "
   ]
  },
  {
   "cell_type": "markdown",
   "id": "1c953671",
   "metadata": {},
   "source": [
    "We will allow our recommender tool to base its recommendations on a customizable set of audio features. When not specified, the tool will use *all* of the audio features that are measured on a 0 to 1 scale, which we'll store in the variable `default_features`. But you can choose to use only a subset of these features when asking for recommendations, based on whatever is important to you!"
   ]
  },
  {
   "cell_type": "code",
   "execution_count": 55,
   "id": "464e9804",
   "metadata": {},
   "outputs": [],
   "source": [
    "default_features = [\n",
    "    'Danceability', \n",
    "    'Energy',\n",
    "    'Speechiness',\n",
    "    'Acousticness',\n",
    "    'Instrumentalness',\n",
    "    'Liveness',\n",
    "    'Valence'\n",
    "]"
   ]
  },
  {
   "cell_type": "markdown",
   "id": "95882a40",
   "metadata": {},
   "source": [
    "Let's start building our recommender tool! \n",
    "\n",
    "The first step of the process is to extract the features of our favorite song from a DataFrame of songs. The thing is, each song is stored as a row of a DataFrame, and we don't have any experience accessing full rows of DataFrames. We typically access entire columns of data using `.get`, but we've never needed to access whole rows before. \n",
    "\n",
    "It turns out that the `.loc` accessor that we've used on Series also works on DataFrames. If we use `.loc` directly on a DataFrame, we can extract the contents of an individual row as a Series. When all the values in a row are of the same data type, we can then convert that Series into an array. \n",
    "\n",
    "For example, the next cell creates a small example DataFrame."
   ]
  },
  {
   "cell_type": "code",
   "execution_count": 56,
   "id": "e0e3f3fd",
   "metadata": {
    "scrolled": false
   },
   "outputs": [
    {
     "data": {
      "text/html": [
       "<div>\n",
       "<style scoped>\n",
       "    .dataframe tbody tr th:only-of-type {\n",
       "        vertical-align: middle;\n",
       "    }\n",
       "\n",
       "    .dataframe tbody tr th {\n",
       "        vertical-align: top;\n",
       "    }\n",
       "\n",
       "    .dataframe thead th {\n",
       "        text-align: right;\n",
       "    }\n",
       "</style>\n",
       "<table border=\"1\" class=\"dataframe\">\n",
       "  <thead>\n",
       "    <tr style=\"text-align: right;\">\n",
       "      <th></th>\n",
       "      <th>x</th>\n",
       "      <th>y</th>\n",
       "      <th>z</th>\n",
       "    </tr>\n",
       "  </thead>\n",
       "  <tbody>\n",
       "    <tr>\n",
       "      <th>0</th>\n",
       "      <td>1</td>\n",
       "      <td>3</td>\n",
       "      <td>5</td>\n",
       "    </tr>\n",
       "    <tr>\n",
       "      <th>1</th>\n",
       "      <td>2</td>\n",
       "      <td>4</td>\n",
       "      <td>6</td>\n",
       "    </tr>\n",
       "  </tbody>\n",
       "</table>\n",
       "</div>"
      ],
      "text/plain": [
       "   x  y  z\n",
       "0  1  3  5\n",
       "1  2  4  6"
      ]
     },
     "execution_count": 56,
     "metadata": {},
     "output_type": "execute_result"
    }
   ],
   "source": [
    "example_df = bpd.DataFrame().assign(x=[1, 2], y=[3, 4], z=[5, 6])\n",
    "example_df"
   ]
  },
  {
   "cell_type": "markdown",
   "id": "904dbe1c",
   "metadata": {},
   "source": [
    "We can extract the values from the second row of `example_df` as follows."
   ]
  },
  {
   "cell_type": "code",
   "execution_count": 57,
   "id": "c5919708",
   "metadata": {},
   "outputs": [
    {
     "data": {
      "text/plain": [
       "x    2\n",
       "y    4\n",
       "z    6\n",
       "Name: 1, dtype: int64"
      ]
     },
     "execution_count": 57,
     "metadata": {},
     "output_type": "execute_result"
    }
   ],
   "source": [
    "example_df.loc[1]"
   ]
  },
  {
   "cell_type": "markdown",
   "id": "9459a625",
   "metadata": {},
   "source": [
    "Notice that this is a Series whose index values are the column names of `example_df`. If we want to work with the values in this Series an array, we can convert the Series to an array."
   ]
  },
  {
   "cell_type": "code",
   "execution_count": 58,
   "id": "f9853161",
   "metadata": {
    "scrolled": true
   },
   "outputs": [
    {
     "data": {
      "text/plain": [
       "array([2, 4, 6])"
      ]
     },
     "execution_count": 58,
     "metadata": {},
     "output_type": "execute_result"
    }
   ],
   "source": [
    "np.array(example_df.loc[1])"
   ]
  },
  {
   "cell_type": "markdown",
   "id": "9fe774f7",
   "metadata": {
    "deletable": false,
    "editable": false
   },
   "source": [
    "**Question 2.2.** Use what you just learned about accessing rows to complete the implementation of the function `get_feature_values`. The inputs to `get_feature_values` are:\n",
    "- `input_uri`, the `'URI'` of a song whose features you want to extract as an array.\n",
    "- `song_df`, a DataFrame that has a row corresponding to the song with the given `input_uri` and columns containing audio features.\n",
    "- `feature_list`, a list of features to extract.\n",
    "\n",
    "It should return an **array** containing the values of the specified features for the song, in the order that they appear in `feature_list`. If there is no song with the given `input_uri` in `song_df`, the function should print `'This URI was not found.'` and return `None`. (`None` is a special Python keyword; it should not go in quotes, and it will turn green when you type it.)\n",
    "\n",
    "Example behavior is given below.\n",
    "\n",
    "```py\n",
    "# This URI corresponds to the song \"Creepin' (with The Weeknd & 21 Savage)\".\n",
    "# Query for it in billions_club; you'll see that its 'Valence', 'Instrumentalness', and 'Energy'\n",
    "# match the values in the array below.\n",
    ">>> get_feature_values('2dHHgzDwk4BJdRwy9uXhTO', billions_club, ['Valence', 'Instrumentalness', 'Energy'])\n",
    "array([0.157, 0.   , 0.613 ])\n",
    "```\n",
    "\n",
    "After implementing your function, use it to extract some audio features from your favorite song in `billions_club`, whose `'URI'` was stored in `favorite_uri`. You can use any of the audio features in `default_features` that you like.\n",
    "\n",
    "***Hint:*** Use the `in` keyword to check if `input_uri` is a valid `'URI'`. \n",
    "\n",
    "***Note:*** We're writing a very general function that allows `song_df` to be any DataFrame of songs. For now, we'll only call the function with `billions_club` as `song_df`, but later in this section, we'll see how to use the function with `song_df` set to something else.\n",
    "\n",
    "<!--\n",
    "BEGIN QUESTION\n",
    "name: q2_2\n",
    "points: 1\n",
    "-->"
   ]
  },
  {
   "cell_type": "code",
   "execution_count": 59,
   "id": "e7a5bb3f",
   "metadata": {},
   "outputs": [
    {
     "data": {
      "text/plain": [
       "array([0.738, 0.868])"
      ]
     },
     "execution_count": 59,
     "metadata": {},
     "output_type": "execute_result"
    }
   ],
   "source": [
    "def get_feature_values(input_uri, song_df, feature_list):\n",
    "    if input_uri in song_df.index:\n",
    "        return np.array(song_df.get(feature_list).loc[input_uri])\n",
    "    else:\n",
    "        print('This URI was not found.')\n",
    "        return None\n",
    "    \n",
    "\n",
    "# Now call your function to extract some audio features of your favorite song.\n",
    "get_feature_values(favorite_uri, billions_club, ['Danceability', 'Energy'])"
   ]
  },
  {
   "cell_type": "code",
   "execution_count": 60,
   "id": "5ffb144f",
   "metadata": {
    "deletable": false,
    "editable": false
   },
   "outputs": [
    {
     "data": {
      "text/html": [
       "<p><strong><pre style='display: inline;'>q2_2</pre></strong> passed!</p>"
      ],
      "text/plain": [
       "q2_2 results: All test cases passed!"
      ]
     },
     "execution_count": 60,
     "metadata": {},
     "output_type": "execute_result"
    }
   ],
   "source": [
    "grader.check(\"q2_2\")"
   ]
  },
  {
   "cell_type": "markdown",
   "id": "f61dea25",
   "metadata": {},
   "source": [
    "We now know how to extract the features of a song (as an array) from a DataFrame using `get_feature_values`. But, what will we do with this feature array once we extract it? We'll want to compare the features of our song to the features of each Taylor Swift song to identify the Taylor Swift songs that are most similar to the song we selected. Since each audio feature is numerical, we need a way to compare two arrays of numbers and measure the similarity between them.\n",
    "\n",
    "For this, we'll use the Euclidean distance, which you may know more simply as just \"distance\". Euclidean distance is a fundamental concept in geometry used to measure how far away two points are. We're most familiar with this concept in two dimensions, where it corresponds to the distance between two points in the plane. Here is the distance formula in two dimensions:\n",
    "\n",
    "<p style=\"text-align: center;\"><strong>Distance between two points $(x_1, y_1)$ and $(x_2, y_2)$ in 2 dimensions:</strong></p>\n",
    "\n",
    "<p style=\"text-align: center;\">$$d = \\sqrt{(x_2 - x_1)^2 + (y_2 - y_1)^2}$$</p>\n",
    "\n",
    "<img src=\"data/images/distance.png\" width=30%>\n",
    "\n",
    "The picture above shows that the distance formula is really an application of the Pythagorean theorem relating the side lengths of a right triangle: $c^2 = a^2 + b^2$.\n",
    "\n",
    "However, Euclidean distance is not limited to two dimensions; it can be generalized to more dimensions. In general, in $n$-dimensional space (where $n$ can be any positive integer), we can generalize the Euclidean distance formula as follows:\n",
    "\n",
    "<p style=\"text-align: center;\"><strong>Distance between two points $(x_1, x_2, \\ldots, x_n)$ and $(y_1, y_2, \\ldots, y_n)$ in $n$ dimensions:</strong></p>\n",
    " \n",
    "<p style=\"text-align: center;\"> $$ d = \\sqrt{(x_1 - y_1)^2 + (x_2 - y_2)^2 + \\ldots + (x_n - y_n)^2} $$ </p>\n",
    "\n",
    "What can we do with this? For our application, let's think of the feature array for a given song as a point in $n$-dimensional space. For example, if the features we care about are `['Valence', 'Acousticness', 'Energy']`, then for any given song, we have a point in 3-dimensional space. Then, to measure how similar two songs are, we can compute the Euclidean distance between their two points in 3-dimensional space. **The closer this distance is to 0, the more similar the two songs are!**\n",
    "\n",
    "For instance, suppose we want to compute the similarity between the songs `'Sugar'` by `'Maroon 5'` and `'Halo'` by `'Beyonce'` using the aforementioned three features. Using `get_feature_values`:\n",
    "- `'Sugar'` has the feature array `np.array([0.884 , 0.0591, 0.788])`, and\n",
    "- `'Halo'` has the feature array `np.array([0.472, 0.272, 0.72])`.\n",
    "\n",
    "Then, the Euclidean distance between the two songs' points is:\n",
    "\n",
    "$$\\sqrt{(0.884 - 0.472)^2 + (0.0591 - 0.272)^2 + (0.788 - 0.72)^2} = 0.4687...$$"
   ]
  },
  {
   "cell_type": "markdown",
   "id": "e1225e8b",
   "metadata": {
    "deletable": false,
    "editable": false
   },
   "source": [
    "**Question 2.3.** ⭐⭐ Now, let's apply the concept of Euclidean distance to calculate the similarity between two songs. Complete the implementation of the function `calculate_similarity` below. This function takes in two arrays of the same length, which we can think of as two points in $n$-dimensional space, where $n$ is the length of each array. The function should output the Euclidean distance between these two points, as a float, with no rounding.\n",
    "\n",
    "Example behavior is given below.\n",
    "\n",
    "```py\n",
    "# Note: We've hard-coded the inputs to calculate_similarity just for this example;\n",
    "# typically, you'll find feature arrays by calling your get_feature_values function.\n",
    ">>> calculate_similarity(np.array([0.287, 0.0885, 0.794]), np.array([0.888, 0.009, 0.787]))\n",
    "0.6062757211038555\n",
    "```\n",
    "\n",
    "Then, use both the `calculate_similarity` and the `get_feature_values` functions you've defined to calculate the similarity (Euclidean distance) between your favorite song and the Taylor Swift song `'Karma'`, based on the features `'Danceability'`, `'Energy'`, `'Valence'`, and `'Acousticness'`. Store your result in `favorite_vs_karma`. \n",
    "\n",
    "<!--\n",
    "BEGIN QUESTION\n",
    "name: q2_3\n",
    "points: 2\n",
    "-->"
   ]
  },
  {
   "cell_type": "code",
   "execution_count": 61,
   "id": "01e93694",
   "metadata": {},
   "outputs": [
    {
     "data": {
      "text/plain": [
       "0.3592470598348719"
      ]
     },
     "execution_count": 61,
     "metadata": {},
     "output_type": "execute_result"
    }
   ],
   "source": [
    "karma_uri = tswift[tswift.get('Song Name') == 'Karma'].index[0]\n",
    "karma_uri\n",
    "\n",
    "def calculate_similarity(features_1, features_2):\n",
    "    similarity = 0\n",
    "    for point in np.arange(len(features_1)):\n",
    "        similarity = (similarity + ((features_1[point] - features_2[point])**2))\n",
    "    return float(similarity**0.5)\n",
    "favorite_vs_karma = calculate_similarity(get_feature_values(favorite_uri,\n",
    "                                                            billions_club,\n",
    "                                                            ['Danceability', 'Energy', 'Valence', 'Acousticness']),\n",
    "                                        get_feature_values(karma_uri,\n",
    "                                                          tswift,\n",
    "                                                          ['Danceability', 'Energy', 'Valence', 'Acousticness'])\n",
    "                                        )\n",
    "favorite_vs_karma"
   ]
  },
  {
   "cell_type": "code",
   "execution_count": 62,
   "id": "783975a6",
   "metadata": {
    "deletable": false,
    "editable": false,
    "scrolled": true
   },
   "outputs": [
    {
     "data": {
      "text/html": [
       "<p><strong><pre style='display: inline;'>q2_3</pre></strong> passed!</p>"
      ],
      "text/plain": [
       "q2_3 results: All test cases passed!"
      ]
     },
     "execution_count": 62,
     "metadata": {},
     "output_type": "execute_result"
    }
   ],
   "source": [
    "grader.check(\"q2_3\")"
   ]
  },
  {
   "cell_type": "markdown",
   "id": "4d661155",
   "metadata": {
    "deletable": false,
    "editable": false
   },
   "source": [
    "**Question 2.4.** ⭐⭐ So far, we know how to compute the similarity between two particular songs. Now, let's extend what we've learned to compute the similarity between a given song and *each* of the Taylor Swift songs in `tswift`. \n",
    "\n",
    "Use the two functions you've defined so far in this section (`get_feature_values` and `calculate_similarity`) to complete the implementation of the function `calculate_similarity_for_all`. This function should calculate the similarity scores between the input song and each of the Taylor Swift songs in `tswift`, one by one, and output an array of similarity scores.  The inputs to `calculate_similarity_for_all` are:\n",
    "\n",
    "- `input_uri`, the `'URI'` of a song whose features you will compare to each song in `tswift`.\n",
    "- `song_df`, a DataFrame that has a row corresponding to the song with the given `input_uri` and columns containing audio features.\n",
    "- `feature_list`, a list of features to include in the similarity score.\n",
    "\n",
    "Make sure your output array has the similarities of all songs in the order they appear in the `tswift` DataFrame. For example, if the first song in `tswift` is `'Anti-Hero'` (it may not be), then the first element of your output array should be the similarity between the input song and `'Anti-Hero'`.\n",
    "\n",
    "While we don't normally iterate through DataFrames, Series, or indexes, in this question, you should use a `for`-loop to iterate through the values in the index of `tswift`, extracting the features from one Taylor Swift song at a time and using those features to compute the similarity with the input song.\n",
    "\n",
    "A sample function call is provided. Feel free to try other example inputs.\n",
    "<!--\n",
    "BEGIN QUESTION\n",
    "name: q2_4\n",
    "points: 2\n",
    "-->"
   ]
  },
  {
   "cell_type": "code",
   "execution_count": 63,
   "id": "32321e06",
   "metadata": {
    "scrolled": true
   },
   "outputs": [
    {
     "data": {
      "text/plain": [
       "array([0.34668262, 0.71013297, 0.68409271, 0.59644903, 0.62611807,\n",
       "       0.18851111, 0.38935362, 0.32845036, 1.04122824, 0.28657292,\n",
       "       0.36774482, 0.57319408, 0.18216545, 0.45413769, 0.19959612,\n",
       "       0.74252397, 0.42857509, 0.76829008, 0.25384188, 0.35924706,\n",
       "       0.42699513, 0.37466817, 0.93553228, 0.87592205, 1.00569649,\n",
       "       0.55503395, 0.2999824 , 0.59781539, 0.44656641, 0.17873176,\n",
       "       0.76666449, 0.47339548, 0.55974962, 0.92726676, 0.20819087,\n",
       "       0.30781912, 1.03315451, 0.6196722 , 0.18050662, 0.23292703,\n",
       "       0.27258887, 0.53977495, 0.32736029, 0.35914956, 0.83595852,\n",
       "       0.566375  , 0.92699398, 0.8454224 , 0.38881462, 0.4717547 ,\n",
       "       0.53355791, 0.45477604, 0.41416234, 0.81409081, 0.89709244,\n",
       "       0.44529096, 0.78649783, 0.55397625, 0.42509086, 0.99370299,\n",
       "       0.3900762 , 0.73430201, 0.4337034 , 0.88649966, 0.36214271,\n",
       "       0.20152731, 0.83450503, 0.2533814 , 0.59834539, 0.34775359,\n",
       "       0.91178859, 0.3791818 , 0.27543994, 0.49640443, 0.36644659,\n",
       "       0.79053352, 0.93572316, 0.84936932, 0.8255075 , 0.37015937,\n",
       "       0.56620718, 0.37394085, 0.88660038, 0.18165473, 0.63301851,\n",
       "       0.49803478, 0.46214155, 1.06993245, 0.24290484, 0.59685663,\n",
       "       0.18055732, 0.43790414, 0.88283783, 0.67475776, 0.75883558,\n",
       "       0.77727642, 0.44377837, 0.41056298, 0.21387329, 0.1933903 ,\n",
       "       1.144039  , 0.21789548, 0.42298917, 0.647443  , 1.0861327 ,\n",
       "       0.73729617, 1.01394361, 0.53348261, 0.95487258, 0.42868353,\n",
       "       0.60419603, 0.94755224, 0.21550629, 0.40822646, 0.72700622,\n",
       "       0.29946659, 0.54671404, 0.35100718, 0.31899818, 1.23527974,\n",
       "       0.33681419, 0.86661159, 0.21924755, 0.69615001, 0.44722868,\n",
       "       0.31677942, 0.28861359, 0.54919701, 0.48153114, 0.414739  ,\n",
       "       0.29632995, 0.67793129, 0.50960538, 0.2598343 , 0.93462262,\n",
       "       0.41265559, 0.37080529, 1.11652346, 0.51412998, 0.4368776 ,\n",
       "       0.45569086, 1.09628319, 0.47011896, 0.20021448, 0.90433359,\n",
       "       0.29268762, 0.81036784, 0.76333796, 0.32042038, 0.21987382,\n",
       "       0.58445855, 0.36828957, 0.57627601, 1.07328628, 1.09152336,\n",
       "       0.3891206 , 0.28416571, 0.46139098, 0.32572694, 0.88159279,\n",
       "       1.1598932 , 0.29905224, 1.06573704, 1.1335823 , 0.6767471 ,\n",
       "       1.15061846, 0.83618577, 0.21525806, 0.59471761, 1.00654967,\n",
       "       0.39403077, 1.17990773, 0.53383466, 0.55470014, 0.87177178,\n",
       "       0.36838274, 0.91736887, 0.50951785, 0.92692429, 0.83841007,\n",
       "       0.21833497, 0.70531528, 0.82234922, 0.95431831, 0.8755161 ,\n",
       "       1.01145966, 0.69849283, 0.91547433, 1.01831883, 0.49401219,\n",
       "       0.49278612, 0.38210255, 0.36391653, 0.41044274, 0.31094714,\n",
       "       0.39269026, 0.42383687, 0.34531597, 0.49556353, 0.64563615,\n",
       "       0.51889232, 0.7705837 , 0.39792492, 0.35532413, 0.67977617,\n",
       "       0.37716209, 0.53028336, 0.24413973, 0.55999146, 0.97973366,\n",
       "       0.27236279, 0.26380864, 0.44262856, 0.31025185, 1.00182366,\n",
       "       0.24802359, 0.8794494 , 0.43545719, 0.86528449, 0.4687503 ,\n",
       "       0.26326356, 0.41498464, 0.53724654, 0.2076734 , 0.32916069,\n",
       "       0.63868509, 0.30392566, 0.78008066, 0.29088349])"
      ]
     },
     "execution_count": 63,
     "metadata": {},
     "output_type": "execute_result"
    }
   ],
   "source": [
    "def calculate_similarity_for_all(input_uri, song_df, feature_list):\n",
    "    similarity_scores = np.array([])\n",
    "    tswiftindex = np.array(tswift.index)\n",
    "    for uri in np.arange(len(tswift.index)):\n",
    "        x = get_feature_values(tswiftindex[uri], tswift, feature_list)\n",
    "        y = get_feature_values(input_uri, song_df, feature_list)\n",
    "        similarity_scores = np.append(similarity_scores, calculate_similarity(x,y) )\n",
    "    return similarity_scores\n",
    "\n",
    "# Feel free to comment this line out or change the arguments!\n",
    "similar_ran = calculate_similarity_for_all(favorite_uri, billions_club, ['Danceability', 'Energy', 'Valence', 'Acousticness'])\n",
    "similar_ran"
   ]
  },
  {
   "cell_type": "code",
   "execution_count": 64,
   "id": "fd9fa205",
   "metadata": {
    "deletable": false,
    "editable": false
   },
   "outputs": [
    {
     "data": {
      "text/html": [
       "<p><strong><pre style='display: inline;'>q2_4</pre></strong> passed!</p>"
      ],
      "text/plain": [
       "q2_4 results: All test cases passed!"
      ]
     },
     "execution_count": 64,
     "metadata": {},
     "output_type": "execute_result"
    }
   ],
   "source": [
    "grader.check(\"q2_4\")"
   ]
  },
  {
   "cell_type": "markdown",
   "id": "8cf6b41f",
   "metadata": {
    "deletable": false,
    "editable": false
   },
   "source": [
    "**Question 2.5.** Now that we have the similarity scores between our input song and every single Taylor Swift song, let's use them to find the Taylor Swift songs that are most similar to our input song. Complete the implementation of the function `select_top_recommendations`, which takes in an array `similarity_scores`, like the one you just created, and a positive integer `n`. The function should return a DataFrame of the `n` songs from `tswift` that correspond to the `n` **lowest** values in `similarity_scores`, sorted in increasing order of similarity score.\n",
    "- Remember, the most similar songs are the ones whose similarity scores are lowest, because songs are more similar when they have a lower Euclidean distance.\n",
    "- The DataFrame returned by `select_top_recommendations` should have all the same columns as `tswift`, though as mentioned above, it should only have `n` rows.\n",
    "\n",
    "***Hint:*** You may want to add a new column to your DataFrame containing the contents of `similarity_scores`. Make sure to drop this column at the end, so that your output DataFrame has exactly `n` rows and 20 columns.\n",
    "<!--\n",
    "BEGIN QUESTION\n",
    "name: q2_5\n",
    "points: 1\n",
    "-->"
   ]
  },
  {
   "cell_type": "code",
   "execution_count": 65,
   "id": "32ddeea8",
   "metadata": {},
   "outputs": [
    {
     "data": {
      "text/html": [
       "<div>\n",
       "<style scoped>\n",
       "    .dataframe tbody tr th:only-of-type {\n",
       "        vertical-align: middle;\n",
       "    }\n",
       "\n",
       "    .dataframe tbody tr th {\n",
       "        vertical-align: top;\n",
       "    }\n",
       "\n",
       "    .dataframe thead th {\n",
       "        text-align: right;\n",
       "    }\n",
       "</style>\n",
       "<table border=\"1\" class=\"dataframe\">\n",
       "  <thead>\n",
       "    <tr style=\"text-align: right;\">\n",
       "      <th></th>\n",
       "      <th>Album</th>\n",
       "      <th>Song Name</th>\n",
       "      <th>Popularity</th>\n",
       "      <th>Disc Number</th>\n",
       "      <th>Track Number</th>\n",
       "      <th>Explicit</th>\n",
       "      <th>Danceability</th>\n",
       "      <th>Energy</th>\n",
       "      <th>Key</th>\n",
       "      <th>Loudness</th>\n",
       "      <th>Mode</th>\n",
       "      <th>Speechiness</th>\n",
       "      <th>Acousticness</th>\n",
       "      <th>Instrumentalness</th>\n",
       "      <th>Liveness</th>\n",
       "      <th>Valence</th>\n",
       "      <th>Tempo</th>\n",
       "      <th>Duration_ms</th>\n",
       "      <th>Time Signature</th>\n",
       "      <th>Year</th>\n",
       "    </tr>\n",
       "    <tr>\n",
       "      <th>URI</th>\n",
       "      <th></th>\n",
       "      <th></th>\n",
       "      <th></th>\n",
       "      <th></th>\n",
       "      <th></th>\n",
       "      <th></th>\n",
       "      <th></th>\n",
       "      <th></th>\n",
       "      <th></th>\n",
       "      <th></th>\n",
       "      <th></th>\n",
       "      <th></th>\n",
       "      <th></th>\n",
       "      <th></th>\n",
       "      <th></th>\n",
       "      <th></th>\n",
       "      <th></th>\n",
       "      <th></th>\n",
       "      <th></th>\n",
       "      <th></th>\n",
       "    </tr>\n",
       "  </thead>\n",
       "  <tbody>\n",
       "    <tr>\n",
       "      <th>5kHMfzgLZP95O9NBy0ku4v</th>\n",
       "      <td>Speak Now</td>\n",
       "      <td>I Can See You</td>\n",
       "      <td>72</td>\n",
       "      <td>1</td>\n",
       "      <td>19</td>\n",
       "      <td>False</td>\n",
       "      <td>0.694</td>\n",
       "      <td>0.764</td>\n",
       "      <td>6</td>\n",
       "      <td>-4.893</td>\n",
       "      <td>1</td>\n",
       "      <td>0.0337</td>\n",
       "      <td>0.0586</td>\n",
       "      <td>0.000000</td>\n",
       "      <td>0.0608</td>\n",
       "      <td>0.819</td>\n",
       "      <td>123.044</td>\n",
       "      <td>273186</td>\n",
       "      <td>4</td>\n",
       "      <td>2017</td>\n",
       "    </tr>\n",
       "    <tr>\n",
       "      <th>4y5bvROuBDPr5fuwXbIBZR</th>\n",
       "      <td>Lover</td>\n",
       "      <td>Paper Rings</td>\n",
       "      <td>76</td>\n",
       "      <td>1</td>\n",
       "      <td>8</td>\n",
       "      <td>False</td>\n",
       "      <td>0.811</td>\n",
       "      <td>0.719</td>\n",
       "      <td>9</td>\n",
       "      <td>-6.553</td>\n",
       "      <td>1</td>\n",
       "      <td>0.0497</td>\n",
       "      <td>0.0129</td>\n",
       "      <td>0.000014</td>\n",
       "      <td>0.0742</td>\n",
       "      <td>0.865</td>\n",
       "      <td>103.979</td>\n",
       "      <td>222400</td>\n",
       "      <td>4</td>\n",
       "      <td>2024</td>\n",
       "    </tr>\n",
       "    <tr>\n",
       "      <th>3pv7Q5v2dpdefwdWIvE7yH</th>\n",
       "      <td>1989</td>\n",
       "      <td>Shake It Off</td>\n",
       "      <td>72</td>\n",
       "      <td>1</td>\n",
       "      <td>6</td>\n",
       "      <td>False</td>\n",
       "      <td>0.632</td>\n",
       "      <td>0.807</td>\n",
       "      <td>7</td>\n",
       "      <td>-5.676</td>\n",
       "      <td>1</td>\n",
       "      <td>0.0738</td>\n",
       "      <td>0.0103</td>\n",
       "      <td>0.000013</td>\n",
       "      <td>0.2900</td>\n",
       "      <td>0.921</td>\n",
       "      <td>160.055</td>\n",
       "      <td>219209</td>\n",
       "      <td>4</td>\n",
       "      <td>2017</td>\n",
       "    </tr>\n",
       "    <tr>\n",
       "      <th>45wMBGri1PORPjM9PwFfrS</th>\n",
       "      <td>1989</td>\n",
       "      <td>Blank Space</td>\n",
       "      <td>76</td>\n",
       "      <td>1</td>\n",
       "      <td>2</td>\n",
       "      <td>False</td>\n",
       "      <td>0.737</td>\n",
       "      <td>0.725</td>\n",
       "      <td>0</td>\n",
       "      <td>-5.417</td>\n",
       "      <td>1</td>\n",
       "      <td>0.0641</td>\n",
       "      <td>0.0976</td>\n",
       "      <td>0.000000</td>\n",
       "      <td>0.1740</td>\n",
       "      <td>0.755</td>\n",
       "      <td>96.012</td>\n",
       "      <td>231833</td>\n",
       "      <td>4</td>\n",
       "      <td>2024</td>\n",
       "    </tr>\n",
       "    <tr>\n",
       "      <th>550erGcdD9n6PnwxrvYqZT</th>\n",
       "      <td>Fearless</td>\n",
       "      <td>Hey Stephen</td>\n",
       "      <td>63</td>\n",
       "      <td>1</td>\n",
       "      <td>4</td>\n",
       "      <td>False</td>\n",
       "      <td>0.788</td>\n",
       "      <td>0.571</td>\n",
       "      <td>6</td>\n",
       "      <td>-6.135</td>\n",
       "      <td>1</td>\n",
       "      <td>0.0296</td>\n",
       "      <td>0.1060</td>\n",
       "      <td>0.000000</td>\n",
       "      <td>0.0934</td>\n",
       "      <td>0.797</td>\n",
       "      <td>115.990</td>\n",
       "      <td>254255</td>\n",
       "      <td>4</td>\n",
       "      <td>2010</td>\n",
       "    </tr>\n",
       "  </tbody>\n",
       "</table>\n",
       "</div>"
      ],
      "text/plain": [
       "                            Album      Song Name  Popularity  Disc Number  \\\n",
       "URI                                                                         \n",
       "5kHMfzgLZP95O9NBy0ku4v  Speak Now  I Can See You          72            1   \n",
       "4y5bvROuBDPr5fuwXbIBZR      Lover    Paper Rings          76            1   \n",
       "3pv7Q5v2dpdefwdWIvE7yH       1989   Shake It Off          72            1   \n",
       "45wMBGri1PORPjM9PwFfrS       1989    Blank Space          76            1   \n",
       "550erGcdD9n6PnwxrvYqZT   Fearless    Hey Stephen          63            1   \n",
       "\n",
       "                        Track Number  Explicit  Danceability  Energy  Key  \\\n",
       "URI                                                                         \n",
       "5kHMfzgLZP95O9NBy0ku4v            19     False         0.694   0.764    6   \n",
       "4y5bvROuBDPr5fuwXbIBZR             8     False         0.811   0.719    9   \n",
       "3pv7Q5v2dpdefwdWIvE7yH             6     False         0.632   0.807    7   \n",
       "45wMBGri1PORPjM9PwFfrS             2     False         0.737   0.725    0   \n",
       "550erGcdD9n6PnwxrvYqZT             4     False         0.788   0.571    6   \n",
       "\n",
       "                        Loudness  Mode  Speechiness  Acousticness  \\\n",
       "URI                                                                 \n",
       "5kHMfzgLZP95O9NBy0ku4v    -4.893     1       0.0337        0.0586   \n",
       "4y5bvROuBDPr5fuwXbIBZR    -6.553     1       0.0497        0.0129   \n",
       "3pv7Q5v2dpdefwdWIvE7yH    -5.676     1       0.0738        0.0103   \n",
       "45wMBGri1PORPjM9PwFfrS    -5.417     1       0.0641        0.0976   \n",
       "550erGcdD9n6PnwxrvYqZT    -6.135     1       0.0296        0.1060   \n",
       "\n",
       "                        Instrumentalness  Liveness  Valence    Tempo  \\\n",
       "URI                                                                    \n",
       "5kHMfzgLZP95O9NBy0ku4v          0.000000    0.0608    0.819  123.044   \n",
       "4y5bvROuBDPr5fuwXbIBZR          0.000014    0.0742    0.865  103.979   \n",
       "3pv7Q5v2dpdefwdWIvE7yH          0.000013    0.2900    0.921  160.055   \n",
       "45wMBGri1PORPjM9PwFfrS          0.000000    0.1740    0.755   96.012   \n",
       "550erGcdD9n6PnwxrvYqZT          0.000000    0.0934    0.797  115.990   \n",
       "\n",
       "                        Duration_ms  Time Signature  Year  \n",
       "URI                                                        \n",
       "5kHMfzgLZP95O9NBy0ku4v       273186               4  2017  \n",
       "4y5bvROuBDPr5fuwXbIBZR       222400               4  2024  \n",
       "3pv7Q5v2dpdefwdWIvE7yH       219209               4  2017  \n",
       "45wMBGri1PORPjM9PwFfrS       231833               4  2024  \n",
       "550erGcdD9n6PnwxrvYqZT       254255               4  2010  "
      ]
     },
     "execution_count": 65,
     "metadata": {},
     "output_type": "execute_result"
    }
   ],
   "source": [
    "def select_top_recommendations(similarity_scores, n):\n",
    "    result = (tswift.assign(similar = similarity_scores)\n",
    "    .sort_values(by = 'similar', ascending = True)\n",
    "    .take(np.arange(n))\n",
    "    .drop(columns = ['similar'])\n",
    "    )\n",
    "    return result\n",
    "select_top_recommendations(calculate_similarity_for_all('7w87IxuO7BDcJ3YUqCyMTT', billions_club, ['Danceability', 'Energy', 'Valence', 'Acousticness']), 5)"
   ]
  },
  {
   "cell_type": "code",
   "execution_count": 66,
   "id": "5b29ba2c",
   "metadata": {
    "deletable": false,
    "editable": false
   },
   "outputs": [
    {
     "data": {
      "text/html": [
       "<p><strong><pre style='display: inline;'>q2_5</pre></strong> passed!</p>"
      ],
      "text/plain": [
       "q2_5 results: All test cases passed!"
      ]
     },
     "execution_count": 66,
     "metadata": {},
     "output_type": "execute_result"
    }
   ],
   "source": [
    "grader.check(\"q2_5\")"
   ]
  },
  {
   "cell_type": "markdown",
   "id": "d5560d23",
   "metadata": {
    "deletable": false,
    "editable": false
   },
   "source": [
    "**Question 2.6.** It's time to combine everything we've implemented so far into a single function. Below, complete the \n",
    "implementation of the function `song_recommender`. The inputs to `song_recommender` are:\n",
    "\n",
    "- `input_uri`, the `'URI'` of a song which you want to find recommendations similar to.\n",
    "- `song_df`, a DataFrame that has a row corresponding to the song with the given `input_uri` and columns containing audio features.\n",
    "- `n`, the number of top-matching songs to be shown.\n",
    "- `feature_list`, a list of features to include in the similarity computation. This is an optional parameter; if not included, the similarity should be based on all features in `default_features`. \n",
    " \n",
    "The output should be an `n`-row DataFrame whose index contains `'URI'`s and whose only columns are `'Album'`, `'Song Name'`, and the columns included in `feature_list`. Each row in the returned DataFrame should correspond to a song; the songs should be sorted in decreasing order of similarity (that is, in increasing order of similarity score – the same way that the rows are ordered in the output of `select_top_recommendations`).\n",
    "\n",
    "***Note:*** In the signature of the `song_recommender` function, we set `feature_list=default_features`. This tells Python that `feature_list` is an optional parameter, and if omitted, it should be set to `default_features`. We use functions with default parameter values all the time - for example, in the DataFrame method `.sort_values`, when we don't set the parameter `ascending`, it defaults to having a value of `True`. \n",
    "\n",
    "***Hints:***\n",
    "- You've done most of the work already. It's possible to solve this problem in one (long) line of code. We say this not to encourage you to write one long line of code, but to emphasize that you don't need to write a ton of code within the body of `song_recommender`.\n",
    "- The `+` symbol, when placed between two lists, concatenates the lists, just like when the `+` symbol is placed between two strings, it concatenates the strings. This will be useful when making sure that your output DataFrame has only certain columns.\n",
    "<!--\n",
    "BEGIN QUESTION\n",
    "name: q2_6\n",
    "points: 1\n",
    "-->"
   ]
  },
  {
   "cell_type": "code",
   "execution_count": 67,
   "id": "65a04f3a",
   "metadata": {},
   "outputs": [
    {
     "name": "stdout",
     "output_type": "stream",
     "text": [
      "Taylor Swift songs that are most similar to How Deep Is Your Love:\n"
     ]
    },
    {
     "data": {
      "text/html": [
       "<div>\n",
       "<style scoped>\n",
       "    .dataframe tbody tr th:only-of-type {\n",
       "        vertical-align: middle;\n",
       "    }\n",
       "\n",
       "    .dataframe tbody tr th {\n",
       "        vertical-align: top;\n",
       "    }\n",
       "\n",
       "    .dataframe thead th {\n",
       "        text-align: right;\n",
       "    }\n",
       "</style>\n",
       "<table border=\"1\" class=\"dataframe\">\n",
       "  <thead>\n",
       "    <tr style=\"text-align: right;\">\n",
       "      <th></th>\n",
       "      <th>Album</th>\n",
       "      <th>Song Name</th>\n",
       "      <th>Danceability</th>\n",
       "      <th>Energy</th>\n",
       "    </tr>\n",
       "    <tr>\n",
       "      <th>URI</th>\n",
       "      <th></th>\n",
       "      <th></th>\n",
       "      <th></th>\n",
       "      <th></th>\n",
       "    </tr>\n",
       "  </thead>\n",
       "  <tbody>\n",
       "    <tr>\n",
       "      <th>43y1WpBdnEy5TR9aZoSQL9</th>\n",
       "      <td>1989</td>\n",
       "      <td>I Wish You Would</td>\n",
       "      <td>0.669</td>\n",
       "      <td>0.851</td>\n",
       "    </tr>\n",
       "    <tr>\n",
       "      <th>32mVHdy0bi1XKgr0ajsBlG</th>\n",
       "      <td>Taylor Swift</td>\n",
       "      <td>Picture To Burn</td>\n",
       "      <td>0.658</td>\n",
       "      <td>0.877</td>\n",
       "    </tr>\n",
       "    <tr>\n",
       "      <th>2vPMoMDXxu9uX1igWZmXSG</th>\n",
       "      <td>1989</td>\n",
       "      <td>New Romantics</td>\n",
       "      <td>0.651</td>\n",
       "      <td>0.855</td>\n",
       "    </tr>\n",
       "    <tr>\n",
       "      <th>2CYVETnhM9aytqrazYYwrK</th>\n",
       "      <td>Fearless</td>\n",
       "      <td>Mr. Perfectly Fine</td>\n",
       "      <td>0.660</td>\n",
       "      <td>0.817</td>\n",
       "    </tr>\n",
       "    <tr>\n",
       "      <th>3xYJScVfxByb61dYHTwiby</th>\n",
       "      <td>Midnights</td>\n",
       "      <td>Hits Different</td>\n",
       "      <td>0.672</td>\n",
       "      <td>0.782</td>\n",
       "    </tr>\n",
       "  </tbody>\n",
       "</table>\n",
       "</div>"
      ],
      "text/plain": [
       "                               Album           Song Name  Danceability  Energy\n",
       "URI                                                                           \n",
       "43y1WpBdnEy5TR9aZoSQL9          1989    I Wish You Would         0.669   0.851\n",
       "32mVHdy0bi1XKgr0ajsBlG  Taylor Swift     Picture To Burn         0.658   0.877\n",
       "2vPMoMDXxu9uX1igWZmXSG          1989       New Romantics         0.651   0.855\n",
       "2CYVETnhM9aytqrazYYwrK      Fearless  Mr. Perfectly Fine         0.660   0.817\n",
       "3xYJScVfxByb61dYHTwiby     Midnights      Hits Different         0.672   0.782"
      ]
     },
     "execution_count": 67,
     "metadata": {},
     "output_type": "execute_result"
    }
   ],
   "source": [
    "def song_recommender(input_uri, song_df, n, feature_list=default_features):\n",
    "    similarity_scores = calculate_similarity_for_all(input_uri, song_df, feature_list)\n",
    "    recommendations = select_top_recommendations(similarity_scores, n)\n",
    "    return recommendations.get(['Album', 'Song Name'] + feature_list)  \n",
    "# The following call to song_recommender finds the 5 Taylor Swift songs\n",
    "# that are most similar to your chosen song, in terms of 'Danceability' and 'Energy'.\n",
    "# We've also include a print statement to help you interpet the output.\n",
    "print(f'Taylor Swift songs that are most similar to {favorite_song_name}:')\n",
    "song_recommender(favorite_uri, billions_club, 5, ['Danceability', 'Energy'])"
   ]
  },
  {
   "cell_type": "code",
   "execution_count": 68,
   "id": "cf264619",
   "metadata": {
    "deletable": false,
    "editable": false
   },
   "outputs": [
    {
     "data": {
      "text/html": [
       "<p><strong><pre style='display: inline;'>q2_6</pre></strong> passed!</p>"
      ],
      "text/plain": [
       "q2_6 results: All test cases passed!"
      ]
     },
     "execution_count": 68,
     "metadata": {},
     "output_type": "execute_result"
    }
   ],
   "source": [
    "grader.check(\"q2_6\")"
   ]
  },
  {
   "cell_type": "markdown",
   "id": "1ca9dd48",
   "metadata": {},
   "source": [
    "Nice work! You now have the ability to pick a song you like and audio features that are important to you and use your function to get back recommendations of Taylor Swift songs that are similar to the song you chose.\n",
    "\n",
    "But wait – it gets cooler.\n",
    "\n",
    "The cell below is long, but it sets up an interactive widget, which allows you to choose any song in `billions_club` from a dropdown menu and plays for you the 5 most similar songs from Taylor Swift's repertoire, according to all of the features in `default_features`. Run the cell below to check it out!"
   ]
  },
  {
   "cell_type": "code",
   "execution_count": 69,
   "id": "e78a1a30",
   "metadata": {},
   "outputs": [
    {
     "data": {
      "application/vnd.jupyter.widget-view+json": {
       "model_id": "75e3e74d4b40421386e59ab879a59368",
       "version_major": 2,
       "version_minor": 0
      },
      "text/plain": [
       "Dropdown(description='Song', index=49, layout=Layout(width='525px'), options=('1-800-273-8255 by Logic; Alessi…"
      ]
     },
     "metadata": {},
     "output_type": "display_data"
    },
    {
     "data": {
      "text/html": [
       "<h3>The song you chose was Bank Account by 21 Savage.</h3>"
      ],
      "text/plain": [
       "<IPython.core.display.HTML object>"
      ]
     },
     "metadata": {},
     "output_type": "display_data"
    },
    {
     "data": {
      "text/html": [
       "\n",
       "        <iframe\n",
       "            width=\"400\"\n",
       "            height=\"75\"\n",
       "            src=\"https://open.spotify.com/embed/track/5eqK0tbzUPo2SoeZsov04s\"\n",
       "            frameborder=\"0\"\n",
       "            allowfullscreen\n",
       "        ></iframe>\n",
       "        "
      ],
      "text/plain": [
       "<IPython.lib.display.IFrame at 0x7fe5b4c6bd30>"
      ]
     },
     "metadata": {},
     "output_type": "display_data"
    },
    {
     "data": {
      "text/html": [
       "<h4>Here are the 5 most similar Taylor Swift songs we found.</h4>"
      ],
      "text/plain": [
       "<IPython.core.display.HTML object>"
      ]
     },
     "metadata": {},
     "output_type": "display_data"
    },
    {
     "data": {
      "text/html": [
       "\n",
       "        <iframe\n",
       "            width=\"400\"\n",
       "            height=\"75\"\n",
       "            src=\"https://open.spotify.com/embed/track/1xwAWUI6Dj0WGC3KiUPN0O\"\n",
       "            frameborder=\"0\"\n",
       "            allowfullscreen\n",
       "        ></iframe>\n",
       "        "
      ],
      "text/plain": [
       "<IPython.lib.display.IFrame at 0x7fe5b4c6bd30>"
      ]
     },
     "metadata": {},
     "output_type": "display_data"
    },
    {
     "data": {
      "text/html": [
       "\n",
       "        <iframe\n",
       "            width=\"400\"\n",
       "            height=\"75\"\n",
       "            src=\"https://open.spotify.com/embed/track/2YWtcWi3a83pdEg3Gif4Pd\"\n",
       "            frameborder=\"0\"\n",
       "            allowfullscreen\n",
       "        ></iframe>\n",
       "        "
      ],
      "text/plain": [
       "<IPython.lib.display.IFrame at 0x7fe5b525ee50>"
      ]
     },
     "metadata": {},
     "output_type": "display_data"
    },
    {
     "data": {
      "text/html": [
       "\n",
       "        <iframe\n",
       "            width=\"400\"\n",
       "            height=\"75\"\n",
       "            src=\"https://open.spotify.com/embed/track/1ZY1PqizIl78geGM4xWlEA\"\n",
       "            frameborder=\"0\"\n",
       "            allowfullscreen\n",
       "        ></iframe>\n",
       "        "
      ],
      "text/plain": [
       "<IPython.lib.display.IFrame at 0x7fe5b525ee50>"
      ]
     },
     "metadata": {},
     "output_type": "display_data"
    },
    {
     "data": {
      "text/html": [
       "\n",
       "        <iframe\n",
       "            width=\"400\"\n",
       "            height=\"75\"\n",
       "            src=\"https://open.spotify.com/embed/track/1SymEzIT3H8UZfibCs3TYi\"\n",
       "            frameborder=\"0\"\n",
       "            allowfullscreen\n",
       "        ></iframe>\n",
       "        "
      ],
      "text/plain": [
       "<IPython.lib.display.IFrame at 0x7fe5b4c6bd30>"
      ]
     },
     "metadata": {},
     "output_type": "display_data"
    },
    {
     "data": {
      "text/html": [
       "\n",
       "        <iframe\n",
       "            width=\"400\"\n",
       "            height=\"75\"\n",
       "            src=\"https://open.spotify.com/embed/track/4svZDCRz4cJoneBpjpx8DJ\"\n",
       "            frameborder=\"0\"\n",
       "            allowfullscreen\n",
       "        ></iframe>\n",
       "        "
      ],
      "text/plain": [
       "<IPython.lib.display.IFrame at 0x7fe5b4c6bd30>"
      ]
     },
     "metadata": {},
     "output_type": "display_data"
    }
   ],
   "source": [
    "# Run this cell. Don't change any of the code.\n",
    "default = 'Bank Account by 21 Savage'\n",
    "\n",
    "def get_and_format_recommendations(song_name):\n",
    "    song, artist = song_name.split(' by ')\n",
    "    row = billions_club[(billions_club.get('Song Name') == song) & (billions_club.get('Artist') == artist)]\n",
    "    uri = row.index[0]\n",
    "    recommendations_df = song_recommender(uri, billions_club, 5, default_features)\n",
    "    display(HTML(f'<h3>The song you chose was {billions_club.get(\"Song Name\").loc[uri]} by {billions_club.get(\"Artist\").loc[uri]}.</h3>'))\n",
    "    play_spotify(uri)\n",
    "    display(HTML('<h4>Here are the 5 most similar Taylor Swift songs we found.</h4>'))\n",
    "    for recommended_uri in recommendations_df.index:\n",
    "        play_spotify(recommended_uri)\n",
    "\n",
    "song_options = np.sort(billions_club.get('Song Name') + ' by ' + billions_club.get('Artist'))\n",
    "song_widget = widgets.Dropdown(options=song_options, description='Song', layout={'width': '525px'}, value=default)\n",
    "   \n",
    "def change_rec(change):\n",
    "    if change['name'] == 'value' and change['new'] != change['old']:\n",
    "        clear_output()\n",
    "        display(song_widget)\n",
    "        get_and_format_recommendations(song_widget.value)\n",
    "\n",
    "display(song_widget)\n",
    "get_and_format_recommendations(default)\n",
    "song_widget.observe(change_rec)"
   ]
  },
  {
   "cell_type": "markdown",
   "id": "1b09a1e0",
   "metadata": {},
   "source": [
    "You did all of the calculations behind-the-scenes to make this widget work – nice job!"
   ]
  },
  {
   "cell_type": "markdown",
   "id": "b69c4589",
   "metadata": {},
   "source": [
    "Up until now, our goal has been to find the songs in `tswift` that are most similar to our chosen song in `billions_club`. That's what the above widget does.\n",
    "\n",
    "However, we can also use the functions we've defined to determine the similarity between any pair of songs in `tswift`, since all of the functions we've defined so far in this section take a `song_df` as an input."
   ]
  },
  {
   "cell_type": "markdown",
   "id": "8ee593f6",
   "metadata": {},
   "source": [
    "Run the cell below to see a similar widget to the one above, but where the possible song options are songs in `tswift`. This time, songs are sorted first by album in alphabetical order, then by song name in alphabetical order. This widget can be used to organize Taylor Swift songs with a similar sound."
   ]
  },
  {
   "cell_type": "code",
   "execution_count": 70,
   "id": "dc524b4b",
   "metadata": {},
   "outputs": [
    {
     "data": {
      "application/vnd.jupyter.widget-view+json": {
       "model_id": "f4909e5d04524407a9a0b2d1e279d6bc",
       "version_major": 2,
       "version_minor": 0
      },
      "text/plain": [
       "Dropdown(description='Song', index=136, layout=Layout(width='525px'), options=('Welcome To New York, from the …"
      ]
     },
     "metadata": {},
     "output_type": "display_data"
    },
    {
     "data": {
      "text/html": [
       "<h3>The song you chose was Enchanted, from the album Speak Now.</h3>"
      ],
      "text/plain": [
       "<IPython.core.display.HTML object>"
      ]
     },
     "metadata": {},
     "output_type": "display_data"
    },
    {
     "data": {
      "text/html": [
       "\n",
       "        <iframe\n",
       "            width=\"400\"\n",
       "            height=\"75\"\n",
       "            src=\"https://open.spotify.com/embed/track/3sW3oSbzsfecv9XoUdGs7h\"\n",
       "            frameborder=\"0\"\n",
       "            allowfullscreen\n",
       "        ></iframe>\n",
       "        "
      ],
      "text/plain": [
       "<IPython.lib.display.IFrame at 0x7fe5b4c6c6a0>"
      ]
     },
     "metadata": {},
     "output_type": "display_data"
    },
    {
     "data": {
      "text/html": [
       "<h4>Here are the 5 most similar <b>other</b> Taylor Swift songs we found.</h4>"
      ],
      "text/plain": [
       "<IPython.core.display.HTML object>"
      ]
     },
     "metadata": {},
     "output_type": "display_data"
    },
    {
     "data": {
      "text/html": [
       "\n",
       "        <iframe\n",
       "            width=\"400\"\n",
       "            height=\"75\"\n",
       "            src=\"https://open.spotify.com/embed/track/2r9CbjYgFhtAmcFv1cSquB\"\n",
       "            frameborder=\"0\"\n",
       "            allowfullscreen\n",
       "        ></iframe>\n",
       "        "
      ],
      "text/plain": [
       "<IPython.lib.display.IFrame at 0x7fe5b525e670>"
      ]
     },
     "metadata": {},
     "output_type": "display_data"
    },
    {
     "data": {
      "text/html": [
       "\n",
       "        <iframe\n",
       "            width=\"400\"\n",
       "            height=\"75\"\n",
       "            src=\"https://open.spotify.com/embed/track/05GsNucq8Bngd9fnd4fRa0\"\n",
       "            frameborder=\"0\"\n",
       "            allowfullscreen\n",
       "        ></iframe>\n",
       "        "
      ],
      "text/plain": [
       "<IPython.lib.display.IFrame at 0x7fe5b525e670>"
      ]
     },
     "metadata": {},
     "output_type": "display_data"
    },
    {
     "data": {
      "text/html": [
       "\n",
       "        <iframe\n",
       "            width=\"400\"\n",
       "            height=\"75\"\n",
       "            src=\"https://open.spotify.com/embed/track/0y6kdSRCVQhSsHSpWvTUm7\"\n",
       "            frameborder=\"0\"\n",
       "            allowfullscreen\n",
       "        ></iframe>\n",
       "        "
      ],
      "text/plain": [
       "<IPython.lib.display.IFrame at 0x7fe5b4c6c6a0>"
      ]
     },
     "metadata": {},
     "output_type": "display_data"
    },
    {
     "data": {
      "text/html": [
       "\n",
       "        <iframe\n",
       "            width=\"400\"\n",
       "            height=\"75\"\n",
       "            src=\"https://open.spotify.com/embed/track/1n2wszmJyVkw6FHqyLnQsY\"\n",
       "            frameborder=\"0\"\n",
       "            allowfullscreen\n",
       "        ></iframe>\n",
       "        "
      ],
      "text/plain": [
       "<IPython.lib.display.IFrame at 0x7fe5b4c6c6a0>"
      ]
     },
     "metadata": {},
     "output_type": "display_data"
    },
    {
     "data": {
      "text/html": [
       "\n",
       "        <iframe\n",
       "            width=\"400\"\n",
       "            height=\"75\"\n",
       "            src=\"https://open.spotify.com/embed/track/6iiAfo4wTA2CVC3Uwx9uh8\"\n",
       "            frameborder=\"0\"\n",
       "            allowfullscreen\n",
       "        ></iframe>\n",
       "        "
      ],
      "text/plain": [
       "<IPython.lib.display.IFrame at 0x7fe5b4c6c6a0>"
      ]
     },
     "metadata": {},
     "output_type": "display_data"
    }
   ],
   "source": [
    "# Run this cell. Don't change any of the code.\n",
    "default_tswift = 'Enchanted, from the album Speak Now'\n",
    "\n",
    "def get_and_format_recommendations_tswift(song_name):\n",
    "    song, album = song_name.split(', from the album ')\n",
    "    \n",
    "    row = tswift[(tswift.get('Song Name') == song)]\n",
    "    uri = row.index[0]\n",
    "    recommendations_df = song_recommender(uri, tswift, 6, default_features)\n",
    "    display(HTML(f'<h3>The song you chose was {tswift.get(\"Song Name\").loc[uri]}, from the album {tswift.get(\"Album\").loc[uri]}.</h3>'))\n",
    "    play_spotify(recommendations_df.index[0])\n",
    "    display(HTML('<h4>Here are the 5 most similar <b>other</b> Taylor Swift songs we found.</h4>'))\n",
    "    for recommended_uri in recommendations_df.index[1:]:\n",
    "        play_spotify(recommended_uri)\n",
    "\n",
    "by_album = tswift.sort_values(['Album', 'Disc Number', 'Track Number'])\n",
    "song_options_tswift = np.array(by_album.get('Song Name') + ', from the album ' + by_album.get('Album'))\n",
    "song_widget_tswift = widgets.Dropdown(options=song_options_tswift, description='Song', layout={'width': '525px'}, value=default_tswift)\n",
    "   \n",
    "def change_rec_tswift(change):\n",
    "    if change['name'] == 'value' and change['new'] != change['old']:\n",
    "        clear_output()\n",
    "        display(song_widget_tswift)\n",
    "        get_and_format_recommendations_tswift(song_widget_tswift.value)\n",
    "\n",
    "display(song_widget_tswift)\n",
    "get_and_format_recommendations_tswift(default_tswift)\n",
    "song_widget_tswift.observe(change_rec_tswift)"
   ]
  },
  {
   "cell_type": "markdown",
   "id": "0d9f72cc",
   "metadata": {},
   "source": [
    "Awesome job! Have you found any new songs to listen to? We have... 🎶"
   ]
  },
  {
   "cell_type": "markdown",
   "id": "99ce079f",
   "metadata": {},
   "source": [
    "<a id='section3'></a>\n",
    "## Section 3: Lyric Searcher 🔍\n",
    "\n",
    "> Dark side, I search for your dark side.\n",
    "\n",
    "<small>(<a href=\"#outline\">return to the outline</a>)</small>"
   ]
  },
  {
   "cell_type": "markdown",
   "id": "022a40a1",
   "metadata": {},
   "source": [
    "In this section, we'll create a Taylor Swift lyric searcher similar to [this online tool](https://shaynak.github.io/taylor-swift/) created by Shayna Kothari, a software engineer at Facebook. Run the next cell and try inputting some search terms to explore what it does!"
   ]
  },
  {
   "cell_type": "code",
   "execution_count": 71,
   "id": "28c2cdcc",
   "metadata": {
    "scrolled": true
   },
   "outputs": [
    {
     "data": {
      "text/html": [
       "\n",
       "        <iframe\n",
       "            width=\"800\"\n",
       "            height=\"600\"\n",
       "            src=\"https://shaynak.github.io/taylor-swift\"\n",
       "            frameborder=\"0\"\n",
       "            allowfullscreen\n",
       "        ></iframe>\n",
       "        "
      ],
      "text/plain": [
       "<IPython.lib.display.IFrame at 0x7fe5b525e6a0>"
      ]
     },
     "metadata": {},
     "output_type": "display_data"
    }
   ],
   "source": [
    "display(IFrame(src=\"https://shaynak.github.io/taylor-swift\", width=800, height=600))"
   ]
  },
  {
   "cell_type": "markdown",
   "id": "3abee0e7",
   "metadata": {},
   "source": [
    "Creating our own version of this search tool will involve multiple steps, but we'll start simple and gradually increase the complexity of our search. Our search tool will have some differences from the online tool, but it will be similar.\n",
    "\n",
    "To implement our lyric searcher, we won't need any of the musical data in `tswift`, just lyrics of the songs themselves. At this point in the project, we'll switch our attention to the `lyrics` DataFrame."
   ]
  },
  {
   "cell_type": "code",
   "execution_count": 72,
   "id": "3f0f1fb8",
   "metadata": {
    "scrolled": true
   },
   "outputs": [
    {
     "data": {
      "text/html": [
       "<div>\n",
       "<style scoped>\n",
       "    .dataframe tbody tr th:only-of-type {\n",
       "        vertical-align: middle;\n",
       "    }\n",
       "\n",
       "    .dataframe tbody tr th {\n",
       "        vertical-align: top;\n",
       "    }\n",
       "\n",
       "    .dataframe thead th {\n",
       "        text-align: right;\n",
       "    }\n",
       "</style>\n",
       "<table border=\"1\" class=\"dataframe\">\n",
       "  <thead>\n",
       "    <tr style=\"text-align: right;\">\n",
       "      <th></th>\n",
       "      <th>Album</th>\n",
       "      <th>Lyrics</th>\n",
       "    </tr>\n",
       "    <tr>\n",
       "      <th>Song</th>\n",
       "      <th></th>\n",
       "      <th></th>\n",
       "    </tr>\n",
       "  </thead>\n",
       "  <tbody>\n",
       "    <tr>\n",
       "      <th>But Daddy I Love Him</th>\n",
       "      <td>The Tortured Poets Department</td>\n",
       "      <td>I forget how the West was won\\nI forget if thi...</td>\n",
       "    </tr>\n",
       "    <tr>\n",
       "      <th>Cassandra</th>\n",
       "      <td>The Tortured Poets Department</td>\n",
       "      <td>I was in my new house placing daydreams\\nPatch...</td>\n",
       "    </tr>\n",
       "    <tr>\n",
       "      <th>Chloe or Sam or Sophia or Marcus</th>\n",
       "      <td>The Tortured Poets Department</td>\n",
       "      <td>Your hologram stumbled into my apartment\\nHand...</td>\n",
       "    </tr>\n",
       "    <tr>\n",
       "      <th>Clara Bow</th>\n",
       "      <td>The Tortured Poets Department</td>\n",
       "      <td>\"You look like Clara Bow\\nIn this light, remar...</td>\n",
       "    </tr>\n",
       "    <tr>\n",
       "      <th>Down Bad</th>\n",
       "      <td>The Tortured Poets Department</td>\n",
       "      <td>Did you really beam me up\\nIn a cloud of spark...</td>\n",
       "    </tr>\n",
       "    <tr>\n",
       "      <th>...</th>\n",
       "      <td>...</td>\n",
       "      <td>...</td>\n",
       "    </tr>\n",
       "    <tr>\n",
       "      <th>Stay Beautiful</th>\n",
       "      <td>Taylor Swift</td>\n",
       "      <td>Cory's eyes are like a jungle\\nHe smiles, it's...</td>\n",
       "    </tr>\n",
       "    <tr>\n",
       "      <th>Teardrops On My Guitar</th>\n",
       "      <td>Taylor Swift</td>\n",
       "      <td>Drew looks at me\\nI fake a smile so he won't s...</td>\n",
       "    </tr>\n",
       "    <tr>\n",
       "      <th>The Outside</th>\n",
       "      <td>Taylor Swift</td>\n",
       "      <td>I didn't know what I would find\\nWhen I went l...</td>\n",
       "    </tr>\n",
       "    <tr>\n",
       "      <th>Tied Together With A Smile</th>\n",
       "      <td>Taylor Swift</td>\n",
       "      <td>Seems the only one who doesn't see your beauty...</td>\n",
       "    </tr>\n",
       "    <tr>\n",
       "      <th>Tim McGraw</th>\n",
       "      <td>Taylor Swift</td>\n",
       "      <td>He said the way my blue eyes shined\\nPut those...</td>\n",
       "    </tr>\n",
       "  </tbody>\n",
       "</table>\n",
       "<p>229 rows × 2 columns</p>\n",
       "</div>"
      ],
      "text/plain": [
       "                                                          Album  \\\n",
       "Song                                                              \n",
       "But Daddy I Love Him              The Tortured Poets Department   \n",
       "Cassandra                         The Tortured Poets Department   \n",
       "Chloe or Sam or Sophia or Marcus  The Tortured Poets Department   \n",
       "Clara Bow                         The Tortured Poets Department   \n",
       "Down Bad                          The Tortured Poets Department   \n",
       "...                                                         ...   \n",
       "Stay Beautiful                                     Taylor Swift   \n",
       "Teardrops On My Guitar                             Taylor Swift   \n",
       "The Outside                                        Taylor Swift   \n",
       "Tied Together With A Smile                         Taylor Swift   \n",
       "Tim McGraw                                         Taylor Swift   \n",
       "\n",
       "                                                                             Lyrics  \n",
       "Song                                                                                 \n",
       "But Daddy I Love Him              I forget how the West was won\\nI forget if thi...  \n",
       "Cassandra                         I was in my new house placing daydreams\\nPatch...  \n",
       "Chloe or Sam or Sophia or Marcus  Your hologram stumbled into my apartment\\nHand...  \n",
       "Clara Bow                         \"You look like Clara Bow\\nIn this light, remar...  \n",
       "Down Bad                          Did you really beam me up\\nIn a cloud of spark...  \n",
       "...                                                                             ...  \n",
       "Stay Beautiful                    Cory's eyes are like a jungle\\nHe smiles, it's...  \n",
       "Teardrops On My Guitar            Drew looks at me\\nI fake a smile so he won't s...  \n",
       "The Outside                       I didn't know what I would find\\nWhen I went l...  \n",
       "Tied Together With A Smile        Seems the only one who doesn't see your beauty...  \n",
       "Tim McGraw                        He said the way my blue eyes shined\\nPut those...  \n",
       "\n",
       "[229 rows x 2 columns]"
      ]
     },
     "execution_count": 72,
     "metadata": {},
     "output_type": "execute_result"
    }
   ],
   "source": [
    "lyrics"
   ]
  },
  {
   "cell_type": "markdown",
   "id": "bb84ae82",
   "metadata": {},
   "source": [
    "**Question 3.1.** To start, create a DataFrame named `casually_cruel` that has the same index and columns as `lyrics` and a row for each song that has the exact string `'casually cruel'` in the lyrics."
   ]
  },
  {
   "cell_type": "code",
   "execution_count": 73,
   "id": "91cc48c1",
   "metadata": {
    "scrolled": false
   },
   "outputs": [
    {
     "data": {
      "text/html": [
       "<div>\n",
       "<style scoped>\n",
       "    .dataframe tbody tr th:only-of-type {\n",
       "        vertical-align: middle;\n",
       "    }\n",
       "\n",
       "    .dataframe tbody tr th {\n",
       "        vertical-align: top;\n",
       "    }\n",
       "\n",
       "    .dataframe thead th {\n",
       "        text-align: right;\n",
       "    }\n",
       "</style>\n",
       "<table border=\"1\" class=\"dataframe\">\n",
       "  <thead>\n",
       "    <tr style=\"text-align: right;\">\n",
       "      <th></th>\n",
       "      <th>Album</th>\n",
       "      <th>Lyrics</th>\n",
       "    </tr>\n",
       "    <tr>\n",
       "      <th>Song</th>\n",
       "      <th></th>\n",
       "      <th></th>\n",
       "    </tr>\n",
       "  </thead>\n",
       "  <tbody>\n",
       "    <tr>\n",
       "      <th>All Too Well (10 Minute Version)</th>\n",
       "      <td>Red</td>\n",
       "      <td>I walked through the door with you, the air wa...</td>\n",
       "    </tr>\n",
       "  </tbody>\n",
       "</table>\n",
       "</div>"
      ],
      "text/plain": [
       "                                 Album  \\\n",
       "Song                                     \n",
       "All Too Well (10 Minute Version)   Red   \n",
       "\n",
       "                                                                             Lyrics  \n",
       "Song                                                                                 \n",
       "All Too Well (10 Minute Version)  I walked through the door with you, the air wa...  "
      ]
     },
     "execution_count": 73,
     "metadata": {},
     "output_type": "execute_result"
    }
   ],
   "source": [
    "casually_cruel = lyrics[lyrics.get('Lyrics').str.contains('casually cruel')]\n",
    "casually_cruel"
   ]
  },
  {
   "cell_type": "code",
   "execution_count": 74,
   "id": "1c52c7e6",
   "metadata": {
    "deletable": false,
    "editable": false
   },
   "outputs": [
    {
     "data": {
      "text/html": [
       "<p><strong><pre style='display: inline;'>q3_1</pre></strong> passed!</p>"
      ],
      "text/plain": [
       "q3_1 results: All test cases passed!"
      ]
     },
     "execution_count": 74,
     "metadata": {},
     "output_type": "execute_result"
    }
   ],
   "source": [
    "grader.check(\"q3_1\")"
   ]
  },
  {
   "cell_type": "markdown",
   "id": "be8cb7c3",
   "metadata": {},
   "source": [
    "If you search the phrase `'casually cruel'` on the lyric searcher website, or if you're a big Swiftie, you'll recognize that there's another song, `'Mr. Perfectly Fine'`, that uses this same phrase, but for some reason, it's not appearing among our search results. Try printing out the lyrics to `'Mr. Perfectly Fine'` and see if you can figure out why it doesn't appear in our `casually_cruel` DataFrame. "
   ]
  },
  {
   "cell_type": "code",
   "execution_count": 75,
   "id": "e524c90e",
   "metadata": {
    "scrolled": true
   },
   "outputs": [
    {
     "name": "stdout",
     "output_type": "stream",
     "text": [
      "Mr. \"Perfect face\"\n",
      "Mr. \"Here to stay\"\n",
      "Mr. \"Looked me in the eye and told me you would never go away\"\n",
      "Everything was right\n",
      "Mr. \"I've been waitin' for you all my life\"\n",
      "Mr. \"Every single day until the end, I will be by your side\"\n",
      "\n",
      "But that was when I got to know Mr. \"Change of heart\"\n",
      "Mr. \"Leaves me all alone,\" I fall apart\n",
      "It takes everything in me just to get up each day\n",
      "But it's wonderful to see that you're okay\n",
      "\n",
      "Hello, Mr. \"Perfectly fine\"\n",
      "How's your heart after breakin' mine?\n",
      "Mr. \"Always at the right place at the right time,\" baby\n",
      "Hello, Mr. \"Casually cruel\"\n",
      "Mr. \"Everything revolves around you\"\n",
      "I've been Miss Misery since your goodbye\n",
      "And you're Mr. \"Perfectly fine\"\n",
      "\n",
      "Mr. \"Never told me why\"\n",
      "Mr. \"Never had to see me cry\"\n",
      "Mr. \"Insincere apology so he doesn't look like the bad guy\"\n",
      "He goes about his day\n",
      "Forgets he ever even heard my name\n",
      "Well, I thought you might be different than the rest, I guess you're all the same\n",
      "\n",
      "'Cause I hear he's got his arm 'round a brand-new girl\n",
      "I've been pickin' up my heart, he's been pickin' up her\n",
      "And I never got past what you put me through\n",
      "But it's wonderful to see that it never phased you\n",
      "\n",
      "Hello, Mr. \"Perfectly fine\"\n",
      "How's your heart after breakin' mine?\n",
      "Mr. \"Always at the right place at the right time,\" baby\n",
      "Hello, Mr. \"Casually cruel\"\n",
      "Mr. \"Everything revolves around you\"\n",
      "I've been Miss Misery since your goodbye\n",
      "And you're Mr. \"Perfectly fine\"\n",
      "\n",
      "So dignified in your well-pressed suit\n",
      "So strategized, all the eyes on you\n",
      "Sashay your way to your seat\n",
      "It's the best seat, in the best room\n",
      "Oh, he's so smug, Mr. \"Always wins\"\n",
      "So far above me in every sense\n",
      "So far above feeling anything\n",
      "\n",
      "And it's really such a shame\n",
      "It's such a shame\n",
      "'Cause I was Miss \"Here to stay\"\n",
      "Now I'm Miss \"Gonna be alright someday\"\n",
      "And someday maybe you'll miss me\n",
      "But by then, you'll be Mr. \"Too late\"\n",
      "\n",
      "Goodbye, Mr. \"Perfectly fine\"\n",
      "How's your heart after breakin' mine?\n",
      "Mr. \"Always at the right place at the right time,\" baby\n",
      "Goodbye, Mr. \"Casually cruel\"\n",
      "Mr. \"Everything revolves around you\"\n",
      "I've been Miss Misery for the last time\n",
      "And you're Mr. \"Perfectly fine\"\n",
      "\n",
      "You're perfectly fine\n",
      "Mr. \"Looked me in the eye and told me you would never go away\"\n",
      "You said you'd never go away\n"
     ]
    }
   ],
   "source": [
    "print(lyrics.loc['Mr. Perfectly Fine'].get('Lyrics'))\n"
   ]
  },
  {
   "cell_type": "markdown",
   "id": "81f8932e",
   "metadata": {},
   "source": [
    "**Question 3.2.** Now, write a function called `phrase_match_df` with one parameter, a string `phrase`. The function should return a DataFrame with the same index and columns as `lyrics`, with a row for each song that includes the given `phrase` in the lyrics, regardless of capitalization.\n",
    "\n",
    "For example, on the input phrase of `'casually cruel'`, the function should return a DataFrame with two rows; the same two rows should be returned on the input phrase `'CASUALLY cRUEL'`."
   ]
  },
  {
   "cell_type": "code",
   "execution_count": 76,
   "id": "03ec104e",
   "metadata": {},
   "outputs": [
    {
     "data": {
      "text/html": [
       "<div>\n",
       "<style scoped>\n",
       "    .dataframe tbody tr th:only-of-type {\n",
       "        vertical-align: middle;\n",
       "    }\n",
       "\n",
       "    .dataframe tbody tr th {\n",
       "        vertical-align: top;\n",
       "    }\n",
       "\n",
       "    .dataframe thead th {\n",
       "        text-align: right;\n",
       "    }\n",
       "</style>\n",
       "<table border=\"1\" class=\"dataframe\">\n",
       "  <thead>\n",
       "    <tr style=\"text-align: right;\">\n",
       "      <th></th>\n",
       "      <th>Album</th>\n",
       "      <th>Lyrics</th>\n",
       "    </tr>\n",
       "    <tr>\n",
       "      <th>Song</th>\n",
       "      <th></th>\n",
       "      <th></th>\n",
       "    </tr>\n",
       "  </thead>\n",
       "  <tbody>\n",
       "    <tr>\n",
       "      <th>All Too Well (10 Minute Version)</th>\n",
       "      <td>Red</td>\n",
       "      <td>I walked through the door with you, the air wa...</td>\n",
       "    </tr>\n",
       "    <tr>\n",
       "      <th>Mr. Perfectly Fine</th>\n",
       "      <td>Fearless</td>\n",
       "      <td>Mr. \"Perfect face\"\\nMr. \"Here to stay\"\\nMr. \"L...</td>\n",
       "    </tr>\n",
       "  </tbody>\n",
       "</table>\n",
       "</div>"
      ],
      "text/plain": [
       "                                     Album  \\\n",
       "Song                                         \n",
       "All Too Well (10 Minute Version)       Red   \n",
       "Mr. Perfectly Fine                Fearless   \n",
       "\n",
       "                                                                             Lyrics  \n",
       "Song                                                                                 \n",
       "All Too Well (10 Minute Version)  I walked through the door with you, the air wa...  \n",
       "Mr. Perfectly Fine                Mr. \"Perfect face\"\\nMr. \"Here to stay\"\\nMr. \"L...  "
      ]
     },
     "execution_count": 76,
     "metadata": {},
     "output_type": "execute_result"
    }
   ],
   "source": [
    "def phrase_match_df(phrase):\n",
    "    return lyrics[lyrics.get('Lyrics').str.lower().str.contains(phrase.lower())]\n",
    "\n",
    "# Feel free to change the argument in the function call below to experiment!\n",
    "phrase_match_df('casually CRuel')"
   ]
  },
  {
   "cell_type": "code",
   "execution_count": 77,
   "id": "bf1ae575",
   "metadata": {
    "deletable": false,
    "editable": false
   },
   "outputs": [
    {
     "data": {
      "text/html": [
       "<p><strong><pre style='display: inline;'>q3_2</pre></strong> passed!</p>"
      ],
      "text/plain": [
       "q3_2 results: All test cases passed!"
      ]
     },
     "execution_count": 77,
     "metadata": {},
     "output_type": "execute_result"
    }
   ],
   "source": [
    "grader.check(\"q3_2\")"
   ]
  },
  {
   "cell_type": "markdown",
   "id": "b1eed20c",
   "metadata": {},
   "source": [
    "Let's try to figure out exactly where in a song a certain phrase appears. For example, we know the phrase `'casually cruel'` appears in `'All Too Well (10 Minute Version)'` but what line(s) is it a part of? Does it appear several times or just once?\n",
    "\n",
    "First, when we refer to a line of a song, we're referring to what gets printed on its own line when the lyrics are printed. Lines *can* be blank, which usually happens as a separator between different parts of the song, such as the chorus and the verse. For example, the fifth line of `'Mastermind'` is blank, as you can see below."
   ]
  },
  {
   "cell_type": "code",
   "execution_count": 78,
   "id": "be7589d0",
   "metadata": {},
   "outputs": [
    {
     "data": {
      "text/plain": [
       "''"
      ]
     },
     "execution_count": 78,
     "metadata": {},
     "output_type": "execute_result"
    }
   ],
   "source": [
    "mastermind.split('\\n')[4]"
   ]
  },
  {
   "cell_type": "code",
   "execution_count": 79,
   "id": "94572193",
   "metadata": {
    "scrolled": true
   },
   "outputs": [
    {
     "name": "stdout",
     "output_type": "stream",
     "text": [
      "Once upon a time, the planets and the fates\n",
      "And all the stars aligned\n",
      "You and I ended up in the same room\n",
      "At the same time\n",
      "\n",
      "And the touch of a hand lit the fuse\n",
      "Of a chain reaction of countermoves\n",
      "To assess the equation of you\n",
      "Checkmate, I couldn't lose\n",
      "\n",
      "What if I told you none of it was accidental?\n",
      "And the first night that you saw me\n",
      "Nothing was gonna stop me\n",
      "I laid the groundwork, and then\n",
      "Just like clockwork\n",
      "The dominoes cascaded in a line\n",
      "What if I told you I'm a mastermind?\n",
      "And now you're mine\n",
      "It was all by dеsign\n",
      "'Cause I'm a mastermind\n",
      "\n",
      "You see, all the wisеst women\n",
      "Had to do it this way\n",
      "'Cause we were born to be the pawn\n",
      "In every lover's game\n",
      "\n",
      "If you fail to plan, you plan to fail\n",
      "Strategy sets the scene for the tale\n",
      "I'm the wind in our free-flowing sails\n",
      "And the liquor in our cocktails\n",
      "\n",
      "What if I told you none of it was accidental?\n",
      "And the first night that you saw me\n",
      "I knew I wanted your body\n",
      "I laid the groundwork, and then\n",
      "Just like clockwork\n",
      "The dominoes cascaded in a line\n",
      "What if I told you I'm a mastermind?\n",
      "And now you're mine\n",
      "It was all my design\n",
      "'Cause I'm a mastermind\n",
      "\n",
      "No one wanted to play with me as a little kid\n",
      "So I've been scheming like a criminal ever since\n",
      "To make them love me and make it seem effortless\n",
      "This is the first time I've felt the need to confess\n",
      "And I swear\n",
      "I'm only cryptic and Machiavellian\n",
      "'Cause I care\n",
      "\n",
      "So I told you none of it was accidental\n",
      "And the first night that you saw me\n",
      "Nothing was gonna stop me\n",
      "I laid the groundwork, and then\n",
      "Saw a wide smirk on your face\n",
      "You knew the entire time\n",
      "You knew that I'm a mastermind\n",
      "And now you're mine\n",
      "Yeah, all you did was smile\n",
      "'Cause I'm a mastermind\n"
     ]
    }
   ],
   "source": [
    "print(mastermind)"
   ]
  },
  {
   "cell_type": "markdown",
   "id": "e02be843",
   "metadata": {},
   "source": [
    "**Question 3.3.** Set the variable `fine_lines` to a list of all the lines of `'Mr. Perfectly Fine'`. Some of these lines will be blank (meaning they will appear as empty strings).\n",
    "\n",
    "***Hint:*** Lines are separated by newline characters `'\\n'`."
   ]
  },
  {
   "cell_type": "code",
   "execution_count": 80,
   "id": "a7dc6477",
   "metadata": {
    "scrolled": true
   },
   "outputs": [
    {
     "data": {
      "text/plain": [
       "['Mr. \"Perfect face\"',\n",
       " 'Mr. \"Here to stay\"',\n",
       " 'Mr. \"Looked me in the eye and told me you would never go away\"',\n",
       " 'Everything was right',\n",
       " 'Mr. \"I\\'ve been waitin\\' for you all my life\"',\n",
       " 'Mr. \"Every single day until the end, I will be by your side\"',\n",
       " '',\n",
       " 'But that was when I got to know Mr. \"Change of heart\"',\n",
       " 'Mr. \"Leaves me all alone,\" I fall apart',\n",
       " 'It takes everything in me just to get up each day',\n",
       " \"But it's wonderful to see that you're okay\",\n",
       " '',\n",
       " 'Hello, Mr. \"Perfectly fine\"',\n",
       " \"How's your heart after breakin' mine?\",\n",
       " 'Mr. \"Always at the right place at the right time,\" baby',\n",
       " 'Hello, Mr. \"Casually cruel\"',\n",
       " 'Mr. \"Everything revolves around you\"',\n",
       " \"I've been Miss Misery since your goodbye\",\n",
       " 'And you\\'re Mr. \"Perfectly fine\"',\n",
       " '',\n",
       " 'Mr. \"Never told me why\"',\n",
       " 'Mr. \"Never had to see me cry\"',\n",
       " 'Mr. \"Insincere apology so he doesn\\'t look like the bad guy\"',\n",
       " 'He goes about his day',\n",
       " 'Forgets he ever even heard my name',\n",
       " \"Well, I thought you might be different than the rest, I guess you're all the same\",\n",
       " '',\n",
       " \"'Cause I hear he's got his arm 'round a brand-new girl\",\n",
       " \"I've been pickin' up my heart, he's been pickin' up her\",\n",
       " 'And I never got past what you put me through',\n",
       " \"But it's wonderful to see that it never phased you\",\n",
       " '',\n",
       " 'Hello, Mr. \"Perfectly fine\"',\n",
       " \"How's your heart after breakin' mine?\",\n",
       " 'Mr. \"Always at the right place at the right time,\" baby',\n",
       " 'Hello, Mr. \"Casually cruel\"',\n",
       " 'Mr. \"Everything revolves around you\"',\n",
       " \"I've been Miss Misery since your goodbye\",\n",
       " 'And you\\'re Mr. \"Perfectly fine\"',\n",
       " '',\n",
       " 'So dignified in your well-pressed suit',\n",
       " 'So strategized, all the eyes on you',\n",
       " 'Sashay your way to your seat',\n",
       " \"It's the best seat, in the best room\",\n",
       " 'Oh, he\\'s so smug, Mr. \"Always wins\"',\n",
       " 'So far above me in every sense',\n",
       " 'So far above feeling anything',\n",
       " '',\n",
       " \"And it's really such a shame\",\n",
       " \"It's such a shame\",\n",
       " '\\'Cause I was Miss \"Here to stay\"',\n",
       " 'Now I\\'m Miss \"Gonna be alright someday\"',\n",
       " \"And someday maybe you'll miss me\",\n",
       " 'But by then, you\\'ll be Mr. \"Too late\"',\n",
       " '',\n",
       " 'Goodbye, Mr. \"Perfectly fine\"',\n",
       " \"How's your heart after breakin' mine?\",\n",
       " 'Mr. \"Always at the right place at the right time,\" baby',\n",
       " 'Goodbye, Mr. \"Casually cruel\"',\n",
       " 'Mr. \"Everything revolves around you\"',\n",
       " \"I've been Miss Misery for the last time\",\n",
       " 'And you\\'re Mr. \"Perfectly fine\"',\n",
       " '',\n",
       " \"You're perfectly fine\",\n",
       " 'Mr. \"Looked me in the eye and told me you would never go away\"',\n",
       " \"You said you'd never go away\"]"
      ]
     },
     "execution_count": 80,
     "metadata": {},
     "output_type": "execute_result"
    }
   ],
   "source": [
    "fine_lines = lyrics.loc['Mr. Perfectly Fine'].get('Lyrics').split('\\n')\n",
    "fine_lines"
   ]
  },
  {
   "cell_type": "code",
   "execution_count": 81,
   "id": "38f161c3",
   "metadata": {
    "deletable": false,
    "editable": false
   },
   "outputs": [
    {
     "data": {
      "text/html": [
       "<p><strong><pre style='display: inline;'>q3_3</pre></strong> passed!</p>"
      ],
      "text/plain": [
       "q3_3 results: All test cases passed!"
      ]
     },
     "execution_count": 81,
     "metadata": {},
     "output_type": "execute_result"
    }
   ],
   "source": [
    "grader.check(\"q3_3\")"
   ]
  },
  {
   "cell_type": "markdown",
   "id": "cf467b8b",
   "metadata": {},
   "source": [
    "**Question 3.4.** Loop through the list `fine_lines`, and when you encounter a line that contains the phrase `'casually cruel'` (with any capitalization), append that line to the array `cruel_fine_lines`, which we have already initialized to be empty.\n",
    "\n",
    "Note that when you append a line to `cruel_fine_lines`, the line should maintain the capitalization of the original lyrics. They should also appear in the same order they appear in `fine_lines`. If there are duplicate lines, include all occurrences of the line."
   ]
  },
  {
   "cell_type": "code",
   "execution_count": 82,
   "id": "1e034d3d",
   "metadata": {},
   "outputs": [
    {
     "data": {
      "text/plain": [
       "array(['Hello, Mr. \"Casually cruel\"', 'Hello, Mr. \"Casually cruel\"',\n",
       "       'Goodbye, Mr. \"Casually cruel\"'], dtype='<U32')"
      ]
     },
     "execution_count": 82,
     "metadata": {},
     "output_type": "execute_result"
    }
   ],
   "source": [
    "phrase = 'casually cruel'\n",
    "cruel_fine_lines = np.array([])\n",
    "for line in fine_lines:\n",
    "    if phrase in line.lower():\n",
    "        cruel_fine_lines = np.append(cruel_fine_lines, line)\n",
    "cruel_fine_lines"
   ]
  },
  {
   "cell_type": "code",
   "execution_count": 83,
   "id": "f4e482ac",
   "metadata": {
    "deletable": false,
    "editable": false,
    "scrolled": true
   },
   "outputs": [
    {
     "data": {
      "text/html": [
       "<p><strong><pre style='display: inline;'>q3_4</pre></strong> passed!</p>"
      ],
      "text/plain": [
       "q3_4 results: All test cases passed!"
      ]
     },
     "execution_count": 83,
     "metadata": {},
     "output_type": "execute_result"
    }
   ],
   "source": [
    "grader.check(\"q3_4\")"
   ]
  },
  {
   "cell_type": "code",
   "execution_count": 84,
   "id": "c6f7a749",
   "metadata": {},
   "outputs": [
    {
     "name": "stdout",
     "output_type": "stream",
     "text": [
      "Once upon a time, the planets and the fates\n",
      "And all the stars aligned\n",
      "You and I ended up in the same room\n",
      "At the same time\n",
      "\n",
      "And the touch of a hand lit the fuse\n",
      "Of a chain reaction of countermoves\n",
      "To assess the equation of you\n",
      "Checkmate, I couldn't lose\n",
      "\n",
      "What if I told you none of it was accidental?\n",
      "And the first night that you saw me\n",
      "Nothing was gonna stop me\n",
      "I laid the groundwork, and then\n",
      "Just like clockwork\n",
      "The dominoes cascaded in a line\n",
      "What if I told you I'm a mastermind?\n",
      "And now you're mine\n",
      "It was all by dеsign\n",
      "'Cause I'm a mastermind\n",
      "\n",
      "You see, all the wisеst women\n",
      "Had to do it this way\n",
      "'Cause we were born to be the pawn\n",
      "In every lover's game\n",
      "\n",
      "If you fail to plan, you plan to fail\n",
      "Strategy sets the scene for the tale\n",
      "I'm the wind in our free-flowing sails\n",
      "And the liquor in our cocktails\n",
      "\n",
      "What if I told you none of it was accidental?\n",
      "And the first night that you saw me\n",
      "I knew I wanted your body\n",
      "I laid the groundwork, and then\n",
      "Just like clockwork\n",
      "The dominoes cascaded in a line\n",
      "What if I told you I'm a mastermind?\n",
      "And now you're mine\n",
      "It was all my design\n",
      "'Cause I'm a mastermind\n",
      "\n",
      "No one wanted to play with me as a little kid\n",
      "So I've been scheming like a criminal ever since\n",
      "To make them love me and make it seem effortless\n",
      "This is the first time I've felt the need to confess\n",
      "And I swear\n",
      "I'm only cryptic and Machiavellian\n",
      "'Cause I care\n",
      "\n",
      "So I told you none of it was accidental\n",
      "And the first night that you saw me\n",
      "Nothing was gonna stop me\n",
      "I laid the groundwork, and then\n",
      "Saw a wide smirk on your face\n",
      "You knew the entire time\n",
      "You knew that I'm a mastermind\n",
      "And now you're mine\n",
      "Yeah, all you did was smile\n",
      "'Cause I'm a mastermind\n"
     ]
    }
   ],
   "source": [
    "print(mastermind)"
   ]
  },
  {
   "cell_type": "markdown",
   "id": "f2119a72",
   "metadata": {},
   "source": [
    "**Question 3.5.** Now, we're ready to generalize our work so that we can search for *any* phrase in *any* song. Complete the implementation of the function `isolate_phrase`, which takes as input the name of a song in the `lyrics` DataFrame and a phrase to search for, and returns an array of all lines in the song containing the phrase. \n",
    "\n",
    "As in the previous question, this should be a case-insensitive search, meaning the phrase is considered a match even if it appears with different capitalization, though the line you add to the output array should have the original capitalization of the song lyrics. \n",
    "\n",
    "The search should also include results where the target phrase appears as part of a longer word or phrase. For example, the output of `isolate_phrase('Mastermind', 'plan')` should include the line `'Once upon a time, the planets and the fates'` because `'plan'` is a part of `'planets'`. Note that this is not necessarily desirable behavior, but it's the most straightforward to implement.\n",
    "\n",
    "Be careful: sometimes the same phrase can appear multiple times in a single line. When that happens, the line should only appear in the output array once."
   ]
  },
  {
   "cell_type": "code",
   "execution_count": 85,
   "id": "ece9574e",
   "metadata": {
    "scrolled": true
   },
   "outputs": [
    {
     "data": {
      "text/plain": [
       "array(['Once upon a time, the planets and the fates',\n",
       "       'If you fail to plan, you plan to fail'], dtype='<U43')"
      ]
     },
     "execution_count": 85,
     "metadata": {},
     "output_type": "execute_result"
    }
   ],
   "source": [
    "def isolate_phrase(song_title, phrase):\n",
    "    lyric = lyrics.loc[song_title].get('Lyrics').split('\\n')\n",
    "    lines = np.array([])\n",
    "    for line in lyric:\n",
    "        if phrase.lower() in line.lower(): # --> Should phrase also be with .lower() function?\n",
    "            lines = np.append(lines, line)\n",
    "    return lines\n",
    "\n",
    "isolate_phrase('Mastermind', 'Plan') "
   ]
  },
  {
   "cell_type": "code",
   "execution_count": 86,
   "id": "2095e57e",
   "metadata": {
    "deletable": false,
    "editable": false
   },
   "outputs": [
    {
     "data": {
      "text/html": [
       "<p><strong><pre style='display: inline;'>q3_5</pre></strong> passed!</p>"
      ],
      "text/plain": [
       "q3_5 results: All test cases passed!"
      ]
     },
     "execution_count": 86,
     "metadata": {},
     "output_type": "execute_result"
    }
   ],
   "source": [
    "grader.check(\"q3_5\")"
   ]
  },
  {
   "cell_type": "markdown",
   "id": "a774d0fc",
   "metadata": {},
   "source": [
    "When we search the lyric searcher website for a specific phrase, notice that it displays not only the line where the search term was found, but also the lines immediately before and after, if they exist. \n",
    "\n",
    "Let's look closely at the four instances of the word `'time'` in the song `'Mastermind'` and see how these search results are displayed on the website.\n",
    "\n",
    "<img src=\"data/images/mastermind_time.jpg\" width=60%>"
   ]
  },
  {
   "cell_type": "markdown",
   "id": "8dcc2900",
   "metadata": {},
   "source": [
    "If there is a match for `'time'` in the first line, like `'Once upon a time'`, there is no previous line of the song. As a result, this line and the next are the only two lines in the output.\n",
    "\n",
    "If there is a match anywhere besides the first and last lines, there is a previous line and a next line, so all three lines should get added to the output. It's possible that the previous line or next line is blank; for instance, this happens in the second match in the example above, `'At the same time'`, which is followed by a blank line because it is at the end of the first verse.\n",
    "\n",
    "If there is a match in the last line, the previous line and the matching line should be output, but there is no next line."
   ]
  },
  {
   "cell_type": "markdown",
   "id": "729724f9",
   "metadata": {},
   "source": [
    "**Question 3.6.** ⭐⭐ Let's now define a function, `surround_phrase`, that works similarly to `isolate_phrase` except instead of only appending to the output array the lines where a match occurs, it should also append the previous and next lines, if they exist (even if they are blank lines). \n",
    "\n",
    "Start with the code you wrote for `isolate_phrase` and modify as needed. Instead of looping through all the lines, you'll want to handle matches in the first line and last line separately from matches in the middle. \n",
    "\n",
    "***Hint:*** Think about three cases of matches: a match in the first line, a match in the middle, and a match in the last line. Our solution first checks for matches in the first line using an `if`-statement. Then it loops through all the middle lines, looking for matches in each such line (again, using an `if`-statment). Finally, it checks for matches in the last line using another `if`-statement.\n",
    "\n",
    "Example behavior is given below. \n",
    "\n",
    "```py\n",
    ">>> surround_phrase('Mastermind', 'time')\n",
    "\n",
    "array(['Once upon a time, the planets and the fates',\n",
    "       'And all the stars aligned', \n",
    "       'You and I ended up in the same room',\n",
    "       'At the same time', \n",
    "       '',\n",
    "       'To make them love me and make it seem effortless',\n",
    "       \"This is the first time I've felt the need to confess\",\n",
    "       'And I swear', \n",
    "       'Saw a wide smirk on your face',\n",
    "       'You knew the entire time', \n",
    "       \"You knew that I'm a mastermind\"],\n",
    "      dtype='<U52')\n",
    "```"
   ]
  },
  {
   "cell_type": "code",
   "execution_count": 87,
   "id": "54ade3b0",
   "metadata": {},
   "outputs": [
    {
     "data": {
      "text/plain": [
       "array(['Once upon a time, the planets and the fates',\n",
       "       'And all the stars aligned', 'You and I ended up in the same room',\n",
       "       'At the same time', '',\n",
       "       'To make them love me and make it seem effortless',\n",
       "       \"This is the first time I've felt the need to confess\",\n",
       "       'And I swear', 'Saw a wide smirk on your face',\n",
       "       'You knew the entire time', \"You knew that I'm a mastermind\"],\n",
       "      dtype='<U52')"
      ]
     },
     "execution_count": 87,
     "metadata": {},
     "output_type": "execute_result"
    }
   ],
   "source": [
    "def surround_phrase(song_title, phrase):\n",
    "    lyric = lyrics.loc[song_title].get('Lyrics').split('\\n')\n",
    "    lines = np.array([])\n",
    "    for line in lyric:\n",
    "        if phrase.lower() in line.lower():\n",
    "            if lyric.index(line) == 0:\n",
    "                lines = np.append(lines, [line, lyric[lyric.index(line) + 1]])\n",
    "            if lyric.index(line) == len(lyric) - 1:\n",
    "                lines = np.append(lines,[lyric[lyric.index(line) - 1], line]) \n",
    "            if 0 < lyric.index(line) < len(lyric) - 1:\n",
    "                lines = np.append(lines, [lyric[lyric.index(line) - 1], line, lyric[lyric.index(line) + 1]])   \n",
    "            \n",
    "    return lines\n",
    "\n",
    "surround_phrase('Mastermind', 'time')"
   ]
  },
  {
   "cell_type": "code",
   "execution_count": 88,
   "id": "2fd5930b",
   "metadata": {
    "deletable": false,
    "editable": false
   },
   "outputs": [
    {
     "data": {
      "text/html": [
       "<p><strong><pre style='display: inline;'>q3_6</pre></strong> passed!</p>"
      ],
      "text/plain": [
       "q3_6 results: All test cases passed!"
      ]
     },
     "execution_count": 88,
     "metadata": {},
     "output_type": "execute_result"
    }
   ],
   "source": [
    "grader.check(\"q3_6\")"
   ]
  },
  {
   "cell_type": "markdown",
   "id": "e3aed157",
   "metadata": {},
   "source": [
    "Our lyric searcher is looking more like the website, but it's hard to parse the output. Let's make the output array easier to understand by doing what the website does: including the name of the song and album after each match. "
   ]
  },
  {
   "cell_type": "code",
   "execution_count": 89,
   "id": "87786585",
   "metadata": {},
   "outputs": [
    {
     "data": {
      "text/plain": [
       "'Midnights'"
      ]
     },
     "execution_count": 89,
     "metadata": {},
     "output_type": "execute_result"
    }
   ],
   "source": [
    "lyrics.loc['Mastermind'].get('Album')"
   ]
  },
  {
   "cell_type": "markdown",
   "id": "6a6e465b",
   "metadata": {},
   "source": [
    "**Question 3.7.** Write a function called `one_song_search` that works similarly to `surround_phrase`, except it should also append to the array a string that includes the song name and album name, after each match. Format this string like this: `'Song Name, Album Name'`, where the capitalization and spelling of song and album names are exactly as the appear in `lyrics`.\n",
    "\n",
    "***Hint:*** We solved this problem by taking our code from `surround_phrase` and adding four lines of code to it. The first calculated the name of the album the song was from. The other three lines of code each appended a string with the song and album. We needed three such appends to deal with the three cases: a match in the first line, a match in a middle line, and a match in the last line."
   ]
  },
  {
   "cell_type": "code",
   "execution_count": 90,
   "id": "262dde31",
   "metadata": {},
   "outputs": [
    {
     "data": {
      "text/plain": [
       "array(['Once upon a time, the planets and the fates',\n",
       "       'And all the stars aligned', 'Mastermind, Midnights',\n",
       "       'You and I ended up in the same room', 'At the same time', '',\n",
       "       'Mastermind, Midnights',\n",
       "       'To make them love me and make it seem effortless',\n",
       "       \"This is the first time I've felt the need to confess\",\n",
       "       'And I swear', 'Mastermind, Midnights',\n",
       "       'Saw a wide smirk on your face', 'You knew the entire time',\n",
       "       \"You knew that I'm a mastermind\", 'Mastermind, Midnights'],\n",
       "      dtype='<U52')"
      ]
     },
     "execution_count": 90,
     "metadata": {},
     "output_type": "execute_result"
    }
   ],
   "source": [
    "def one_song_search(song_title, phrase):\n",
    "    lyric = lyrics.loc[song_title].get('Lyrics').split('\\n')\n",
    "    lines = np.array([])\n",
    "    album = lyrics.loc[song_title].get('Album')\n",
    "    song_and_album = song_title + ', ' + album\n",
    "    for line in lyric:\n",
    "        if phrase.lower() in line.lower():\n",
    "            if lyric.index(line) == 0:\n",
    "                lines = np.append(lines, [line, lyric[lyric.index(line) + 1]])\n",
    "                lines = np.append(lines, song_and_album)  \n",
    "            if lyric.index(line) == len(lyric) - 1:\n",
    "                lines = np.append(lines,[lyric[lyric.index(line) - 1], line])\n",
    "                lines = np.append(lines, song_and_album)  \n",
    "            if 0 < lyric.index(line) < len(lyric) - 1:\n",
    "                lines = np.append(lines, [lyric[lyric.index(line) - 1], line, lyric[lyric.index(line) + 1]])\n",
    "                lines = np.append(lines, song_and_album)             \n",
    "    return lines\n",
    "    \n",
    "one_song_search('Mastermind', 'time')"
   ]
  },
  {
   "cell_type": "code",
   "execution_count": 91,
   "id": "2306efaf",
   "metadata": {
    "deletable": false,
    "editable": false
   },
   "outputs": [
    {
     "data": {
      "text/html": [
       "<p><strong><pre style='display: inline;'>q3_7</pre></strong> passed!</p>"
      ],
      "text/plain": [
       "q3_7 results: All test cases passed!"
      ]
     },
     "execution_count": 91,
     "metadata": {},
     "output_type": "execute_result"
    }
   ],
   "source": [
    "grader.check(\"q3_7\")"
   ]
  },
  {
   "cell_type": "markdown",
   "id": "50f757c2",
   "metadata": {},
   "source": [
    "We now have search results for a single song, but we need to extend our search to the entire body of Taylor Swift's work. To do this, we'll first use our `phrase_match_df` function from earlier to create a smaller DataFrame of just the songs that contain our target phrase. Then we'll loop through the entries in the `'Lyrics'` column of this smaller DataFrame and call our `one_song_search` function on each song's lyrics."
   ]
  },
  {
   "cell_type": "code",
   "execution_count": 92,
   "id": "6f3f529f",
   "metadata": {
    "scrolled": true
   },
   "outputs": [
    {
     "data": {
      "text/html": [
       "<div>\n",
       "<style scoped>\n",
       "    .dataframe tbody tr th:only-of-type {\n",
       "        vertical-align: middle;\n",
       "    }\n",
       "\n",
       "    .dataframe tbody tr th {\n",
       "        vertical-align: top;\n",
       "    }\n",
       "\n",
       "    .dataframe thead th {\n",
       "        text-align: right;\n",
       "    }\n",
       "</style>\n",
       "<table border=\"1\" class=\"dataframe\">\n",
       "  <thead>\n",
       "    <tr style=\"text-align: right;\">\n",
       "      <th></th>\n",
       "      <th>Album</th>\n",
       "      <th>Lyrics</th>\n",
       "    </tr>\n",
       "    <tr>\n",
       "      <th>Song</th>\n",
       "      <th></th>\n",
       "      <th></th>\n",
       "    </tr>\n",
       "  </thead>\n",
       "  <tbody>\n",
       "    <tr>\n",
       "      <th>But Daddy I Love Him</th>\n",
       "      <td>The Tortured Poets Department</td>\n",
       "      <td>I forget how the West was won\\nI forget if thi...</td>\n",
       "    </tr>\n",
       "    <tr>\n",
       "      <th>Peter</th>\n",
       "      <td>The Tortured Poets Department</td>\n",
       "      <td>Forgive me, Peter\\nMy lost fearless leader\\nIn...</td>\n",
       "    </tr>\n",
       "    <tr>\n",
       "      <th>right where you left me</th>\n",
       "      <td>evermore</td>\n",
       "      <td>Friends break up, friends get married\\nStrange...</td>\n",
       "    </tr>\n",
       "  </tbody>\n",
       "</table>\n",
       "</div>"
      ],
      "text/plain": [
       "                                                 Album  \\\n",
       "Song                                                     \n",
       "But Daddy I Love Him     The Tortured Poets Department   \n",
       "Peter                    The Tortured Poets Department   \n",
       "right where you left me                       evermore   \n",
       "\n",
       "                                                                    Lyrics  \n",
       "Song                                                                        \n",
       "But Daddy I Love Him     I forget how the West was won\\nI forget if thi...  \n",
       "Peter                    Forgive me, Peter\\nMy lost fearless leader\\nIn...  \n",
       "right where you left me  Friends break up, friends get married\\nStrange...  "
      ]
     },
     "execution_count": 92,
     "metadata": {},
     "output_type": "execute_result"
    }
   ],
   "source": [
    "phrase_match_df('perspective')"
   ]
  },
  {
   "cell_type": "code",
   "execution_count": 93,
   "id": "4cccbf4d",
   "metadata": {},
   "outputs": [
    {
     "data": {
      "text/plain": [
       "array(['And, oh my God, you should see your faces',\n",
       "       \"Time, doesn't it give some perspective?\",\n",
       "       \"And, no, you can't come to the wedding\",\n",
       "       'But Daddy I Love Him, The Tortured Poets Department'],\n",
       "      dtype='<U51')"
      ]
     },
     "execution_count": 93,
     "metadata": {},
     "output_type": "execute_result"
    }
   ],
   "source": [
    "one_song_search('But Daddy I Love Him', 'perspective')"
   ]
  },
  {
   "cell_type": "markdown",
   "id": "227b8fab",
   "metadata": {},
   "source": [
    "**Question 3.8.** Fill in the blanks below to try out the strategy outlined above to search for `'perspective'` in all of Taylor Swift's songs. We've initialized an empty array called `perspective_array`, where you should store all of your matches from all songs. \n",
    "\n",
    "***Hint:*** We usually use `np.append` to append a single item to an array. However, you can also use it to append a whole array of items to an array. "
   ]
  },
  {
   "cell_type": "code",
   "execution_count": 94,
   "id": "b5e37045",
   "metadata": {},
   "outputs": [
    {
     "data": {
      "text/plain": [
       "array(['And, oh my God, you should see your faces',\n",
       "       \"Time, doesn't it give some perspective?\",\n",
       "       \"And, no, you can't come to the wedding\",\n",
       "       'But Daddy I Love Him, The Tortured Poets Department',\n",
       "       \"With your feet on the ground, tell me all that you'd learned\",\n",
       "       \"'Cause love's never lost when perspective is earned\",\n",
       "       \"And you said you'd come and get me, but you were twenty-five\",\n",
       "       'Peter, The Tortured Poets Department',\n",
       "       'They expected me to find somewhere',\n",
       "       'Some perspective, but I sat and stared right where', '',\n",
       "       'right where you left me, evermore'], dtype='<U60')"
      ]
     },
     "execution_count": 94,
     "metadata": {},
     "output_type": "execute_result"
    }
   ],
   "source": [
    "perspective_songs = phrase_match_df('perspective')\n",
    "perspective_array = np.array([])\n",
    "for song in np.arange(len(perspective_songs.index)):\n",
    "    perspective_array = np.append(perspective_array,\n",
    "                                  one_song_search(perspective_songs.index[song],\n",
    "                                                  'perspective'))\n",
    "perspective_array"
   ]
  },
  {
   "cell_type": "code",
   "execution_count": 95,
   "id": "9243a155",
   "metadata": {
    "deletable": false,
    "editable": false
   },
   "outputs": [
    {
     "data": {
      "text/html": [
       "<p><strong><pre style='display: inline;'>q3_8</pre></strong> passed!</p>"
      ],
      "text/plain": [
       "q3_8 results: All test cases passed!"
      ]
     },
     "execution_count": 95,
     "metadata": {},
     "output_type": "execute_result"
    }
   ],
   "source": [
    "grader.check(\"q3_8\")"
   ]
  },
  {
   "cell_type": "markdown",
   "id": "c8353653",
   "metadata": {},
   "source": [
    "**Question 3.9.** Generalize the previous example by writing a function `search_for` that takes a phrase as input and searches all of Taylor Swift's songs for that phrase, returning an output array as we've discussed. For example, `search_for('perspective')` should return an array with the same contents as `perspective_array` above."
   ]
  },
  {
   "cell_type": "code",
   "execution_count": 96,
   "id": "2e9049f1",
   "metadata": {},
   "outputs": [
    {
     "data": {
      "text/plain": [
       "array(['And, oh my God, you should see your faces',\n",
       "       \"Time, doesn't it give some perspective?\",\n",
       "       \"And, no, you can't come to the wedding\",\n",
       "       'But Daddy I Love Him, The Tortured Poets Department',\n",
       "       \"With your feet on the ground, tell me all that you'd learned\",\n",
       "       \"'Cause love's never lost when perspective is earned\",\n",
       "       \"And you said you'd come and get me, but you were twenty-five\",\n",
       "       'Peter, The Tortured Poets Department',\n",
       "       'They expected me to find somewhere',\n",
       "       'Some perspective, but I sat and stared right where', '',\n",
       "       'right where you left me, evermore'], dtype='<U60')"
      ]
     },
     "execution_count": 96,
     "metadata": {},
     "output_type": "execute_result"
    }
   ],
   "source": [
    "def search_for(phrase):\n",
    "    phrase_df = phrase_match_df(phrase)\n",
    "    phrase_array =  np.array([])\n",
    "    for song in np.arange(len(phrase_df.index)):\n",
    "        phrase_array = np.append(phrase_array,\n",
    "                                one_song_search(phrase_df.index[song],\n",
    "                                               phrase))\n",
    "    return phrase_array\n",
    "\n",
    "# Feel free to change the function call below.\n",
    "# Make sure to try some other words and phrases.\n",
    "search_for('perspective')"
   ]
  },
  {
   "cell_type": "code",
   "execution_count": 97,
   "id": "715c1970",
   "metadata": {
    "deletable": false,
    "editable": false
   },
   "outputs": [
    {
     "data": {
      "text/html": [
       "<p><strong><pre style='display: inline;'>q3_9</pre></strong> passed!</p>"
      ],
      "text/plain": [
       "q3_9 results: All test cases passed!"
      ]
     },
     "execution_count": 97,
     "metadata": {},
     "output_type": "execute_result"
    }
   ],
   "source": [
    "grader.check(\"q3_9\")"
   ]
  },
  {
   "cell_type": "markdown",
   "id": "b0ee3141",
   "metadata": {},
   "source": [
    "Our search tool works pretty well! However, it's still very hard to read the output in this format. Let's display it more nicely, and at the same time, implement something that the website has: a count of the total number of matches (usages), and the number of songs with a match. For example, the search term `'perspective'` is used 3 times in 3 songs throughout Taylor Swift's repertoire."
   ]
  },
  {
   "cell_type": "markdown",
   "id": "3635137f",
   "metadata": {},
   "source": [
    "<img src=\"data/images/perspective.jpg\" width=60%>"
   ]
  },
  {
   "cell_type": "markdown",
   "id": "c25334cb",
   "metadata": {},
   "source": [
    "**Question 3.10.** Complete the implementation of the function `search_and_display`, which takes as input a phrase to search for, calls the function `search_for` on that input phrase, and then nicely displays the output. In addition, the `search_and_display` function should calculate the total number of usages of the input phrase across all songs, as well as the number of songs in which the input phrase appears, and return both of these values in a list whose first element is the number of usages and whose second element is the number of songs.\n",
    "\n",
    "We've provided the code to do the displaying; you don't need to understand how this works. Your job is to calculate the total number of usages in `num_usages` and the number of matching songs, and to return a list of two elements as described. You'll see a comment that says `# TODO` above every line you need to complete."
   ]
  },
  {
   "cell_type": "code",
   "execution_count": 98,
   "id": "1f22374f",
   "metadata": {
    "scrolled": false
   },
   "outputs": [
    {
     "data": {
      "text/html": [
       "<center>And, oh my God, you should see your faces</center>"
      ],
      "text/plain": [
       "<IPython.core.display.HTML object>"
      ]
     },
     "metadata": {},
     "output_type": "display_data"
    },
    {
     "data": {
      "text/html": [
       "<center>Time, doesn't it give some perspective?</center>"
      ],
      "text/plain": [
       "<IPython.core.display.HTML object>"
      ]
     },
     "metadata": {},
     "output_type": "display_data"
    },
    {
     "data": {
      "text/html": [
       "<center>And, no, you can't come to the wedding</center>"
      ],
      "text/plain": [
       "<IPython.core.display.HTML object>"
      ]
     },
     "metadata": {},
     "output_type": "display_data"
    },
    {
     "data": {
      "text/html": [
       "<center><b><i>But Daddy I Love Him, The Tortured Poets Department</i></b></center>"
      ],
      "text/plain": [
       "<IPython.core.display.HTML object>"
      ]
     },
     "metadata": {},
     "output_type": "display_data"
    },
    {
     "data": {
      "text/markdown": [
       "___"
      ],
      "text/plain": [
       "<IPython.core.display.Markdown object>"
      ]
     },
     "metadata": {},
     "output_type": "display_data"
    },
    {
     "data": {
      "text/html": [
       "<center>With your feet on the ground, tell me all that you'd learned</center>"
      ],
      "text/plain": [
       "<IPython.core.display.HTML object>"
      ]
     },
     "metadata": {},
     "output_type": "display_data"
    },
    {
     "data": {
      "text/html": [
       "<center>'Cause love's never lost when perspective is earned</center>"
      ],
      "text/plain": [
       "<IPython.core.display.HTML object>"
      ]
     },
     "metadata": {},
     "output_type": "display_data"
    },
    {
     "data": {
      "text/html": [
       "<center>And you said you'd come and get me, but you were twenty-five</center>"
      ],
      "text/plain": [
       "<IPython.core.display.HTML object>"
      ]
     },
     "metadata": {},
     "output_type": "display_data"
    },
    {
     "data": {
      "text/html": [
       "<center><b><i>Peter, The Tortured Poets Department</i></b></center>"
      ],
      "text/plain": [
       "<IPython.core.display.HTML object>"
      ]
     },
     "metadata": {},
     "output_type": "display_data"
    },
    {
     "data": {
      "text/markdown": [
       "___"
      ],
      "text/plain": [
       "<IPython.core.display.Markdown object>"
      ]
     },
     "metadata": {},
     "output_type": "display_data"
    },
    {
     "data": {
      "text/html": [
       "<center>They expected me to find somewhere</center>"
      ],
      "text/plain": [
       "<IPython.core.display.HTML object>"
      ]
     },
     "metadata": {},
     "output_type": "display_data"
    },
    {
     "data": {
      "text/html": [
       "<center>Some perspective, but I sat and stared right where</center>"
      ],
      "text/plain": [
       "<IPython.core.display.HTML object>"
      ]
     },
     "metadata": {},
     "output_type": "display_data"
    },
    {
     "data": {
      "text/html": [
       "<center><b><i>right where you left me, evermore</i></b></center>"
      ],
      "text/plain": [
       "<IPython.core.display.HTML object>"
      ]
     },
     "metadata": {},
     "output_type": "display_data"
    },
    {
     "data": {
      "text/markdown": [
       "___"
      ],
      "text/plain": [
       "<IPython.core.display.Markdown object>"
      ]
     },
     "metadata": {},
     "output_type": "display_data"
    },
    {
     "data": {
      "text/html": [
       "<h3><center><span style=\"color:#888\">Found 3 usages of \"perspective\" across 3 songs.</span></center></h3>"
      ],
      "text/plain": [
       "<IPython.core.display.HTML object>"
      ]
     },
     "metadata": {},
     "output_type": "display_data"
    }
   ],
   "source": [
    "def search_and_display(phrase, to_display=True):\n",
    "    # Ignore the optional to_display argument.\n",
    "    # By default, we will display all of the lyrics as done in search_for.\n",
    "    \n",
    "    match_array = search_for(phrase)   \n",
    "    \n",
    "    num_usages = 0\n",
    "    matching_songs = np.array([])\n",
    "    \n",
    "    for line in match_array:\n",
    "        \n",
    "        # If the line represents a song name and album name, display it nicely.\n",
    "        if line in np.array(lyrics.reset_index().get('Song') + \", \" + lyrics.reset_index().get('Album')):\n",
    "            if to_display:\n",
    "                display(HTML(f'<center><b><i>{line}</i></b></center>')) # Display song and album names in bold italics.\n",
    "                display(Markdown('___')) # Add horizontal line between matches.\n",
    "            \n",
    "            # TODO: Update matching_songs.\n",
    "            matching_songs = np.append(matching_songs, line)\n",
    "        \n",
    "        # Otherwise, if the line is not blank, print it.\n",
    "        elif len(line) > 0:\n",
    "            if to_display:\n",
    "                display(HTML(f'<center>{line}</center>'))\n",
    "            \n",
    "            # TODO: Update num_usages.\n",
    "            if phrase.lower() in line.lower():\n",
    "                num_usages = num_usages + 1\n",
    "            \n",
    "    # TODO: Create a list of two elements to output.\n",
    "    output_list = [num_usages, len(matching_songs)]\n",
    "    \n",
    "    if to_display:\n",
    "        display(HTML('<h3><center><span style=\"color:#888\">Found ' + str(output_list[0]) + ' usages of \\\"' + phrase + '\\\" across ' + str(output_list[1]) + ' songs.</span></center></h3>'))\n",
    "    return output_list \n",
    "\n",
    "# An example function call. Feel free to change it.\n",
    "perspective_stats = search_and_display('perspective')"
   ]
  },
  {
   "cell_type": "code",
   "execution_count": 99,
   "id": "ba157b95",
   "metadata": {
    "deletable": false,
    "editable": false
   },
   "outputs": [
    {
     "data": {
      "text/html": [
       "<p><strong><pre style='display: inline;'>q3_10</pre></strong> passed!</p>"
      ],
      "text/plain": [
       "q3_10 results: All test cases passed!"
      ]
     },
     "execution_count": 99,
     "metadata": {},
     "output_type": "execute_result"
    }
   ],
   "source": [
    "grader.check(\"q3_10\")"
   ]
  },
  {
   "cell_type": "markdown",
   "id": "746bc4b7",
   "metadata": {},
   "source": [
    "We now have a search tool that can search Taylor Swift's body of work for any phrase and display the results in much the same format as the online search tool we tried to replicate. Well done!\n",
    "\n",
    "Run the cell below to play around with an interactive version of `search_and_display`. It'll show you a text box; type a phrase and hit \"enter\" to see the value of `search_and_display` when called on your input."
   ]
  },
  {
   "cell_type": "code",
   "execution_count": 100,
   "id": "0eb0eb0c",
   "metadata": {
    "scrolled": false
   },
   "outputs": [
    {
     "data": {
      "application/vnd.jupyter.widget-view+json": {
       "model_id": "8e4d98d57a3d4d09a72f07becfce9483",
       "version_major": 2,
       "version_minor": 0
      },
      "text/plain": [
       "Text(value='casually cruel', description='Phrase:', layout=Layout(width='525px'), placeholder='Type a phrase h…"
      ]
     },
     "metadata": {},
     "output_type": "display_data"
    },
    {
     "data": {
      "text/html": [
       "<center>And you call me up again just to break me like a promise</center>"
      ],
      "text/plain": [
       "<IPython.core.display.HTML object>"
      ]
     },
     "metadata": {},
     "output_type": "display_data"
    },
    {
     "data": {
      "text/html": [
       "<center>So casually cruel in the name of bein' honest</center>"
      ],
      "text/plain": [
       "<IPython.core.display.HTML object>"
      ]
     },
     "metadata": {},
     "output_type": "display_data"
    },
    {
     "data": {
      "text/html": [
       "<center>I'm a crumpled-up piece of paper lyin' here</center>"
      ],
      "text/plain": [
       "<IPython.core.display.HTML object>"
      ]
     },
     "metadata": {},
     "output_type": "display_data"
    },
    {
     "data": {
      "text/html": [
       "<center><b><i>All Too Well (10 Minute Version), Red</i></b></center>"
      ],
      "text/plain": [
       "<IPython.core.display.HTML object>"
      ]
     },
     "metadata": {},
     "output_type": "display_data"
    },
    {
     "data": {
      "text/markdown": [
       "___"
      ],
      "text/plain": [
       "<IPython.core.display.Markdown object>"
      ]
     },
     "metadata": {},
     "output_type": "display_data"
    },
    {
     "data": {
      "text/html": [
       "<center>Mr. \"Always at the right place at the right time,\" baby</center>"
      ],
      "text/plain": [
       "<IPython.core.display.HTML object>"
      ]
     },
     "metadata": {},
     "output_type": "display_data"
    },
    {
     "data": {
      "text/html": [
       "<center>Hello, Mr. \"Casually cruel\"</center>"
      ],
      "text/plain": [
       "<IPython.core.display.HTML object>"
      ]
     },
     "metadata": {},
     "output_type": "display_data"
    },
    {
     "data": {
      "text/html": [
       "<center>Mr. \"Everything revolves around you\"</center>"
      ],
      "text/plain": [
       "<IPython.core.display.HTML object>"
      ]
     },
     "metadata": {},
     "output_type": "display_data"
    },
    {
     "data": {
      "text/html": [
       "<center><b><i>Mr. Perfectly Fine, Fearless</i></b></center>"
      ],
      "text/plain": [
       "<IPython.core.display.HTML object>"
      ]
     },
     "metadata": {},
     "output_type": "display_data"
    },
    {
     "data": {
      "text/markdown": [
       "___"
      ],
      "text/plain": [
       "<IPython.core.display.Markdown object>"
      ]
     },
     "metadata": {},
     "output_type": "display_data"
    },
    {
     "data": {
      "text/html": [
       "<center>Mr. \"Always at the right place at the right time,\" baby</center>"
      ],
      "text/plain": [
       "<IPython.core.display.HTML object>"
      ]
     },
     "metadata": {},
     "output_type": "display_data"
    },
    {
     "data": {
      "text/html": [
       "<center>Hello, Mr. \"Casually cruel\"</center>"
      ],
      "text/plain": [
       "<IPython.core.display.HTML object>"
      ]
     },
     "metadata": {},
     "output_type": "display_data"
    },
    {
     "data": {
      "text/html": [
       "<center>Mr. \"Everything revolves around you\"</center>"
      ],
      "text/plain": [
       "<IPython.core.display.HTML object>"
      ]
     },
     "metadata": {},
     "output_type": "display_data"
    },
    {
     "data": {
      "text/html": [
       "<center><b><i>Mr. Perfectly Fine, Fearless</i></b></center>"
      ],
      "text/plain": [
       "<IPython.core.display.HTML object>"
      ]
     },
     "metadata": {},
     "output_type": "display_data"
    },
    {
     "data": {
      "text/markdown": [
       "___"
      ],
      "text/plain": [
       "<IPython.core.display.Markdown object>"
      ]
     },
     "metadata": {},
     "output_type": "display_data"
    },
    {
     "data": {
      "text/html": [
       "<center>Mr. \"Always at the right place at the right time,\" baby</center>"
      ],
      "text/plain": [
       "<IPython.core.display.HTML object>"
      ]
     },
     "metadata": {},
     "output_type": "display_data"
    },
    {
     "data": {
      "text/html": [
       "<center>Goodbye, Mr. \"Casually cruel\"</center>"
      ],
      "text/plain": [
       "<IPython.core.display.HTML object>"
      ]
     },
     "metadata": {},
     "output_type": "display_data"
    },
    {
     "data": {
      "text/html": [
       "<center>Mr. \"Everything revolves around you\"</center>"
      ],
      "text/plain": [
       "<IPython.core.display.HTML object>"
      ]
     },
     "metadata": {},
     "output_type": "display_data"
    },
    {
     "data": {
      "text/html": [
       "<center><b><i>Mr. Perfectly Fine, Fearless</i></b></center>"
      ],
      "text/plain": [
       "<IPython.core.display.HTML object>"
      ]
     },
     "metadata": {},
     "output_type": "display_data"
    },
    {
     "data": {
      "text/markdown": [
       "___"
      ],
      "text/plain": [
       "<IPython.core.display.Markdown object>"
      ]
     },
     "metadata": {},
     "output_type": "display_data"
    },
    {
     "data": {
      "text/html": [
       "<h3><center><span style=\"color:#888\">Found 4 usages of \"casually cruel\" across 4 songs.</span></center></h3>"
      ],
      "text/plain": [
       "<IPython.core.display.HTML object>"
      ]
     },
     "metadata": {},
     "output_type": "display_data"
    }
   ],
   "source": [
    "# Run this cell. Don't change any of the code.\n",
    "default_lyric = 'casually cruel'\n",
    "\n",
    "lyric_box = widgets.Text(\n",
    "    value=default_lyric,\n",
    "    placeholder='Type a phrase here and hit enter.',\n",
    "    description='Phrase:',\n",
    "    layout={'width': '525px'},\n",
    "    disabled=False   \n",
    ")\n",
    "\n",
    "def change_matches(change):\n",
    "    clear_output()\n",
    "    display(lyric_box)\n",
    "    search_and_display(lyric_box.value)\n",
    "\n",
    "display(lyric_box)\n",
    "search_and_display(default_lyric)\n",
    "lyric_box.on_submit(change_matches)"
   ]
  },
  {
   "cell_type": "markdown",
   "id": "1ecc642a",
   "metadata": {},
   "source": [
    "You may notice that for certain search terms, our search tool gives different results than the online search tool. There are a few reasons why. First, the set of songs we are searching is not exactly the same. Our `lyrics` DataFrame includes all the songs from Taylor Swift's studio albums, and the online search tool includes a few additional songs, like songs from movie soundtracks. \n",
    "\n",
    "Moreover, our search results always include matches where the search term is part of a longer word or phrase, like how `'plan'` is part of `'planets'`. The online search tool handles this more carefully, with options to search for an exact phrase, to include plurals, or to do a wilcard search which is similar to how we've chosen to implement the search. We'll stop here with our lyric searcher, but if you're interested in extending your lyric searcher further, you can try implementing some of these features from the online tool after you submit the project. There are lots of details to consider, such as how to pluralize words (it's not always as simple as adding an `'s'`)!"
   ]
  },
  {
   "cell_type": "markdown",
   "id": "155fd823",
   "metadata": {},
   "source": [
    "<a id='section4'></a>\n",
    "## Section 4: Keywords 🔑\n",
    "\n",
    "> I didn't know you were keeping count, but, oh, you were keeping count.\n",
    "\n",
    "<small>(<a href=\"#outline\">return to the outline</a>)</small>"
   ]
  },
  {
   "cell_type": "markdown",
   "id": "bdbac203",
   "metadata": {},
   "source": [
    "In this section, we'll identify keywords that summarize each song in Taylor Swift's album `'Lover'` 💕.\n",
    "\n",
    "For example, you'll discover, after completing Section 4,  that the single word that best summarizes the song `'London Boy'` is `'fancy'`. Listen to the song below and see if you agree!"
   ]
  },
  {
   "cell_type": "code",
   "execution_count": 101,
   "id": "bc458d58",
   "metadata": {},
   "outputs": [
    {
     "data": {
      "text/html": [
       "\n",
       "        <iframe\n",
       "            width=\"400\"\n",
       "            height=\"75\"\n",
       "            src=\"https://open.spotify.com/embed/track/1LLXZFeAHK9R4xUramtUKw\"\n",
       "            frameborder=\"0\"\n",
       "            allowfullscreen\n",
       "        ></iframe>\n",
       "        "
      ],
      "text/plain": [
       "<IPython.lib.display.IFrame at 0x7fe5b51c3460>"
      ]
     },
     "metadata": {},
     "output_type": "display_data"
    }
   ],
   "source": [
    "play_spotify('1LLXZFeAHK9R4xUramtUKw')"
   ]
  },
  {
   "cell_type": "markdown",
   "id": "6a66711d",
   "metadata": {},
   "source": [
    "Pretty cool, right? You'll soon learn how to find the best keywords for each song yourself. The first step in calculating keywords is to identify every unique word used on the `'Lover'` album."
   ]
  },
  {
   "cell_type": "markdown",
   "id": "9595c014",
   "metadata": {},
   "source": [
    "**Question 4.1.** To start, create a DataFrame called `lover_df` with the same columns as `lyrics`, but with only the songs from the `'Lover'` album."
   ]
  },
  {
   "cell_type": "code",
   "execution_count": 102,
   "id": "e2b90e75",
   "metadata": {
    "scrolled": false
   },
   "outputs": [
    {
     "data": {
      "text/html": [
       "<div>\n",
       "<style scoped>\n",
       "    .dataframe tbody tr th:only-of-type {\n",
       "        vertical-align: middle;\n",
       "    }\n",
       "\n",
       "    .dataframe tbody tr th {\n",
       "        vertical-align: top;\n",
       "    }\n",
       "\n",
       "    .dataframe thead th {\n",
       "        text-align: right;\n",
       "    }\n",
       "</style>\n",
       "<table border=\"1\" class=\"dataframe\">\n",
       "  <thead>\n",
       "    <tr style=\"text-align: right;\">\n",
       "      <th></th>\n",
       "      <th>Album</th>\n",
       "      <th>Lyrics</th>\n",
       "    </tr>\n",
       "    <tr>\n",
       "      <th>Song</th>\n",
       "      <th></th>\n",
       "      <th></th>\n",
       "    </tr>\n",
       "  </thead>\n",
       "  <tbody>\n",
       "    <tr>\n",
       "      <th>Afterglow</th>\n",
       "      <td>Lover</td>\n",
       "      <td>I blew things out of proportion, now you're bl...</td>\n",
       "    </tr>\n",
       "    <tr>\n",
       "      <th>Cornelia Street</th>\n",
       "      <td>Lover</td>\n",
       "      <td>We were in the backseat\\nDrunk on something st...</td>\n",
       "    </tr>\n",
       "    <tr>\n",
       "      <th>Cruel Summer</th>\n",
       "      <td>Lover</td>\n",
       "      <td>(Yeah, yeah, yeah, yeah)\\n\\nFever dream high i...</td>\n",
       "    </tr>\n",
       "    <tr>\n",
       "      <th>Daylight</th>\n",
       "      <td>Lover</td>\n",
       "      <td>My love was as cruel as the cities I lived in\\...</td>\n",
       "    </tr>\n",
       "    <tr>\n",
       "      <th>Death By A Thousand Cuts</th>\n",
       "      <td>Lover</td>\n",
       "      <td>My, my, my, my\\nMy, my, my, my\\nMy, my, my, my...</td>\n",
       "    </tr>\n",
       "    <tr>\n",
       "      <th>...</th>\n",
       "      <td>...</td>\n",
       "      <td>...</td>\n",
       "    </tr>\n",
       "    <tr>\n",
       "      <th>Paper Rings</th>\n",
       "      <td>Lover</td>\n",
       "      <td>The moon is high\\nLike your friends were the n...</td>\n",
       "    </tr>\n",
       "    <tr>\n",
       "      <th>Soon You'll Get Better (Ft. The Chicks)</th>\n",
       "      <td>Lover</td>\n",
       "      <td>The buttons of my coat were tangled in my hair...</td>\n",
       "    </tr>\n",
       "    <tr>\n",
       "      <th>The Archer</th>\n",
       "      <td>Lover</td>\n",
       "      <td>Combat, I'm ready for combat\\nI say I don't wa...</td>\n",
       "    </tr>\n",
       "    <tr>\n",
       "      <th>The Man</th>\n",
       "      <td>Lover</td>\n",
       "      <td>I would be complex, I would be cool\\nThey'd sa...</td>\n",
       "    </tr>\n",
       "    <tr>\n",
       "      <th>You Need To Calm Down</th>\n",
       "      <td>Lover</td>\n",
       "      <td>You are somebody that I don't know\\nBut you're...</td>\n",
       "    </tr>\n",
       "  </tbody>\n",
       "</table>\n",
       "<p>18 rows × 2 columns</p>\n",
       "</div>"
      ],
      "text/plain": [
       "                                         Album  \\\n",
       "Song                                             \n",
       "Afterglow                                Lover   \n",
       "Cornelia Street                          Lover   \n",
       "Cruel Summer                             Lover   \n",
       "Daylight                                 Lover   \n",
       "Death By A Thousand Cuts                 Lover   \n",
       "...                                        ...   \n",
       "Paper Rings                              Lover   \n",
       "Soon You'll Get Better (Ft. The Chicks)  Lover   \n",
       "The Archer                               Lover   \n",
       "The Man                                  Lover   \n",
       "You Need To Calm Down                    Lover   \n",
       "\n",
       "                                                                                    Lyrics  \n",
       "Song                                                                                        \n",
       "Afterglow                                I blew things out of proportion, now you're bl...  \n",
       "Cornelia Street                          We were in the backseat\\nDrunk on something st...  \n",
       "Cruel Summer                             (Yeah, yeah, yeah, yeah)\\n\\nFever dream high i...  \n",
       "Daylight                                 My love was as cruel as the cities I lived in\\...  \n",
       "Death By A Thousand Cuts                 My, my, my, my\\nMy, my, my, my\\nMy, my, my, my...  \n",
       "...                                                                                    ...  \n",
       "Paper Rings                              The moon is high\\nLike your friends were the n...  \n",
       "Soon You'll Get Better (Ft. The Chicks)  The buttons of my coat were tangled in my hair...  \n",
       "The Archer                               Combat, I'm ready for combat\\nI say I don't wa...  \n",
       "The Man                                  I would be complex, I would be cool\\nThey'd sa...  \n",
       "You Need To Calm Down                    You are somebody that I don't know\\nBut you're...  \n",
       "\n",
       "[18 rows x 2 columns]"
      ]
     },
     "execution_count": 102,
     "metadata": {},
     "output_type": "execute_result"
    }
   ],
   "source": [
    "lover_df = lyrics[lyrics.get('Album') == 'Lover']\n",
    "lover_df"
   ]
  },
  {
   "cell_type": "code",
   "execution_count": 103,
   "id": "5de5f717",
   "metadata": {
    "deletable": false,
    "editable": false
   },
   "outputs": [
    {
     "data": {
      "text/html": [
       "<p><strong><pre style='display: inline;'>q4_1</pre></strong> passed!</p>"
      ],
      "text/plain": [
       "q4_1 results: All test cases passed!"
      ]
     },
     "execution_count": 103,
     "metadata": {},
     "output_type": "execute_result"
    }
   ],
   "source": [
    "grader.check(\"q4_1\")"
   ]
  },
  {
   "cell_type": "markdown",
   "id": "9883667b",
   "metadata": {},
   "source": [
    "**Question 4.2.** Now, we want to determine the words used in all the lyrics in `lover_df`. Store all such unique words in an array called `unique_words_raw`. Deal with capitalization and punctuation as follows:\n",
    "- Words with the same letters that are capitalized differently are considered the same. For example, `'talk'`, `'Talk'`, and `'talK'` should all be counted as the same word. All words in `unique_words_raw` should be in lowercase, so all of these words should be counted as `'talk'`.\n",
    "- Words that use the same letters but have different punctuation are considered different. For example, `'\"for'` and `'for'` will both be words in `unique_words_raw`, as they're not considered the same word. \n",
    "\n",
    "***Hints:***\n",
    "- Words may be separated by spaces or by newline characters, `\\n`. The string method `.split()` when called with no arguments will separate on both of these; this is what you want!\n",
    "- You can use the `.sum()` method on a Series of lists to concatenate the lists into a single, larger list. "
   ]
  },
  {
   "cell_type": "code",
   "execution_count": 104,
   "id": "7c28ef2b",
   "metadata": {
    "scrolled": true
   },
   "outputs": [
    {
     "data": {
      "text/plain": [
       "array(['\"awesome\"', '\"babe\"', '\"for', ..., 'you?', 'your', 'yours'],\n",
       "      dtype='<U17')"
      ]
     },
     "execution_count": 104,
     "metadata": {},
     "output_type": "execute_result"
    }
   ],
   "source": [
    "unique_words_raw =(\n",
    "    np.unique(np.array(lover_df.get('Lyrics')\n",
    "                       .str.lower()\n",
    "                       .str.split()\n",
    "                       .sum()\n",
    "                      )\n",
    "             )\n",
    ")\n",
    "unique_words_raw"
   ]
  },
  {
   "cell_type": "code",
   "execution_count": 105,
   "id": "cf1070b0",
   "metadata": {
    "deletable": false,
    "editable": false
   },
   "outputs": [
    {
     "data": {
      "text/html": [
       "<p><strong><pre style='display: inline;'>q4_2</pre></strong> passed!</p>"
      ],
      "text/plain": [
       "q4_2 results: All test cases passed!"
      ]
     },
     "execution_count": 105,
     "metadata": {},
     "output_type": "execute_result"
    }
   ],
   "source": [
    "grader.check(\"q4_2\")"
   ]
  },
  {
   "cell_type": "markdown",
   "id": "e194f9fc",
   "metadata": {},
   "source": [
    "As mentioned above, some of the words in `unique_words_raw` contain punctuation.  For example, both `'\"for'` and `'for'` are in `unique_words_raw`, although they correspond to the same English word."
   ]
  },
  {
   "cell_type": "code",
   "execution_count": 106,
   "id": "805dbb89",
   "metadata": {},
   "outputs": [
    {
     "data": {
      "text/plain": [
       "True"
      ]
     },
     "execution_count": 106,
     "metadata": {},
     "output_type": "execute_result"
    }
   ],
   "source": [
    "'for' in unique_words_raw and '\"for' in unique_words_raw"
   ]
  },
  {
   "cell_type": "markdown",
   "id": "194e6199",
   "metadata": {},
   "source": [
    "Let's reconcile this by removing punctuation from the words in `unique_words_raw` and then keeping only the unique words that remain."
   ]
  },
  {
   "cell_type": "markdown",
   "id": "7b346196",
   "metadata": {},
   "source": [
    "**Question 4.3.** Complete the implementation of the function `drop_punctuation`, which takes in a string `word` and performs the actions below to address the aforementioned issues (there may be other issues with the data, but don't worry about them).\n",
    "\n",
    "1. Remove quotations (`'` and `\"`) at the beginning and end of strings. \n",
    "1. Replace all double quotes (`\"`) with single quotes (`'`).\n",
    "1. Remove the following punctuation symbols: `(`, `)`, `?`, `.`, `,`, `;`, `-`, `_`, `\\`.\n",
    "\n",
    "The function should return a version of the input word with these changes.\n",
    "\n",
    "***Hint:*** When removing `\\`, use `\\\\` instead of `\\`. You need to \"escape\" the backslash. "
   ]
  },
  {
   "cell_type": "code",
   "execution_count": 107,
   "id": "1eb1a5ba",
   "metadata": {},
   "outputs": [
    {
     "data": {
      "text/plain": [
       "\"nel'lo\""
      ]
     },
     "execution_count": 107,
     "metadata": {},
     "output_type": "execute_result"
    }
   ],
   "source": [
    "def drop_punctuation(word):\n",
    "    return (word\n",
    "            .strip('\"')\n",
    "            .strip(\"'\")\n",
    "            .replace('\"', \"'\")\n",
    "            .replace('(', '')\n",
    "            .replace(')', '')\n",
    "            .replace('?', '')\n",
    "            .replace('.', '')\n",
    "            .replace(',', '')\n",
    "            .replace(';', '')\n",
    "            .replace('-', '')\n",
    "            .replace('_', '')\n",
    "            .replace('\\\\', '')\n",
    "           )\n",
    "drop_punctuation('nel\"lo')"
   ]
  },
  {
   "cell_type": "code",
   "execution_count": 108,
   "id": "6de3e44c",
   "metadata": {
    "deletable": false,
    "editable": false
   },
   "outputs": [
    {
     "data": {
      "text/html": [
       "<p><strong><pre style='display: inline;'>q4_3</pre></strong> passed!</p>"
      ],
      "text/plain": [
       "q4_3 results: All test cases passed!"
      ]
     },
     "execution_count": 108,
     "metadata": {},
     "output_type": "execute_result"
    }
   ],
   "source": [
    "grader.check(\"q4_3\")"
   ]
  },
  {
   "cell_type": "markdown",
   "id": "80b018e0",
   "metadata": {},
   "source": [
    "**Question 4.4.** Use the `drop_punctuation` function to create an array of all the unique words used in the `'Lover'` album, without punctuation. Store that array in `unique_words`. Notice that after removing punctuation, there may be duplicate words (for example, `'for'` and `'\"for'` become the same word after punctuation is dropped), but make sure there are no duplicates in `unique_words`."
   ]
  },
  {
   "cell_type": "code",
   "execution_count": 109,
   "id": "f0e91b2c",
   "metadata": {},
   "outputs": [
    {
     "data": {
      "text/plain": [
       "array(['16th', '17', '7', ..., \"you've\", 'your', 'yours'], dtype='<U32')"
      ]
     },
     "execution_count": 109,
     "metadata": {},
     "output_type": "execute_result"
    }
   ],
   "source": [
    "unique_words = np.array([])\n",
    "for word in unique_words_raw:\n",
    "    unique_words = np.append(unique_words, drop_punctuation(word))\n",
    "unique_words = np.unique(unique_words)\n",
    "unique_words"
   ]
  },
  {
   "cell_type": "code",
   "execution_count": 110,
   "id": "3471640b",
   "metadata": {
    "deletable": false,
    "editable": false
   },
   "outputs": [
    {
     "data": {
      "text/html": [
       "<p><strong><pre style='display: inline;'>q4_4</pre></strong> passed!</p>"
      ],
      "text/plain": [
       "q4_4 results: All test cases passed!"
      ]
     },
     "execution_count": 110,
     "metadata": {},
     "output_type": "execute_result"
    }
   ],
   "source": [
    "grader.check(\"q4_4\")"
   ]
  },
  {
   "cell_type": "markdown",
   "id": "edc068f9",
   "metadata": {},
   "source": [
    "Now that we've determined which words appear in the `'Lover'` album, we'll attempt to describe how important each word is to each song. To do this, we'll use a method from natural language processing called the **term frequency-inverse document frequency (TF-IDF)**. \n",
    "\n",
    "The purpose of TF-IDF is to measure how important a term is in a document relative to a collection of documents. In our case, terms are words, documents are songs, and the collection of documents we're interested in is the collection of songs on the album `'Lover'`.\n",
    "\n",
    "Given a word,  $\\textbf{term}$,  in a document,  $\\textbf{doc}$, the TF-IDF of the word in the document is the product:\n",
    "\n",
    "$$\n",
    "\\begin{align*}\\text{TF-IDF}(\\textbf{term}, \\textbf{doc}) &= \\text{TF}(\\textbf{term}, \\textbf{doc}) \\cdot \\text{IDF}(\\textbf{term}) \\\\\\ &= \\frac{\\text{number of occurrences of $\\textbf{term}$ in $\\textbf{doc}$}}{\\text{total number of words in $\\textbf{doc}$}} \\cdot \\ln \\left(\\frac{\\text{total number of documents}}{\\text{number of documents in which $\\textbf{term}$ appears}} \\right) \\end{align*} $$\n",
    "\n",
    "Let's look at the term frequency (TF) first. This is just the proportion of words in document $\\textbf{doc}$ that are equal to $\\textbf{term}$.\n",
    "\n",
    "- **Example:** What is the term frequency (TF) of \"Taylor\" in the following document?\n",
    "\n",
    "    - \"My friend named her baby <b>Taylor</b> because she is a huge <b>Taylor</b> Swift fan.\"\n",
    "\n",
    "- **Answer:** $\\frac{2}{14}$, because two of the fourteen words in the document are \"Taylor\".\n",
    "\n",
    "Remember that usually, a document will consist of an entire song, not just of a single line (like above).\n",
    "\n",
    "Now, let's look at the inverse document frequency (IDF). This is the natural logarithm of the reciprocal of the proportion of documents in the collection containing $\\textbf{term}$. One way to think of the IDF is as a \"rarity factor\" – words that appear frequently in the full collection of documents are not very rare, and hence have low IDF, while words that rarely appear in the full collection of documents have high IDF.\n",
    "\n",
    "- **Example:** What is the inverse document frequency (IDF) of \"Taylor\" in the following four documents?\n",
    "\n",
    "    - \"My friend named her baby <b>Taylor</b> because she is a huge <b>Taylor</b> Swift fan.\"\n",
    "    - \"I wanted to see <b>Taylor</b> Swift on the Eras Tour, but the tickets were way too expensive, so I saw the movie instead.\"\n",
    "    - \"I can't even afford a movie ticket.\"\n",
    "    - \"Tailor and <b>Taylor</b> are homophones.\"\n",
    "    \n",
    "- **Answer:** $\\ln \\left(\\frac{4}{3}\\right) \\approx 0.288$ because three of the four documents include the word \"Taylor\".\n",
    "\n",
    "Putting these together, we can now compute the TF-IDF.\n",
    "\n",
    "- **Example:** What is the term frequency-inverse document frequency (TF-IDF) of \"Taylor\" in the first document in this collection of four documents?\n",
    "\n",
    "- **Answer:** $\\frac{2}{14} \\cdot \\ln \\left(\\frac{4}{3}\\right) \\approx 0.041$, by multiplying the term frequency with the inverse document frequency.\n",
    "\n",
    "The idea behind TF-IDF is that for a word to be a good summary of a document, it should appear frequently in that document, but not too frequently in the full collection of documents. This means words like \"I\" or \"and\" won't have high TF-IDF, because while they may appear frequently in a document (high TF), they appear too often in general to be considered good summary words (low IDF).\n",
    "\n",
    "In our case, the words that best summarize a song will be the words within that song with the highest TF-IDFs."
   ]
  },
  {
   "cell_type": "markdown",
   "id": "0007f851",
   "metadata": {},
   "source": [
    "Run the cell below to load in a DataFrame named `counts_df` that has a row for each word in the `'Lover'` album and a column for each song on the album.  Each entry counts the number of instances of a word in a song. "
   ]
  },
  {
   "cell_type": "code",
   "execution_count": 111,
   "id": "3bf51d82",
   "metadata": {},
   "outputs": [
    {
     "data": {
      "text/html": [
       "<div>\n",
       "<style scoped>\n",
       "    .dataframe tbody tr th:only-of-type {\n",
       "        vertical-align: middle;\n",
       "    }\n",
       "\n",
       "    .dataframe tbody tr th {\n",
       "        vertical-align: top;\n",
       "    }\n",
       "\n",
       "    .dataframe thead th {\n",
       "        text-align: right;\n",
       "    }\n",
       "</style>\n",
       "<table border=\"1\" class=\"dataframe\">\n",
       "  <thead>\n",
       "    <tr style=\"text-align: right;\">\n",
       "      <th></th>\n",
       "      <th>Afterglow</th>\n",
       "      <th>Cornelia Street</th>\n",
       "      <th>Cruel Summer</th>\n",
       "      <th>Daylight</th>\n",
       "      <th>Death By A Thousand Cuts</th>\n",
       "      <th>False God</th>\n",
       "      <th>I Forgot That You Existed</th>\n",
       "      <th>I Think He Knows</th>\n",
       "      <th>It's Nice To Have A Friend</th>\n",
       "      <th>London Boy</th>\n",
       "      <th>Lover</th>\n",
       "      <th>ME! (Ft. Brendon Urie of Panic! At The Disco)</th>\n",
       "      <th>Miss Americana &amp; The Heartbreak Prince</th>\n",
       "      <th>Paper Rings</th>\n",
       "      <th>Soon You'll Get Better (Ft. The Chicks)</th>\n",
       "      <th>The Archer</th>\n",
       "      <th>The Man</th>\n",
       "      <th>You Need To Calm Down</th>\n",
       "    </tr>\n",
       "    <tr>\n",
       "      <th>word</th>\n",
       "      <th></th>\n",
       "      <th></th>\n",
       "      <th></th>\n",
       "      <th></th>\n",
       "      <th></th>\n",
       "      <th></th>\n",
       "      <th></th>\n",
       "      <th></th>\n",
       "      <th></th>\n",
       "      <th></th>\n",
       "      <th></th>\n",
       "      <th></th>\n",
       "      <th></th>\n",
       "      <th></th>\n",
       "      <th></th>\n",
       "      <th></th>\n",
       "      <th></th>\n",
       "      <th></th>\n",
       "    </tr>\n",
       "  </thead>\n",
       "  <tbody>\n",
       "    <tr>\n",
       "      <th>16th</th>\n",
       "      <td>0</td>\n",
       "      <td>0</td>\n",
       "      <td>0</td>\n",
       "      <td>0</td>\n",
       "      <td>0</td>\n",
       "      <td>0</td>\n",
       "      <td>0</td>\n",
       "      <td>4</td>\n",
       "      <td>0</td>\n",
       "      <td>0</td>\n",
       "      <td>0</td>\n",
       "      <td>0</td>\n",
       "      <td>0</td>\n",
       "      <td>0</td>\n",
       "      <td>0</td>\n",
       "      <td>0</td>\n",
       "      <td>0</td>\n",
       "      <td>0</td>\n",
       "    </tr>\n",
       "    <tr>\n",
       "      <th>17</th>\n",
       "      <td>0</td>\n",
       "      <td>0</td>\n",
       "      <td>0</td>\n",
       "      <td>0</td>\n",
       "      <td>0</td>\n",
       "      <td>0</td>\n",
       "      <td>0</td>\n",
       "      <td>1</td>\n",
       "      <td>0</td>\n",
       "      <td>0</td>\n",
       "      <td>0</td>\n",
       "      <td>0</td>\n",
       "      <td>0</td>\n",
       "      <td>0</td>\n",
       "      <td>0</td>\n",
       "      <td>0</td>\n",
       "      <td>0</td>\n",
       "      <td>0</td>\n",
       "    </tr>\n",
       "    <tr>\n",
       "      <th>7</th>\n",
       "      <td>0</td>\n",
       "      <td>0</td>\n",
       "      <td>0</td>\n",
       "      <td>0</td>\n",
       "      <td>0</td>\n",
       "      <td>0</td>\n",
       "      <td>0</td>\n",
       "      <td>0</td>\n",
       "      <td>0</td>\n",
       "      <td>0</td>\n",
       "      <td>0</td>\n",
       "      <td>0</td>\n",
       "      <td>0</td>\n",
       "      <td>0</td>\n",
       "      <td>0</td>\n",
       "      <td>0</td>\n",
       "      <td>0</td>\n",
       "      <td>1</td>\n",
       "    </tr>\n",
       "    <tr>\n",
       "      <th>a</th>\n",
       "      <td>1</td>\n",
       "      <td>3</td>\n",
       "      <td>11</td>\n",
       "      <td>3</td>\n",
       "      <td>14</td>\n",
       "      <td>7</td>\n",
       "      <td>2</td>\n",
       "      <td>3</td>\n",
       "      <td>8</td>\n",
       "      <td>14</td>\n",
       "      <td>4</td>\n",
       "      <td>11</td>\n",
       "      <td>9</td>\n",
       "      <td>3</td>\n",
       "      <td>2</td>\n",
       "      <td>2</td>\n",
       "      <td>15</td>\n",
       "      <td>5</td>\n",
       "    </tr>\n",
       "    <tr>\n",
       "      <th>about</th>\n",
       "      <td>0</td>\n",
       "      <td>0</td>\n",
       "      <td>0</td>\n",
       "      <td>0</td>\n",
       "      <td>0</td>\n",
       "      <td>2</td>\n",
       "      <td>0</td>\n",
       "      <td>0</td>\n",
       "      <td>0</td>\n",
       "      <td>0</td>\n",
       "      <td>1</td>\n",
       "      <td>1</td>\n",
       "      <td>0</td>\n",
       "      <td>0</td>\n",
       "      <td>1</td>\n",
       "      <td>0</td>\n",
       "      <td>1</td>\n",
       "      <td>1</td>\n",
       "    </tr>\n",
       "    <tr>\n",
       "      <th>...</th>\n",
       "      <td>...</td>\n",
       "      <td>...</td>\n",
       "      <td>...</td>\n",
       "      <td>...</td>\n",
       "      <td>...</td>\n",
       "      <td>...</td>\n",
       "      <td>...</td>\n",
       "      <td>...</td>\n",
       "      <td>...</td>\n",
       "      <td>...</td>\n",
       "      <td>...</td>\n",
       "      <td>...</td>\n",
       "      <td>...</td>\n",
       "      <td>...</td>\n",
       "      <td>...</td>\n",
       "      <td>...</td>\n",
       "      <td>...</td>\n",
       "      <td>...</td>\n",
       "    </tr>\n",
       "    <tr>\n",
       "      <th>you'll</th>\n",
       "      <td>0</td>\n",
       "      <td>0</td>\n",
       "      <td>1</td>\n",
       "      <td>0</td>\n",
       "      <td>0</td>\n",
       "      <td>0</td>\n",
       "      <td>0</td>\n",
       "      <td>0</td>\n",
       "      <td>0</td>\n",
       "      <td>0</td>\n",
       "      <td>1</td>\n",
       "      <td>5</td>\n",
       "      <td>0</td>\n",
       "      <td>0</td>\n",
       "      <td>12</td>\n",
       "      <td>0</td>\n",
       "      <td>0</td>\n",
       "      <td>0</td>\n",
       "    </tr>\n",
       "    <tr>\n",
       "      <th>you're</th>\n",
       "      <td>2</td>\n",
       "      <td>0</td>\n",
       "      <td>4</td>\n",
       "      <td>0</td>\n",
       "      <td>3</td>\n",
       "      <td>4</td>\n",
       "      <td>0</td>\n",
       "      <td>0</td>\n",
       "      <td>0</td>\n",
       "      <td>0</td>\n",
       "      <td>5</td>\n",
       "      <td>5</td>\n",
       "      <td>0</td>\n",
       "      <td>14</td>\n",
       "      <td>0</td>\n",
       "      <td>0</td>\n",
       "      <td>2</td>\n",
       "      <td>6</td>\n",
       "    </tr>\n",
       "    <tr>\n",
       "      <th>you've</th>\n",
       "      <td>0</td>\n",
       "      <td>0</td>\n",
       "      <td>0</td>\n",
       "      <td>0</td>\n",
       "      <td>0</td>\n",
       "      <td>0</td>\n",
       "      <td>0</td>\n",
       "      <td>0</td>\n",
       "      <td>1</td>\n",
       "      <td>0</td>\n",
       "      <td>0</td>\n",
       "      <td>0</td>\n",
       "      <td>0</td>\n",
       "      <td>0</td>\n",
       "      <td>0</td>\n",
       "      <td>0</td>\n",
       "      <td>0</td>\n",
       "      <td>0</td>\n",
       "    </tr>\n",
       "    <tr>\n",
       "      <th>your</th>\n",
       "      <td>5</td>\n",
       "      <td>6</td>\n",
       "      <td>4</td>\n",
       "      <td>1</td>\n",
       "      <td>1</td>\n",
       "      <td>3</td>\n",
       "      <td>2</td>\n",
       "      <td>0</td>\n",
       "      <td>0</td>\n",
       "      <td>2</td>\n",
       "      <td>1</td>\n",
       "      <td>1</td>\n",
       "      <td>0</td>\n",
       "      <td>10</td>\n",
       "      <td>0</td>\n",
       "      <td>1</td>\n",
       "      <td>0</td>\n",
       "      <td>2</td>\n",
       "    </tr>\n",
       "    <tr>\n",
       "      <th>yours</th>\n",
       "      <td>0</td>\n",
       "      <td>1</td>\n",
       "      <td>0</td>\n",
       "      <td>0</td>\n",
       "      <td>0</td>\n",
       "      <td>0</td>\n",
       "      <td>0</td>\n",
       "      <td>0</td>\n",
       "      <td>0</td>\n",
       "      <td>0</td>\n",
       "      <td>1</td>\n",
       "      <td>0</td>\n",
       "      <td>0</td>\n",
       "      <td>0</td>\n",
       "      <td>0</td>\n",
       "      <td>0</td>\n",
       "      <td>0</td>\n",
       "      <td>0</td>\n",
       "    </tr>\n",
       "  </tbody>\n",
       "</table>\n",
       "<p>1026 rows × 18 columns</p>\n",
       "</div>"
      ],
      "text/plain": [
       "        Afterglow  Cornelia Street  Cruel Summer  Daylight  \\\n",
       "word                                                         \n",
       "16th            0                0             0         0   \n",
       "17              0                0             0         0   \n",
       "7               0                0             0         0   \n",
       "a               1                3            11         3   \n",
       "about           0                0             0         0   \n",
       "...           ...              ...           ...       ...   \n",
       "you'll          0                0             1         0   \n",
       "you're          2                0             4         0   \n",
       "you've          0                0             0         0   \n",
       "your            5                6             4         1   \n",
       "yours           0                1             0         0   \n",
       "\n",
       "        Death By A Thousand Cuts  False God  I Forgot That You Existed  \\\n",
       "word                                                                     \n",
       "16th                           0          0                          0   \n",
       "17                             0          0                          0   \n",
       "7                              0          0                          0   \n",
       "a                             14          7                          2   \n",
       "about                          0          2                          0   \n",
       "...                          ...        ...                        ...   \n",
       "you'll                         0          0                          0   \n",
       "you're                         3          4                          0   \n",
       "you've                         0          0                          0   \n",
       "your                           1          3                          2   \n",
       "yours                          0          0                          0   \n",
       "\n",
       "        I Think He Knows  It's Nice To Have A Friend  London Boy  Lover  \\\n",
       "word                                                                      \n",
       "16th                   4                           0           0      0   \n",
       "17                     1                           0           0      0   \n",
       "7                      0                           0           0      0   \n",
       "a                      3                           8          14      4   \n",
       "about                  0                           0           0      1   \n",
       "...                  ...                         ...         ...    ...   \n",
       "you'll                 0                           0           0      1   \n",
       "you're                 0                           0           0      5   \n",
       "you've                 0                           1           0      0   \n",
       "your                   0                           0           2      1   \n",
       "yours                  0                           0           0      1   \n",
       "\n",
       "        ME! (Ft. Brendon Urie of Panic! At The Disco)  \\\n",
       "word                                                    \n",
       "16th                                                0   \n",
       "17                                                  0   \n",
       "7                                                   0   \n",
       "a                                                  11   \n",
       "about                                               1   \n",
       "...                                               ...   \n",
       "you'll                                              5   \n",
       "you're                                              5   \n",
       "you've                                              0   \n",
       "your                                                1   \n",
       "yours                                               0   \n",
       "\n",
       "        Miss Americana & The Heartbreak Prince  Paper Rings  \\\n",
       "word                                                          \n",
       "16th                                         0            0   \n",
       "17                                           0            0   \n",
       "7                                            0            0   \n",
       "a                                            9            3   \n",
       "about                                        0            0   \n",
       "...                                        ...          ...   \n",
       "you'll                                       0            0   \n",
       "you're                                       0           14   \n",
       "you've                                       0            0   \n",
       "your                                         0           10   \n",
       "yours                                        0            0   \n",
       "\n",
       "        Soon You'll Get Better (Ft. The Chicks)  The Archer  The Man  \\\n",
       "word                                                                   \n",
       "16th                                          0           0        0   \n",
       "17                                            0           0        0   \n",
       "7                                             0           0        0   \n",
       "a                                             2           2       15   \n",
       "about                                         1           0        1   \n",
       "...                                         ...         ...      ...   \n",
       "you'll                                       12           0        0   \n",
       "you're                                        0           0        2   \n",
       "you've                                        0           0        0   \n",
       "your                                          0           1        0   \n",
       "yours                                         0           0        0   \n",
       "\n",
       "        You Need To Calm Down  \n",
       "word                           \n",
       "16th                        0  \n",
       "17                          0  \n",
       "7                           1  \n",
       "a                           5  \n",
       "about                       1  \n",
       "...                       ...  \n",
       "you'll                      0  \n",
       "you're                      6  \n",
       "you've                      0  \n",
       "your                        2  \n",
       "yours                       0  \n",
       "\n",
       "[1026 rows x 18 columns]"
      ]
     },
     "execution_count": 111,
     "metadata": {},
     "output_type": "execute_result"
    }
   ],
   "source": [
    "counts_df = bpd.read_csv('data/word_counts.csv').set_index('word')\n",
    "counts_df"
   ]
  },
  {
   "cell_type": "markdown",
   "id": "6e70605f",
   "metadata": {},
   "source": [
    "For instance, the preview above tells us that the word `\"you're\"` appears 4 times in `'Cruel Summer'`.\n",
    "\n",
    "The `counts_df` DataFrame will be useful in the next several questions."
   ]
  },
  {
   "cell_type": "markdown",
   "id": "9a49ecf8",
   "metadata": {},
   "source": [
    "**Question 4.5.** ⭐⭐ Now, it's time for some calculations 🧮. Let's begin by computing the TF-IDF for the word `'about'` in the song `'You Need To Calm Down'`. To start, make sure you understand the \"Taylor\" TF-IDF example given above, and consider how you will use the data available in `counts_df`.\n",
    "\n",
    "We've provided four variables for you to fill in: `tf_numerator_about`, `tf_denominator_about`, `idf_numerator_about`, and `idf_denominator_about`. We then compute the TF-IDF from those four variables and store the result in `tfidf_about`."
   ]
  },
  {
   "cell_type": "code",
   "execution_count": 112,
   "id": "d6e6ba82",
   "metadata": {},
   "outputs": [
    {
     "data": {
      "text/plain": [
       "360"
      ]
     },
     "execution_count": 112,
     "metadata": {},
     "output_type": "execute_result"
    }
   ],
   "source": [
    "counts_df.get('You Need To Calm Down').sum()"
   ]
  },
  {
   "cell_type": "code",
   "execution_count": 113,
   "id": "b2da152e",
   "metadata": {},
   "outputs": [
    {
     "data": {
      "text/plain": [
       "0.0030517008018558604"
      ]
     },
     "execution_count": 113,
     "metadata": {},
     "output_type": "execute_result"
    }
   ],
   "source": [
    "tf_numerator_about = counts_df.get('You Need To Calm Down').loc['about']\n",
    "tf_denominator_about = counts_df.get('You Need To Calm Down').sum()\n",
    "idf_numerator_about = counts_df.shape[1]\n",
    "idf_denominator_about = np.count_nonzero(counts_df.loc['about'] != 0)\n",
    "tfidf_about = (tf_numerator_about / tf_denominator_about) * np.log(idf_numerator_about / idf_denominator_about) \n",
    "tfidf_about"
   ]
  },
  {
   "cell_type": "code",
   "execution_count": 114,
   "id": "971b6854",
   "metadata": {
    "deletable": false,
    "editable": false
   },
   "outputs": [
    {
     "data": {
      "text/html": [
       "<p><strong><pre style='display: inline;'>q4_5</pre></strong> passed!</p>"
      ],
      "text/plain": [
       "q4_5 results: All test cases passed!"
      ]
     },
     "execution_count": 114,
     "metadata": {},
     "output_type": "execute_result"
    }
   ],
   "source": [
    "grader.check(\"q4_5\")"
   ]
  },
  {
   "cell_type": "markdown",
   "id": "a6cddb29",
   "metadata": {},
   "source": [
    "Imagine you wanted to calculate the TF-IDF for the word `'about'` in the song `'False God'`. You could do that by taking the code you just wrote and changing every instance of `'You Need To Calm Down'` to `'False God'`. Notice that you may get a different value for the term frequency (TF) because the word `'about'` may be more prevalent in one song than another. However, you'd get the same exact value for the inverse document frequency (IDF) because IDF is calculated based only the term (word) not the document (song), as we can see in the formula introduced earlier:\n",
    "\n",
    "$$\n",
    "\\begin{align*}\\text{TF-IDF}(\\textbf{term}, \\textbf{doc}) &= \\text{TF}(\\textbf{term}, \\textbf{doc}) \\cdot \\text{IDF}(\\textbf{term}) \\\\\\ &= \\frac{\\text{number of occurrences of $\\textbf{term}$ in $\\textbf{doc}$}}{\\text{total number of words in $\\textbf{doc}$}} \\cdot \\ln \\left(\\frac{\\text{total number of documents}}{\\text{number of documents in which $\\textbf{term}$ appears}} \\right) \\end{align*} $$\n",
    "\n",
    "This means that if we wanted to calculate the TF-IDF for the word `'about'` in *every* song on the `'Lover'` album, we could save some time and energy by just computing the IDF for `'about'` one time, in advance. Then for each song, we'd just need to calculate the TF of `'about'` in that song and multiply with the IDF for `'about'` that we'd already pre-computed.\n",
    "\n",
    "In the next question, we'll pre-compute the IDF values for all words and store them in an array so that we can more easily compute TF-IDF values later.\n",
    "\n",
    "**Question 4.6.** Fill in the blanks in the code below to calculate IDF values for each word on the `'Lover'` album. The strategy is as follows:\n",
    "\n",
    "1. Begin by storing all the words used on the album in an array called `word_array`. You should get these words from `counts_df`.\n",
    "1. Loop through this array, one word at a time, calculating the IDF, and storing the result in `idf_array`, which has been initialized to an empty array.\n",
    "\n",
    "At the end, `idf_array` should have the IDF values for every word on the album, in the same order that they appear in `counts_df`. That is, the first element of `idf_array` should be the IDF of `'16th'`."
   ]
  },
  {
   "cell_type": "code",
   "execution_count": 115,
   "id": "27b8541a",
   "metadata": {},
   "outputs": [
    {
     "data": {
      "text/plain": [
       "array([2.89037176, 2.89037176, 2.89037176, ..., 2.89037176, 0.3254224 ,\n",
       "       2.19722458])"
      ]
     },
     "execution_count": 115,
     "metadata": {},
     "output_type": "execute_result"
    }
   ],
   "source": [
    "idf_array = np.array([])\n",
    "word_array = counts_df.index\n",
    "# Loop through each word and compute the IDF of that word.\n",
    "for word in word_array:\n",
    "    idf_numerator = counts_df.shape[1]\n",
    "    idf_denominator = np.count_nonzero(counts_df.loc[word] != 0)\n",
    "    idf_array = np.append(idf_array, np.log(idf_numerator / idf_denominator) )\n",
    "# Display the resulting array of IDF values.\n",
    "idf_array"
   ]
  },
  {
   "cell_type": "code",
   "execution_count": 116,
   "id": "2d9fa963",
   "metadata": {
    "deletable": false,
    "editable": false
   },
   "outputs": [
    {
     "data": {
      "text/html": [
       "<p><strong><pre style='display: inline;'>q4_6</pre></strong> passed!</p>"
      ],
      "text/plain": [
       "q4_6 results: All test cases passed!"
      ]
     },
     "execution_count": 116,
     "metadata": {},
     "output_type": "execute_result"
    }
   ],
   "source": [
    "grader.check(\"q4_6\")"
   ]
  },
  {
   "cell_type": "markdown",
   "id": "6bb637de",
   "metadata": {},
   "source": [
    "**Question 4.7.** ⭐⭐ Now, we are ready to calculate the TF-IDF for each word in each song. We've already calculated the IDF values and stored them in `idf_array`, so we'll want to make use of them here! \n",
    "\n",
    "We'll approach this problem one song at a time. For each song, we'll calculate the TF-IDF values for that song, for every word that appears on the album. We can calculate all the TF-IDF values for a given song at the same time using Series arithmetic, which works element-wise. Once we obtain a Series of all the TF-IDF values for a song, we can add that Series as a column to a DataFrame, gradually building up the DataFrame one column (one song) at a time. \n",
    "\n",
    "We've provided an outline of the strategy and some code to handle the assignment of new columns, which includes details that you don't need to worry about. Your job is to fill in the blanks below. \n",
    "\n",
    "Once you've filled in the blanks, run the code cell to create a DataFrame called `every_tfidf` where the columns are the songs on the album `'Lover'`, the rows are the words that appear in the lyrics of the album, and the entries are the TF-IDF values for each song and each word. "
   ]
  },
  {
   "cell_type": "code",
   "execution_count": 117,
   "id": "5950c349",
   "metadata": {
    "scrolled": false
   },
   "outputs": [
    {
     "data": {
      "text/html": [
       "<div>\n",
       "<style scoped>\n",
       "    .dataframe tbody tr th:only-of-type {\n",
       "        vertical-align: middle;\n",
       "    }\n",
       "\n",
       "    .dataframe tbody tr th {\n",
       "        vertical-align: top;\n",
       "    }\n",
       "\n",
       "    .dataframe thead th {\n",
       "        text-align: right;\n",
       "    }\n",
       "</style>\n",
       "<table border=\"1\" class=\"dataframe\">\n",
       "  <thead>\n",
       "    <tr style=\"text-align: right;\">\n",
       "      <th></th>\n",
       "      <th>Afterglow</th>\n",
       "      <th>Cornelia Street</th>\n",
       "      <th>Cruel Summer</th>\n",
       "      <th>Daylight</th>\n",
       "      <th>Death By A Thousand Cuts</th>\n",
       "      <th>False God</th>\n",
       "      <th>I Forgot That You Existed</th>\n",
       "      <th>I Think He Knows</th>\n",
       "      <th>It's Nice To Have A Friend</th>\n",
       "      <th>London Boy</th>\n",
       "      <th>Lover</th>\n",
       "      <th>ME! (Ft. Brendon Urie of Panic! At The Disco)</th>\n",
       "      <th>Miss Americana &amp; The Heartbreak Prince</th>\n",
       "      <th>Paper Rings</th>\n",
       "      <th>Soon You'll Get Better (Ft. The Chicks)</th>\n",
       "      <th>The Archer</th>\n",
       "      <th>The Man</th>\n",
       "      <th>You Need To Calm Down</th>\n",
       "    </tr>\n",
       "    <tr>\n",
       "      <th>word</th>\n",
       "      <th></th>\n",
       "      <th></th>\n",
       "      <th></th>\n",
       "      <th></th>\n",
       "      <th></th>\n",
       "      <th></th>\n",
       "      <th></th>\n",
       "      <th></th>\n",
       "      <th></th>\n",
       "      <th></th>\n",
       "      <th></th>\n",
       "      <th></th>\n",
       "      <th></th>\n",
       "      <th></th>\n",
       "      <th></th>\n",
       "      <th></th>\n",
       "      <th></th>\n",
       "      <th></th>\n",
       "    </tr>\n",
       "  </thead>\n",
       "  <tbody>\n",
       "    <tr>\n",
       "      <th>16th</th>\n",
       "      <td>0.000000</td>\n",
       "      <td>0.000000</td>\n",
       "      <td>0.000000</td>\n",
       "      <td>0.000000</td>\n",
       "      <td>0.000000</td>\n",
       "      <td>0.000000</td>\n",
       "      <td>0.000000</td>\n",
       "      <td>0.028268</td>\n",
       "      <td>0.000000</td>\n",
       "      <td>0.000000</td>\n",
       "      <td>0.000000</td>\n",
       "      <td>0.000000</td>\n",
       "      <td>0.0</td>\n",
       "      <td>0.000000</td>\n",
       "      <td>0.000000</td>\n",
       "      <td>0.000000</td>\n",
       "      <td>0.000000</td>\n",
       "      <td>0.000000</td>\n",
       "    </tr>\n",
       "    <tr>\n",
       "      <th>17</th>\n",
       "      <td>0.000000</td>\n",
       "      <td>0.000000</td>\n",
       "      <td>0.000000</td>\n",
       "      <td>0.000000</td>\n",
       "      <td>0.000000</td>\n",
       "      <td>0.000000</td>\n",
       "      <td>0.000000</td>\n",
       "      <td>0.007067</td>\n",
       "      <td>0.000000</td>\n",
       "      <td>0.000000</td>\n",
       "      <td>0.000000</td>\n",
       "      <td>0.000000</td>\n",
       "      <td>0.0</td>\n",
       "      <td>0.000000</td>\n",
       "      <td>0.000000</td>\n",
       "      <td>0.000000</td>\n",
       "      <td>0.000000</td>\n",
       "      <td>0.000000</td>\n",
       "    </tr>\n",
       "    <tr>\n",
       "      <th>7</th>\n",
       "      <td>0.000000</td>\n",
       "      <td>0.000000</td>\n",
       "      <td>0.000000</td>\n",
       "      <td>0.000000</td>\n",
       "      <td>0.000000</td>\n",
       "      <td>0.000000</td>\n",
       "      <td>0.000000</td>\n",
       "      <td>0.000000</td>\n",
       "      <td>0.000000</td>\n",
       "      <td>0.000000</td>\n",
       "      <td>0.000000</td>\n",
       "      <td>0.000000</td>\n",
       "      <td>0.0</td>\n",
       "      <td>0.000000</td>\n",
       "      <td>0.000000</td>\n",
       "      <td>0.000000</td>\n",
       "      <td>0.000000</td>\n",
       "      <td>0.008029</td>\n",
       "    </tr>\n",
       "    <tr>\n",
       "      <th>a</th>\n",
       "      <td>0.000000</td>\n",
       "      <td>0.000000</td>\n",
       "      <td>0.000000</td>\n",
       "      <td>0.000000</td>\n",
       "      <td>0.000000</td>\n",
       "      <td>0.000000</td>\n",
       "      <td>0.000000</td>\n",
       "      <td>0.000000</td>\n",
       "      <td>0.000000</td>\n",
       "      <td>0.000000</td>\n",
       "      <td>0.000000</td>\n",
       "      <td>0.000000</td>\n",
       "      <td>0.0</td>\n",
       "      <td>0.000000</td>\n",
       "      <td>0.000000</td>\n",
       "      <td>0.000000</td>\n",
       "      <td>0.000000</td>\n",
       "      <td>0.000000</td>\n",
       "    </tr>\n",
       "    <tr>\n",
       "      <th>about</th>\n",
       "      <td>0.000000</td>\n",
       "      <td>0.000000</td>\n",
       "      <td>0.000000</td>\n",
       "      <td>0.000000</td>\n",
       "      <td>0.000000</td>\n",
       "      <td>0.006278</td>\n",
       "      <td>0.000000</td>\n",
       "      <td>0.000000</td>\n",
       "      <td>0.000000</td>\n",
       "      <td>0.000000</td>\n",
       "      <td>0.004069</td>\n",
       "      <td>0.002210</td>\n",
       "      <td>0.0</td>\n",
       "      <td>0.000000</td>\n",
       "      <td>0.004342</td>\n",
       "      <td>0.000000</td>\n",
       "      <td>0.002328</td>\n",
       "      <td>0.003052</td>\n",
       "    </tr>\n",
       "    <tr>\n",
       "      <th>...</th>\n",
       "      <td>...</td>\n",
       "      <td>...</td>\n",
       "      <td>...</td>\n",
       "      <td>...</td>\n",
       "      <td>...</td>\n",
       "      <td>...</td>\n",
       "      <td>...</td>\n",
       "      <td>...</td>\n",
       "      <td>...</td>\n",
       "      <td>...</td>\n",
       "      <td>...</td>\n",
       "      <td>...</td>\n",
       "      <td>...</td>\n",
       "      <td>...</td>\n",
       "      <td>...</td>\n",
       "      <td>...</td>\n",
       "      <td>...</td>\n",
       "      <td>...</td>\n",
       "    </tr>\n",
       "    <tr>\n",
       "      <th>you'll</th>\n",
       "      <td>0.000000</td>\n",
       "      <td>0.000000</td>\n",
       "      <td>0.003120</td>\n",
       "      <td>0.000000</td>\n",
       "      <td>0.000000</td>\n",
       "      <td>0.000000</td>\n",
       "      <td>0.000000</td>\n",
       "      <td>0.000000</td>\n",
       "      <td>0.000000</td>\n",
       "      <td>0.000000</td>\n",
       "      <td>0.005571</td>\n",
       "      <td>0.015132</td>\n",
       "      <td>0.0</td>\n",
       "      <td>0.000000</td>\n",
       "      <td>0.071340</td>\n",
       "      <td>0.000000</td>\n",
       "      <td>0.000000</td>\n",
       "      <td>0.000000</td>\n",
       "    </tr>\n",
       "    <tr>\n",
       "      <th>you're</th>\n",
       "      <td>0.003381</td>\n",
       "      <td>0.000000</td>\n",
       "      <td>0.005752</td>\n",
       "      <td>0.000000</td>\n",
       "      <td>0.004560</td>\n",
       "      <td>0.007922</td>\n",
       "      <td>0.000000</td>\n",
       "      <td>0.000000</td>\n",
       "      <td>0.000000</td>\n",
       "      <td>0.000000</td>\n",
       "      <td>0.012836</td>\n",
       "      <td>0.006973</td>\n",
       "      <td>0.0</td>\n",
       "      <td>0.018953</td>\n",
       "      <td>0.000000</td>\n",
       "      <td>0.000000</td>\n",
       "      <td>0.002937</td>\n",
       "      <td>0.011552</td>\n",
       "    </tr>\n",
       "    <tr>\n",
       "      <th>you've</th>\n",
       "      <td>0.000000</td>\n",
       "      <td>0.000000</td>\n",
       "      <td>0.000000</td>\n",
       "      <td>0.000000</td>\n",
       "      <td>0.000000</td>\n",
       "      <td>0.000000</td>\n",
       "      <td>0.000000</td>\n",
       "      <td>0.000000</td>\n",
       "      <td>0.017624</td>\n",
       "      <td>0.000000</td>\n",
       "      <td>0.000000</td>\n",
       "      <td>0.000000</td>\n",
       "      <td>0.0</td>\n",
       "      <td>0.000000</td>\n",
       "      <td>0.000000</td>\n",
       "      <td>0.000000</td>\n",
       "      <td>0.000000</td>\n",
       "      <td>0.000000</td>\n",
       "    </tr>\n",
       "    <tr>\n",
       "      <th>your</th>\n",
       "      <td>0.003969</td>\n",
       "      <td>0.004845</td>\n",
       "      <td>0.002701</td>\n",
       "      <td>0.000655</td>\n",
       "      <td>0.000714</td>\n",
       "      <td>0.002789</td>\n",
       "      <td>0.002162</td>\n",
       "      <td>0.000000</td>\n",
       "      <td>0.000000</td>\n",
       "      <td>0.001469</td>\n",
       "      <td>0.001205</td>\n",
       "      <td>0.000655</td>\n",
       "      <td>0.0</td>\n",
       "      <td>0.006356</td>\n",
       "      <td>0.000000</td>\n",
       "      <td>0.001074</td>\n",
       "      <td>0.000000</td>\n",
       "      <td>0.001808</td>\n",
       "    </tr>\n",
       "    <tr>\n",
       "      <th>yours</th>\n",
       "      <td>0.000000</td>\n",
       "      <td>0.005452</td>\n",
       "      <td>0.000000</td>\n",
       "      <td>0.000000</td>\n",
       "      <td>0.000000</td>\n",
       "      <td>0.000000</td>\n",
       "      <td>0.000000</td>\n",
       "      <td>0.000000</td>\n",
       "      <td>0.000000</td>\n",
       "      <td>0.000000</td>\n",
       "      <td>0.008138</td>\n",
       "      <td>0.000000</td>\n",
       "      <td>0.0</td>\n",
       "      <td>0.000000</td>\n",
       "      <td>0.000000</td>\n",
       "      <td>0.000000</td>\n",
       "      <td>0.000000</td>\n",
       "      <td>0.000000</td>\n",
       "    </tr>\n",
       "  </tbody>\n",
       "</table>\n",
       "<p>1026 rows × 18 columns</p>\n",
       "</div>"
      ],
      "text/plain": [
       "        Afterglow  Cornelia Street  Cruel Summer  Daylight  \\\n",
       "word                                                         \n",
       "16th     0.000000         0.000000      0.000000  0.000000   \n",
       "17       0.000000         0.000000      0.000000  0.000000   \n",
       "7        0.000000         0.000000      0.000000  0.000000   \n",
       "a        0.000000         0.000000      0.000000  0.000000   \n",
       "about    0.000000         0.000000      0.000000  0.000000   \n",
       "...           ...              ...           ...       ...   \n",
       "you'll   0.000000         0.000000      0.003120  0.000000   \n",
       "you're   0.003381         0.000000      0.005752  0.000000   \n",
       "you've   0.000000         0.000000      0.000000  0.000000   \n",
       "your     0.003969         0.004845      0.002701  0.000655   \n",
       "yours    0.000000         0.005452      0.000000  0.000000   \n",
       "\n",
       "        Death By A Thousand Cuts  False God  I Forgot That You Existed  \\\n",
       "word                                                                     \n",
       "16th                    0.000000   0.000000                   0.000000   \n",
       "17                      0.000000   0.000000                   0.000000   \n",
       "7                       0.000000   0.000000                   0.000000   \n",
       "a                       0.000000   0.000000                   0.000000   \n",
       "about                   0.000000   0.006278                   0.000000   \n",
       "...                          ...        ...                        ...   \n",
       "you'll                  0.000000   0.000000                   0.000000   \n",
       "you're                  0.004560   0.007922                   0.000000   \n",
       "you've                  0.000000   0.000000                   0.000000   \n",
       "your                    0.000714   0.002789                   0.002162   \n",
       "yours                   0.000000   0.000000                   0.000000   \n",
       "\n",
       "        I Think He Knows  It's Nice To Have A Friend  London Boy     Lover  \\\n",
       "word                                                                         \n",
       "16th            0.028268                    0.000000    0.000000  0.000000   \n",
       "17              0.007067                    0.000000    0.000000  0.000000   \n",
       "7               0.000000                    0.000000    0.000000  0.000000   \n",
       "a               0.000000                    0.000000    0.000000  0.000000   \n",
       "about           0.000000                    0.000000    0.000000  0.004069   \n",
       "...                  ...                         ...         ...       ...   \n",
       "you'll          0.000000                    0.000000    0.000000  0.005571   \n",
       "you're          0.000000                    0.000000    0.000000  0.012836   \n",
       "you've          0.000000                    0.017624    0.000000  0.000000   \n",
       "your            0.000000                    0.000000    0.001469  0.001205   \n",
       "yours           0.000000                    0.000000    0.000000  0.008138   \n",
       "\n",
       "        ME! (Ft. Brendon Urie of Panic! At The Disco)  \\\n",
       "word                                                    \n",
       "16th                                         0.000000   \n",
       "17                                           0.000000   \n",
       "7                                            0.000000   \n",
       "a                                            0.000000   \n",
       "about                                        0.002210   \n",
       "...                                               ...   \n",
       "you'll                                       0.015132   \n",
       "you're                                       0.006973   \n",
       "you've                                       0.000000   \n",
       "your                                         0.000655   \n",
       "yours                                        0.000000   \n",
       "\n",
       "        Miss Americana & The Heartbreak Prince  Paper Rings  \\\n",
       "word                                                          \n",
       "16th                                       0.0     0.000000   \n",
       "17                                         0.0     0.000000   \n",
       "7                                          0.0     0.000000   \n",
       "a                                          0.0     0.000000   \n",
       "about                                      0.0     0.000000   \n",
       "...                                        ...          ...   \n",
       "you'll                                     0.0     0.000000   \n",
       "you're                                     0.0     0.018953   \n",
       "you've                                     0.0     0.000000   \n",
       "your                                       0.0     0.006356   \n",
       "yours                                      0.0     0.000000   \n",
       "\n",
       "        Soon You'll Get Better (Ft. The Chicks)  The Archer   The Man  \\\n",
       "word                                                                    \n",
       "16th                                   0.000000    0.000000  0.000000   \n",
       "17                                     0.000000    0.000000  0.000000   \n",
       "7                                      0.000000    0.000000  0.000000   \n",
       "a                                      0.000000    0.000000  0.000000   \n",
       "about                                  0.004342    0.000000  0.002328   \n",
       "...                                         ...         ...       ...   \n",
       "you'll                                 0.071340    0.000000  0.000000   \n",
       "you're                                 0.000000    0.000000  0.002937   \n",
       "you've                                 0.000000    0.000000  0.000000   \n",
       "your                                   0.000000    0.001074  0.000000   \n",
       "yours                                  0.000000    0.000000  0.000000   \n",
       "\n",
       "        You Need To Calm Down  \n",
       "word                           \n",
       "16th                 0.000000  \n",
       "17                   0.000000  \n",
       "7                    0.008029  \n",
       "a                    0.000000  \n",
       "about                0.003052  \n",
       "...                       ...  \n",
       "you'll               0.000000  \n",
       "you're               0.011552  \n",
       "you've               0.000000  \n",
       "your                 0.001808  \n",
       "yours                0.000000  \n",
       "\n",
       "[1026 rows x 18 columns]"
      ]
     },
     "execution_count": 117,
     "metadata": {},
     "output_type": "execute_result"
    }
   ],
   "source": [
    "# Create a new empty DataFrame to store TF-IDF values.\n",
    "every_tfidf = bpd.DataFrame()\n",
    "\n",
    "# Create an array with the names of all songs on the Lover album.\n",
    "songs_array = np.array(lover_df.index)\n",
    "\n",
    "# Loop through the songs, and for each song, compute a Series of TF-IDF values for each word.\n",
    "for song in songs_array:\n",
    "    # Assign tf_numerators to a Series of the numerators of the TF values of each word, for this song.\n",
    "    tf_numerators = counts_df.get(song)\n",
    "    \n",
    "    # Assign tf_denominator to the denominator of all TF values, for this song. \n",
    "    # Note that this is a single number, not a Series or array.\n",
    "    # We use the same denominator when calculating the TF of each word, for this song.\n",
    "    tf_denominator = counts_df.get(song).sum()\n",
    "    \n",
    "    # Assign tfs to a Series of the TF values of each word, for this song.\n",
    "    tfs = (tf_numerators / tf_denominator)\n",
    "    \n",
    "    # Assign tfidfs to a Series of the TF-IDF values of each word, for this song.\n",
    "    # Remember that you've already calculated the IDF of each word, so use those values here.\n",
    "    tfidfs = tfs * idf_array\n",
    "    \n",
    "    # Add a new column to the DataFrame every_tfidf.\n",
    "    # The column name is the song title and the contents are the values in tfidfs.\n",
    "    # Don't worry about how the line of code below works.\n",
    "    every_tfidf = every_tfidf.assign(**{song: tfidfs})\n",
    "\n",
    "every_tfidf"
   ]
  },
  {
   "cell_type": "code",
   "execution_count": 118,
   "id": "81c1cfd4",
   "metadata": {
    "deletable": false,
    "editable": false
   },
   "outputs": [
    {
     "data": {
      "text/html": [
       "<p><strong><pre style='display: inline;'>q4_7</pre></strong> passed!</p>"
      ],
      "text/plain": [
       "q4_7 results: All test cases passed!"
      ]
     },
     "execution_count": 118,
     "metadata": {},
     "output_type": "execute_result"
    }
   ],
   "source": [
    "grader.check(\"q4_7\")"
   ]
  },
  {
   "cell_type": "markdown",
   "id": "2863875c",
   "metadata": {},
   "source": [
    "It's a good idea to verify that the TF-IDF of the word `'about'` in the song `'You Need To Calm Down'` according to the DataFrame above is the same as you calculated in Question 4.5. Let's do that using code. The following cell should evaluate to `True`."
   ]
  },
  {
   "cell_type": "code",
   "execution_count": 119,
   "id": "fcb1df89",
   "metadata": {},
   "outputs": [
    {
     "data": {
      "text/plain": [
       "True"
      ]
     },
     "execution_count": 119,
     "metadata": {},
     "output_type": "execute_result"
    }
   ],
   "source": [
    "every_tfidf.get('You Need To Calm Down').loc['about'] == tfidf_about"
   ]
  },
  {
   "cell_type": "markdown",
   "id": "6b7ccadc",
   "metadata": {},
   "source": [
    "Now that we've done the hard work of calculating all these TF-IDF values, it's time to reap the benefits and find our keywords!\n",
    "\n",
    "**Question 4.8.** Find the 10 words with the highest TF-IDF values for the song `'Cruel Summer'`. Store these words in an array called `top_10_summer`. Sort the words in decreasing order of TF-IDF, breaking ties any way you like. These words should be a good summary for `'Cruel Summer'`. ⛱️"
   ]
  },
  {
   "cell_type": "code",
   "execution_count": 120,
   "id": "2a0bd29e",
   "metadata": {
    "scrolled": true
   },
   "outputs": [
    {
     "data": {
      "text/plain": [
       "array(['summer', 'woahoh', 'cruel', 'roll', 'yeah', 'ooh', 'waiting',\n",
       "       'shape', 'breakable', 'keep'], dtype=object)"
      ]
     },
     "execution_count": 120,
     "metadata": {},
     "output_type": "execute_result"
    }
   ],
   "source": [
    "top_10_summer = np.array(every_tfidf.sort_values(by = 'Cruel Summer', ascending = False).take(np.arange(10)).index)\n",
    "top_10_summer"
   ]
  },
  {
   "cell_type": "code",
   "execution_count": 121,
   "id": "a08cb8ce",
   "metadata": {
    "deletable": false,
    "editable": false
   },
   "outputs": [
    {
     "data": {
      "text/html": [
       "<p><strong><pre style='display: inline;'>q4_8</pre></strong> passed!</p>"
      ],
      "text/plain": [
       "q4_8 results: All test cases passed!"
      ]
     },
     "execution_count": 121,
     "metadata": {},
     "output_type": "execute_result"
    }
   ],
   "source": [
    "grader.check(\"q4_8\")"
   ]
  },
  {
   "cell_type": "markdown",
   "id": "c3d6ecde",
   "metadata": {},
   "source": [
    "**Question 4.9.** Complete the implementation of the function `ten_keywords`, which takes in the name of a song on the `'Lover'` album and returns an array of the 10 words with the highest TF-IDF values, sorted in decreasing order of TF-IDF. Again, ties can be broken in any way."
   ]
  },
  {
   "cell_type": "code",
   "execution_count": 122,
   "id": "11657b6f",
   "metadata": {},
   "outputs": [
    {
     "data": {
      "text/plain": [
       "array(['fancy', 'london', 'boy', 'ooh', 'love', 'mates', 'child', 'likes',\n",
       "       'rumors', 'took'], dtype=object)"
      ]
     },
     "execution_count": 122,
     "metadata": {},
     "output_type": "execute_result"
    }
   ],
   "source": [
    "def ten_keywords(song_name):\n",
    "    return np.array(every_tfidf\n",
    "                    .sort_values(by = song_name, ascending = False)\n",
    "                    .take(np.arange(10))\n",
    "                    .index\n",
    "                   )\n",
    "    \n",
    "# Here's one sample call, but try some more!\n",
    "ten_keywords('London Boy')"
   ]
  },
  {
   "cell_type": "code",
   "execution_count": 123,
   "id": "317ca451",
   "metadata": {
    "deletable": false,
    "editable": false
   },
   "outputs": [
    {
     "data": {
      "text/html": [
       "<p><strong><pre style='display: inline;'>q4_9</pre></strong> passed!</p>"
      ],
      "text/plain": [
       "q4_9 results: All test cases passed!"
      ]
     },
     "execution_count": 123,
     "metadata": {},
     "output_type": "execute_result"
    }
   ],
   "source": [
    "grader.check(\"q4_9\")"
   ]
  },
  {
   "cell_type": "markdown",
   "id": "cc5dc55d",
   "metadata": {},
   "source": [
    "Let's have some fun visualizing the keywords for each song in a word cloud. The code provided below, adapted from an [article by Tia Plagata](https://towardsdatascience.com/how-to-create-beautiful-word-clouds-in-python-cfcf85141214), creates a word cloud for any song on the `'Lover'` album. A word cloud is a type of data visualization for text data, showing more important words as bigger and bolder. Try it out, and feel free to have fun with it! "
   ]
  },
  {
   "cell_type": "code",
   "execution_count": 124,
   "id": "5103d0fa",
   "metadata": {},
   "outputs": [
    {
     "data": {
      "application/vnd.jupyter.widget-view+json": {
       "model_id": "eee9a1f44bf94645a8cfe7d71bdf1386",
       "version_major": 2,
       "version_minor": 0
      },
      "text/plain": [
       "Dropdown(description='Song', index=6, layout=Layout(width='525px'), options=('Afterglow', 'Cornelia Street', '…"
      ]
     },
     "metadata": {},
     "output_type": "display_data"
    },
    {
     "data": {
      "image/png": "[encoded data removed]",
      "text/plain": [
       "<Figure size 700x500 with 1 Axes>"
      ]
     },
     "metadata": {},
     "output_type": "display_data"
    }
   ],
   "source": [
    "# We need to import some packages to make word clouds.\n",
    "from wordcloud import WordCloud\n",
    "from PIL import Image\n",
    "\n",
    "# This function creates a word cloud for a given song.\n",
    "def generate_lyrics_wordcloud(song_name):\n",
    "    cloud = WordCloud(scale=3,\n",
    "                      max_words=150,\n",
    "                      colormap='RdPu',\n",
    "                      mask=np.array(Image.open('data/images/heart.jpeg')),\n",
    "                      background_color='white',\n",
    "                      collocations=False).generate(lover_df.get('Lyrics').loc[song_name])\n",
    "    plt.figure(figsize=(7, 5), dpi=100)\n",
    "    plt.imshow(cloud)\n",
    "    plt.axis('off')\n",
    "    plt.show()\n",
    "\n",
    "default_lover = 'I Forgot That You Existed'\n",
    "\n",
    "song_options_lover = np.array(lover_df.index)\n",
    "song_widget_lover = widgets.Dropdown(options=song_options_lover, description='Song', layout={'width': '525px'}, value=default_lover)\n",
    "\n",
    "def change_rec_lover(change):\n",
    "    if change['name'] == 'value' and change['new'] != change['old']:\n",
    "        clear_output()\n",
    "        display(song_widget_lover)\n",
    "        display(HTML('Note: It may take a few seconds for the updated word cloud to appear.'))\n",
    "        generate_lyrics_wordcloud(song_widget_lover.value)\n",
    "\n",
    "display(song_widget_lover)\n",
    "generate_lyrics_wordcloud(default_lover)\n",
    "song_widget_lover.observe(change_rec_lover)"
   ]
  },
  {
   "cell_type": "markdown",
   "id": "d737765a",
   "metadata": {},
   "source": [
    "## Parting Thoughts 💭 \n",
    "\n",
    "Big congratulations on finishing the Midterm Project! 🎉 We hope this experience gave you a taste of what doing data science is really like: frustrating at times, but incredibly satisfying when you produce a finished product you're proud of! If you feeling like telling everyone you know about the cool song recommender you created or the beautiful word clouds you generated, that's a good sign!\n",
    "\n",
    "You're likely a stronger programmer and data scientist now than you were before you started this project, after all the effort you put into completing it. As a reminder of the growth you can achieve through hard work, and the fact that success does not come by accident, here's a spoof of Taylor Swift's song `'Mastermind'` about succeeding in DSC 10. \n",
    "\n",
    "```\n",
    "Once upon a time, \n",
    "pandas were just bears, Jupyter was in the sky.\n",
    "I took a ten week course in data science,\n",
    "And learned otherwise.\n",
    "\n",
    "In the front row of class, 9am.\n",
    "Asking questions on Ed yet again.\n",
    "Churning through extra practice problems.\n",
    "Solutions? Don't need them.\n",
    "\n",
    "What if I told you none of it was accidental?\n",
    "From the first class that you taught me, nothing was gonna stop me?\n",
    "I laid the groundwork and then did the hard work.\n",
    "The test cases all passed one at a time.\n",
    "\n",
    "What if I told you I'm a mastermind?\n",
    "I'm good at data science.\n",
    "I just worked all the time. \n",
    "And now I'm a mastermind.\n",
    "\n",
    "You see, all the wisest students had to do it this way.\n",
    "'Cause we were born to understand things as we toil away.\n",
    "\n",
    "If you fail to plan, you plan to fail.\n",
    "Strategy sets the scene for the tale.\n",
    "So I cleared time in my schedule \n",
    "For a lot of nights in Geisel.\n",
    "\n",
    "What if I told you none of it was accidental?\n",
    "From the first class that you taught me, nothing was gonna stop me?\n",
    "I laid the groundwork and then did the hard work.\n",
    "The test cases all passed one at a time.\n",
    "\n",
    "What if I told you I'm a mastermind?\n",
    "I’m good at data science.\n",
    "It was all by design.\n",
    "And now I'm a mastermind.\n",
    "\n",
    "No one wanted to work with me on the big project. \n",
    "So I've been getting all the tutor help I can get.\n",
    "I think they love me for all the effort I have spent.\n",
    "This is the first time I felt the need to confess.\n",
    "And I swear, I'm only understanding this material \n",
    "'Cause I care.\n",
    "\n",
    "So I told you none of it was accidental.\n",
    "And when finals were graded, nothing was gonna stop me.\n",
    "I peeked at Gradescope, exclaimed with newfound hope, \n",
    "\"My final exam grade is ninety nine!\"\n",
    "\n",
    "Because I am a mastermind.\n",
    "I'm good at data science. \n",
    "Yeah, all I can do is smile.\n",
    "'Cause I'm a mastermind.\n",
    "```\n",
    "\n",
    "\n",
    "\n",
    "\n",
    "\n",
    "\n"
   ]
  },
  {
   "cell_type": "markdown",
   "id": "268575ff",
   "metadata": {},
   "source": [
    "<a id='emojiquiz'></a>\n",
    "\n",
    "## Taylor Swift Emoji Quiz 💯\n",
    "\n",
    "Just for fun, here are some emojis that describe particular Taylor Swift songs. See how many you can identify! We'll post the answers on Ed after the project is due. \n",
    "\n",
    "1. 👋👋👶\n",
    "1. ⛔🎮\n",
    "1. 👑❤\n",
    "1. 🖼🔥\n",
    "1. 🕛🌧\n",
    "1. 🍀 1️⃣\n",
    "1. 📃💍\n",
    "1. ❄🔁\n",
    "1. 😢➡🎸\n",
    "1. 🎠\n",
    "1. 🔎🧶\n",
    "1. ⬛🐶\n",
    "1. 🏹\n",
    "1. ❄🏖\n",
    "1. 🚗💨\n",
    "1. 👎🩸\n",
    "1. 🍭🚫\n",
    "1. 🍾😧\n",
    "1. 🍦🏝\n",
    "1. 🧼🧹\n",
    "1. 🃏🔁\n",
    "1. 🌟💡\n",
    "1. 📜➡🍼\n",
    "1. 🧨✈\n",
    "1. 💕📖\n",
    "1. 🗣⏳\n",
    "1. 👻😱\n",
    "1. 🔌👆\n",
    "1. 🚫🦸‍♀️\n",
    "1. 👋💂‍♂️🏙\n",
    "\n"
   ]
  },
  {
   "cell_type": "markdown",
   "id": "9c0eea2c",
   "metadata": {},
   "source": [
    "## References and Data Sources 📖\n",
    "\n",
    "If you're interested in learning more about the data and analysis that inspired this project, check out Alice Zhao's blog post [A Data Scientist Breaks Down All 10 Taylor Swift Albums (The Extended Version)](https://adashofdata.com/2023/03/01/a-data-scientist-breaks-down-all-10-taylor-swift-albums-the-extended-version/). Here's a plot from Alice's analysis showing that Taylor Swift's music is getting more experimental over time.\n",
    "\n",
    "<center><img src='data/images/evolution.jpg' width=600></center>\n",
    "\n",
    "Below are links to all the resources we used in developing this project. Thanks to all the people who provided these resources!\n",
    "\n",
    "- Shayna Kothari, [Taylor Swift Lyric Searcher](https://shaynak.github.io/taylor-swift/) and [source code](https://github.com/shaynak/taylor-swift) \n",
    "- Tia Plagata, [How to Create Beautiful Word Clouds in Python](https://towardsdatascience.com/how-to-create-beautiful-word-clouds-in-python-cfcf85141214)\n",
    "- Melanie Walsh, [Introduction to Cultural Analytics & Python](https://melaniewalsh.github.io/Intro-Cultural-Analytics/welcome.html)\n",
    "- Cameron Watts, [Extracting Song Data From the Spotify API Using Python](https://towardsdatascience.com/extracting-song-data-from-the-spotify-api-using-python-b1e79388d50)\n",
    "- Alice Zhao, A Dash of Data, [A Data Scientist Breaks Down All 10 Taylor Swift Albums (The Extended Version)](https://adashofdata.com/2023/03/01/a-data-scientist-breaks-down-all-10-taylor-swift-albums-the-extended-version/) and [source code](https://github.com/adashofdata/taylor_swift_data)\n",
    "- Lyrics data from [Genius API](https://genius.com/)\n",
    "- Musical data from [Spotify API](https://developer.spotify.com/)\n"
   ]
  },
  {
   "cell_type": "markdown",
   "id": "7a1114b4",
   "metadata": {},
   "source": [
    "**_Citations:_** Did you use any generative artificial intelligence tools to assist you on this assignment? If so, please state, for each tool you used, the name of the tool (ex. ChatGPT) and the problem(s) in this assignment where you used the tool for help."
   ]
  },
  {
   "cell_type": "markdown",
   "id": "4cd6514a",
   "metadata": {},
   "source": [
    "<hr style=\"color:Maroon;background-color:Maroon;border:0 none; height: 3px;\">\n",
    "\n",
    "Please cite tools here.\n",
    "\n",
    "<hr style=\"color:Maroon;background-color:Maroon;border:0 none; height: 3px;\">"
   ]
  },
  {
   "cell_type": "markdown",
   "id": "f6675b9d",
   "metadata": {},
   "source": [
    "## Submission Instructions 📧\n",
    "\n",
    "As usual, follow these steps to submit your assignment:\n",
    "\n",
    "Select `Kernel -> Restart & Run All` to ensure that you have executed all cells, including the test cells.\n",
    "1. Read through the notebook to make sure everything is fine and all tests passed.\n",
    "1. Run the cell below to run all tests, and make sure that they all pass.\n",
    "1. Download your notebook using `File -> Download as -> Notebook (.ipynb)`, then upload your notebook to Gradescope. \n",
    "1. If working with a partner, don't forget to add your partner as a group member on Gradescope!\n",
    "1. Stick around while the Gradescope autograder grades your work. Make sure you see that all tests have passed on Gradescope.\n",
    "1. Check that you have a confirmation email from Gradescope and save it as proof of your submission.\n",
    "\n",
    "If running all the tests at once causes a test to fail that didn't fail when you ran the notebook in order, check to see if you changed a variable's value later in your code. Make sure to use new variable names instead of reusing ones that are used in the tests. \n",
    "\n",
    "Remember, the tests here and on Gradescope just check the format of your answers. We will run correctness tests after the due date has passed."
   ]
  },
  {
   "cell_type": "code",
   "execution_count": 125,
   "id": "69207348",
   "metadata": {},
   "outputs": [
    {
     "data": {
      "text/plain": [
       "q0_1 results: All test cases passed!\n",
       "\n",
       "q0_2 results: All test cases passed!\n",
       "\n",
       "q0_3 results: All test cases passed!\n",
       "\n",
       "q1_1 results: All test cases passed!\n",
       "\n",
       "q1_10 results: All test cases passed!\n",
       "\n",
       "q1_12 results: All test cases passed!\n",
       "\n",
       "q1_13 results: All test cases passed!\n",
       "\n",
       "q1_14 results: All test cases passed!\n",
       "\n",
       "q1_2 results: All test cases passed!\n",
       "\n",
       "q1_3 results: All test cases passed!\n",
       "\n",
       "q1_4 results: All test cases passed!\n",
       "\n",
       "q1_5 results: All test cases passed!\n",
       "\n",
       "q1_6 results: All test cases passed!\n",
       "\n",
       "q1_8 results: All test cases passed!\n",
       "\n",
       "q1_9 results: All test cases passed!\n",
       "\n",
       "q2_1 results: All test cases passed!\n",
       "\n",
       "q2_2 results: All test cases passed!\n",
       "\n",
       "q2_3 results: All test cases passed!\n",
       "\n",
       "q2_4 results: All test cases passed!\n",
       "\n",
       "q2_5 results: All test cases passed!\n",
       "\n",
       "q2_6 results: All test cases passed!\n",
       "\n",
       "q3_1 results: All test cases passed!\n",
       "\n",
       "q3_10 results: All test cases passed!\n",
       "\n",
       "q3_2 results: All test cases passed!\n",
       "\n",
       "q3_3 results: All test cases passed!\n",
       "\n",
       "q3_4 results: All test cases passed!\n",
       "\n",
       "q3_5 results: All test cases passed!\n",
       "\n",
       "q3_6 results: All test cases passed!\n",
       "\n",
       "q3_7 results: All test cases passed!\n",
       "\n",
       "q3_8 results: All test cases passed!\n",
       "\n",
       "q3_9 results: All test cases passed!\n",
       "\n",
       "q4_1 results: All test cases passed!\n",
       "\n",
       "q4_2 results: All test cases passed!\n",
       "\n",
       "q4_3 results: All test cases passed!\n",
       "\n",
       "q4_4 results: All test cases passed!\n",
       "\n",
       "q4_5 results: All test cases passed!\n",
       "\n",
       "q4_6 results: All test cases passed!\n",
       "\n",
       "q4_7 results: All test cases passed!\n",
       "\n",
       "q4_8 results: All test cases passed!\n",
       "\n",
       "q4_9 results: All test cases passed!"
      ]
     },
     "execution_count": 125,
     "metadata": {},
     "output_type": "execute_result"
    }
   ],
   "source": [
    "grader.check_all()"
   ]
  }
 ],
 "metadata": {
  "kernelspec": {
   "display_name": "Python 3 (ipykernel)",
   "language": "python",
   "name": "python3"
  },
  "language_info": {
   "codemirror_mode": {
    "name": "ipython",
    "version": 3
   },
   "file_extension": ".py",
   "mimetype": "text/x-python",
   "name": "python",
   "nbconvert_exporter": "python",
   "pygments_lexer": "ipython3",
   "version": "3.9.5"
  }
 },
 "nbformat": 4,
 "nbformat_minor": 5
}
